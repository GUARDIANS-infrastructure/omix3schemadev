{
 "cells": [
  {
   "cell_type": "markdown",
   "metadata": {},
   "source": [
    "# "
   ]
  },
  {
   "cell_type": "markdown",
   "metadata": {},
   "source": [
    "# Gen3 Schema Development Framework\n",
    "- This notebook provides a framework for developing a gen3 data schema using gdocs as a template."
   ]
  },
  {
   "cell_type": "code",
   "execution_count": 15,
   "metadata": {},
   "outputs": [
    {
     "name": "stdout",
     "output_type": "stream",
     "text": [
      "/Users/alantsui/Library/CloudStorage/OneDrive-TheUniversityofMelbourne/Desktop/Projects/OMIX3 Schema Dev/omix3schemadev\n"
     ]
    }
   ],
   "source": [
    "# shifting working directory to one level above jupyter - Set as needed!\n",
    "%cd /Users/alantsui/Library/CloudStorage/OneDrive-TheUniversityofMelbourne/Desktop/Projects/OMIX3 Schema Dev/omix3schemadev"
   ]
  },
  {
   "cell_type": "markdown",
   "metadata": {},
   "source": [
    "### Pulling data schema from google sheets\n",
    "- pulls design from the following google sheet template [link](https://docs.google.com/spreadsheets/d/1zjDBDvXgb0ydswFBwy47r2c8V1TFnpUj1jcG0xsY7ZI/edit?usp=sharing)\n",
    "- This step involves pulling the schema design from a Google Sheet template. The template can be accessed [here](https://docs.google.com/spreadsheets/d/1zjDBDvXgb0ydswFBwy47r2c8V1TFnpUj1jcG0xsY7ZI/edit?usp=sharing). Feel free to duplicate this spreadsheet and input your own google sheet id along with the tab ids for objects, links, properties, and enums."
   ]
  },
  {
   "cell_type": "code",
   "execution_count": 17,
   "metadata": {
    "vscode": {
     "languageId": "shellscript"
    }
   },
   "outputs": [
    {
     "name": "stdout",
     "output_type": "stream",
     "text": [
      "rm: schema_out: No such file or directory\n"
     ]
    }
   ],
   "source": [
    "# Pulling data schema from google sheets\n",
    "# Note this is loads a gdoc template \n",
    "!rm -R schema_out\n",
    "!python3 sheet2yaml-CLI.py --google-id '1wm3zNkeYjnbUDadxjWNssDhI_KnGN3wFj4_ZMCx3Pis' --objects-gid 0 --links-gid 270346573 --properties-gid 613332252 --enums-gid 1807456496"
   ]
  },
  {
   "cell_type": "code",
   "execution_count": 18,
   "metadata": {
    "vscode": {
     "languageId": "shellscript"
    }
   },
   "outputs": [
    {
     "name": "stdout",
     "output_type": "stream",
     "text": [
      "total 328\n",
      "  0 drwxr-xr-x@ 24 alantsui  staff   768B Feb 27 16:07 \u001b[34m.\u001b[m\u001b[m\n",
      "  0 drwxr-xr-x@  3 alantsui  staff    96B Feb 27 16:07 \u001b[34m..\u001b[m\u001b[m\n",
      " 16 -rw-r--r--@  1 alantsui  staff   4.0K Feb 27 16:07 _definitions.yaml\n",
      "  8 -rw-r--r--@  1 alantsui  staff    25B Feb 27 16:07 _settings.yaml\n",
      "144 -rw-r--r--@  1 alantsui  staff    72K Feb 27 16:07 _terms.yaml\n",
      "  8 -rw-r--r--@  1 alantsui  staff   776B Feb 27 16:07 acknowledgement.yaml\n",
      "  8 -rw-r--r--@  1 alantsui  staff   989B Feb 27 16:07 aligned_reads_file.yaml\n",
      "  8 -rw-r--r--@  1 alantsui  staff   818B Feb 27 16:07 alignment_workflow.yaml\n",
      " 16 -rw-r--r--@  1 alantsui  staff   4.8K Feb 27 16:07 core_metadata_collection.yaml\n",
      "  8 -rw-r--r--@  1 alantsui  staff   974B Feb 27 16:07 demographic.yaml\n",
      "  8 -rw-r--r--@  1 alantsui  staff   747B Feb 27 16:07 genomics_assay.yaml\n",
      "  8 -rw-r--r--@  1 alantsui  staff   963B Feb 27 16:07 lipidomics_assay.yaml\n",
      "  8 -rw-r--r--@  1 alantsui  staff   1.5K Feb 27 16:07 lipidomics_file.yaml\n",
      "  8 -rw-r--r--@  1 alantsui  staff   1.9K Feb 27 16:07 medical_history.yaml\n",
      "  8 -rw-r--r--@  1 alantsui  staff   981B Feb 27 16:07 metabolomics_assay.yaml\n",
      "  8 -rw-r--r--@  1 alantsui  staff   1.5K Feb 27 16:07 metabolomics_file.yaml\n",
      "  8 -rw-r--r--@  1 alantsui  staff   672B Feb 27 16:07 program.yaml\n",
      "  8 -rw-r--r--@  1 alantsui  staff   3.4K Feb 27 16:07 project.yaml\n",
      "  8 -rw-r--r--@  1 alantsui  staff   967B Feb 27 16:07 proteomics_assay.yaml\n",
      "  8 -rw-r--r--@  1 alantsui  staff   1.5K Feb 27 16:07 proteomics_file.yaml\n",
      "  8 -rw-r--r--@  1 alantsui  staff   721B Feb 27 16:07 publication.yaml\n",
      "  8 -rw-r--r--@  1 alantsui  staff   1.1K Feb 27 16:07 sample.yaml\n",
      "  8 -rw-r--r--@  1 alantsui  staff   1.3K Feb 27 16:07 subject.yaml\n",
      "  8 -rw-r--r--@  1 alantsui  staff   1.0K Feb 27 16:07 unaligned_reads_file.yaml\n"
     ]
    }
   ],
   "source": [
    "# Moving schema_out to umccr-dictionary\n",
    "!mkdir -p umccr-dictionary/dictionary/schema_dev/gdcdictionary/schemas\n",
    "!cp schema_out/* umccr-dictionary/dictionary/schema_dev/gdcdictionary/schemas/\n",
    "!ls -lsha umccr-dictionary/dictionary/schema_dev/gdcdictionary/schemas/"
   ]
  },
  {
   "cell_type": "code",
   "execution_count": 19,
   "metadata": {
    "vscode": {
     "languageId": "shellscript"
    }
   },
   "outputs": [
    {
     "name": "stdout",
     "output_type": "stream",
     "text": [
      "Using .env-sample\n",
      "\u001b[33mWARN\u001b[0m[0000] /Users/alantsui/Library/CloudStorage/OneDrive-TheUniversityofMelbourne/Desktop/Projects/OMIX3 Schema Dev/omix3schemadev/umccr-dictionary/docker-compose.yml: the attribute `version` is obsolete, it will be ignored, please remove it to avoid potential confusion \n",
      "Writing schema into /schema/schema_dev.json...\n"
     ]
    }
   ],
   "source": [
    "# compiling and bundling into json\n",
    "!cd umccr-dictionary && make compile program=schema_dev\n"
   ]
  },
  {
   "cell_type": "code",
   "execution_count": 20,
   "metadata": {
    "vscode": {
     "languageId": "shellscript"
    }
   },
   "outputs": [
    {
     "name": "stdout",
     "output_type": "stream",
     "text": [
      "Using .env-sample\n",
      "Validating Data Dictionary: schema_dev\n",
      "[2025-02-27 05:08:49,685][data-simulator][   INFO] Data simulator initialization...\n",
      "[2025-02-27 05:08:49,686][data-simulator][   INFO] Loading dictionary from url http://ddvis/schema/schema_dev.json\n",
      "[2025-02-27 05:08:49,738][data-simulator][   INFO] Initializing graph...\n",
      "[2025-02-27 05:08:49,738][data-simulator][   INFO] Validating...\n",
      "[2025-02-27 05:08:49,738][data-simulator simulate][  ERROR] Node alignment_workflow does not have any required link\n",
      "[2025-02-27 05:08:49,738][data-simulator simulate][  ERROR] Node lipidomics_assay does not have any required link\n",
      "[2025-02-27 05:08:49,738][data-simulator simulate][  ERROR] Node metabolomics_file does not have any required link\n",
      "[2025-02-27 05:08:49,738][data-simulator simulate][  ERROR] Node genomics_assay does not have any required link\n",
      "[2025-02-27 05:08:49,738][data-simulator simulate][  ERROR] Node proteomics_assay does not have any required link\n",
      "[2025-02-27 05:08:49,738][data-simulator simulate][  ERROR] Node unaligned_reads_file does not have any required link\n",
      "[2025-02-27 05:08:49,738][data-simulator simulate][  ERROR] Node proteomics_file does not have any required link\n",
      "[2025-02-27 05:08:49,738][data-simulator simulate][  ERROR] Node metabolomics_assay does not have any required link\n",
      "[2025-02-27 05:08:49,738][data-simulator simulate][  ERROR] Node aligned_reads_file does not have any required link\n",
      "[2025-02-27 05:08:49,739][data-simulator][   INFO] Done!\n"
     ]
    }
   ],
   "source": [
    "# Running Validation\n",
    "!cd umccr-dictionary && make validate program=schema_dev"
   ]
  },
  {
   "cell_type": "code",
   "execution_count": 21,
   "metadata": {
    "vscode": {
     "languageId": "shellscript"
    }
   },
   "outputs": [],
   "source": [
    "# Visualising data dictionary\n",
    "!open http://localhost:8080/#schema/schema_dev.json"
   ]
  },
  {
   "cell_type": "markdown",
   "metadata": {},
   "source": []
  }
 ],
 "metadata": {
  "kernelspec": {
   "display_name": ".venv",
   "language": "python",
   "name": "python3"
  },
  "language_info": {
   "codemirror_mode": {
    "name": "ipython",
    "version": 3
   },
   "file_extension": ".py",
   "mimetype": "text/x-python",
   "name": "python",
   "nbconvert_exporter": "python",
   "pygments_lexer": "ipython3",
   "version": "3.13.2"
  }
 },
 "nbformat": 4,
 "nbformat_minor": 2
}
