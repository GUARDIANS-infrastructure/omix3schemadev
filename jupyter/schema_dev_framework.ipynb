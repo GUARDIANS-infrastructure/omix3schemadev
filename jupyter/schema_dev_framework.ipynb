{
 "cells": [
  {
   "cell_type": "markdown",
   "metadata": {},
   "source": [
    "# "
   ]
  },
  {
   "cell_type": "markdown",
   "metadata": {},
   "source": [
    "# Gen3 Schema Development Framework\n",
    "- This notebook provides a framework for developing a gen3 data schema using gdocs as a template."
   ]
  },
  {
   "cell_type": "code",
   "execution_count": 1,
   "metadata": {},
   "outputs": [
    {
     "name": "stdout",
     "output_type": "stream",
     "text": [
      "/Users/alantsui/Library/CloudStorage/OneDrive-TheUniversityofMelbourne/Desktop/Projects/OMIX3 Schema Dev/omix3schemadev\n"
     ]
    },
    {
     "name": "stderr",
     "output_type": "stream",
     "text": [
      "/Users/alantsui/Library/CloudStorage/OneDrive-TheUniversityofMelbourne/Desktop/Projects/OMIX3 GSS/gen3schemadev/.venv/lib/python3.9/site-packages/IPython/core/magics/osm.py:417: UserWarning: using dhist requires you to install the `pickleshare` library.\n",
      "  self.shell.db['dhist'] = compress_dhist(dhist)[-100:]\n"
     ]
    }
   ],
   "source": [
    "# shifting working directory to one level above jupyter - Set as needed!\n",
    "%cd /Users/alantsui/Library/CloudStorage/OneDrive-TheUniversityofMelbourne/Desktop/Projects/OMIX3 Schema Dev/omix3schemadev"
   ]
  },
  {
   "cell_type": "markdown",
   "metadata": {},
   "source": [
    "### Pulling data schema from google sheets\n",
    "- pulls design from the following google sheet template [link](https://docs.google.com/spreadsheets/d/1zjDBDvXgb0ydswFBwy47r2c8V1TFnpUj1jcG0xsY7ZI/edit?usp=sharing)\n",
    "- This step involves pulling the schema design from a Google Sheet template. The template can be accessed [here](https://docs.google.com/spreadsheets/d/1zjDBDvXgb0ydswFBwy47r2c8V1TFnpUj1jcG0xsY7ZI/edit?usp=sharing). Feel free to duplicate this spreadsheet and input your own google sheet id along with the tab ids for objects, links, properties, and enums."
   ]
  },
  {
   "cell_type": "code",
   "execution_count": 2,
   "metadata": {
    "vscode": {
     "languageId": "shellscript"
    }
   },
   "outputs": [
    {
     "name": "stdout",
     "output_type": "stream",
     "text": [
      "/Users/alantsui/Library/CloudStorage/OneDrive-TheUniversityofMelbourne/Desktop/Projects/OMIX3 GSS/gen3schemadev/.venv/lib/python3.9/site-packages/urllib3/__init__.py:35: NotOpenSSLWarning: urllib3 v2 only supports OpenSSL 1.1.1+, currently the 'ssl' module is compiled with 'LibreSSL 2.8.3'. See: https://github.com/urllib3/urllib3/issues/3020\n",
      "  warnings.warn(\n"
     ]
    }
   ],
   "source": [
    "# Pulling data schema from google sheets\n",
    "# Note this is loads a gdoc template \n",
    "!rm -R schema_out\n",
    "!python3 sheet2yaml-CLI.py --google-id '1wm3zNkeYjnbUDadxjWNssDhI_KnGN3wFj4_ZMCx3Pis' --objects-gid 0 --links-gid 270346573 --properties-gid 613332252 --enums-gid 1807456496"
   ]
  },
  {
   "cell_type": "code",
   "execution_count": 3,
   "metadata": {
    "vscode": {
     "languageId": "shellscript"
    }
   },
   "outputs": [
    {
     "name": "stdout",
     "output_type": "stream",
     "text": [
      "total 328\n",
      "  0 drwxr-xr-x@ 24 alantsui  staff   768B Feb 27 16:12 \u001b[1m\u001b[36m.\u001b[m\u001b[m\n",
      "  0 drwxr-xr-x@  3 alantsui  staff    96B Feb 27 16:12 \u001b[1m\u001b[36m..\u001b[m\u001b[m\n",
      " 16 -rw-r--r--@  1 alantsui  staff   4.0K Apr 10 11:39 _definitions.yaml\n",
      "  8 -rw-r--r--@  1 alantsui  staff    25B Apr 10 11:39 _settings.yaml\n",
      "144 -rw-r--r--@  1 alantsui  staff    72K Apr 10 11:39 _terms.yaml\n",
      "  8 -rw-r--r--@  1 alantsui  staff   776B Apr 10 11:39 acknowledgement.yaml\n",
      "  8 -rw-r--r--@  1 alantsui  staff   1.0K Apr 10 11:39 aligned_reads_file.yaml\n",
      "  8 -rw-r--r--@  1 alantsui  staff   877B Apr 10 11:39 alignment_workflow.yaml\n",
      " 16 -rw-r--r--@  1 alantsui  staff   4.8K Apr 10 11:39 core_metadata_collection.yaml\n",
      "  8 -rw-r--r--@  1 alantsui  staff   974B Apr 10 11:39 demographic.yaml\n",
      "  8 -rw-r--r--@  1 alantsui  staff   809B Apr 10 11:39 genomics_assay.yaml\n",
      "  8 -rw-r--r--@  1 alantsui  staff   1.0K Apr 10 11:39 lipidomics_assay.yaml\n",
      "  8 -rw-r--r--@  1 alantsui  staff   1.5K Apr 10 11:39 lipidomics_file.yaml\n",
      "  8 -rw-r--r--@  1 alantsui  staff   1.9K Apr 10 11:39 medical_history.yaml\n",
      "  8 -rw-r--r--@  1 alantsui  staff   1.0K Apr 10 11:39 metabolomics_assay.yaml\n",
      "  8 -rw-r--r--@  1 alantsui  staff   1.6K Apr 10 11:39 metabolomics_file.yaml\n",
      "  8 -rw-r--r--@  1 alantsui  staff   672B Apr 10 11:39 program.yaml\n",
      "  8 -rw-r--r--@  1 alantsui  staff   3.4K Apr 10 11:39 project.yaml\n",
      "  8 -rw-r--r--@  1 alantsui  staff   1.4K Apr 10 11:39 proteomics_assay.yaml\n",
      "  8 -rw-r--r--@  1 alantsui  staff   2.0K Apr 10 11:39 proteomics_file.yaml\n",
      "  8 -rw-r--r--@  1 alantsui  staff   721B Apr 10 11:39 publication.yaml\n",
      "  8 -rw-r--r--@  1 alantsui  staff   1.3K Apr 10 11:39 sample.yaml\n",
      "  8 -rw-r--r--@  1 alantsui  staff   1.3K Apr 10 11:39 subject.yaml\n",
      "  8 -rw-r--r--@  1 alantsui  staff   1.1K Apr 10 11:39 unaligned_reads_file.yaml\n"
     ]
    }
   ],
   "source": [
    "# Moving schema_out to umccr-dictionary\n",
    "!mkdir -p umccr-dictionary/dictionary/schema_dev/gdcdictionary/schemas\n",
    "!cp schema_out/* umccr-dictionary/dictionary/schema_dev/gdcdictionary/schemas/\n",
    "!ls -lsha umccr-dictionary/dictionary/schema_dev/gdcdictionary/schemas/"
   ]
  },
  {
   "cell_type": "code",
   "execution_count": 4,
   "metadata": {
    "vscode": {
     "languageId": "shellscript"
    }
   },
   "outputs": [
    {
     "name": "stdout",
     "output_type": "stream",
     "text": [
      "Using .env-sample\n",
      "\u001b[33mWARN\u001b[0m[0000] /Users/alantsui/Library/CloudStorage/OneDrive-TheUniversityofMelbourne/Desktop/Projects/OMIX3 Schema Dev/omix3schemadev/umccr-dictionary/docker-compose.yml: the attribute `version` is obsolete, it will be ignored, please remove it to avoid potential confusion \n",
      "Writing schema into /schema/schema_dev.json...\n"
     ]
    }
   ],
   "source": [
    "# compiling and bundling into json\n",
    "!cd umccr-dictionary && make compile program=schema_dev\n"
   ]
  },
  {
   "cell_type": "code",
   "execution_count": 5,
   "metadata": {
    "vscode": {
     "languageId": "shellscript"
    }
   },
   "outputs": [
    {
     "name": "stdout",
     "output_type": "stream",
     "text": [
      "Using .env-sample\n",
      "Validating Data Dictionary: schema_dev\n",
      "[2025-04-10 01:39:40,731][data-simulator][   INFO] Data simulator initialization...\n",
      "[2025-04-10 01:39:40,732][data-simulator][   INFO] Loading dictionary from url http://ddvis/schema/schema_dev.json\n",
      "[2025-04-10 01:39:40,787][data-simulator][   INFO] Initializing graph...\n",
      "[2025-04-10 01:39:40,787][data-simulator][   INFO] Validating...\n",
      "[2025-04-10 01:39:40,788][data-simulator][   INFO] Done!\n"
     ]
    }
   ],
   "source": [
    "# Running Validation\n",
    "!cd umccr-dictionary && make validate program=schema_dev"
   ]
  },
  {
   "cell_type": "code",
   "execution_count": 6,
   "metadata": {
    "vscode": {
     "languageId": "shellscript"
    }
   },
   "outputs": [],
   "source": [
    "# Visualising data dictionary\n",
    "!open http://localhost:8080/#schema/schema_dev.json"
   ]
  },
  {
   "cell_type": "markdown",
   "metadata": {},
   "source": []
  }
 ],
 "metadata": {
  "kernelspec": {
   "display_name": ".venv",
   "language": "python",
   "name": "python3"
  },
  "language_info": {
   "codemirror_mode": {
    "name": "ipython",
    "version": 3
   },
   "file_extension": ".py",
   "mimetype": "text/x-python",
   "name": "python",
   "nbconvert_exporter": "python",
   "pygments_lexer": "ipython3",
   "version": "3.13.2"
  }
 },
 "nbformat": 4,
 "nbformat_minor": 2
}
