{
 "cells": [
  {
   "cell_type": "markdown",
   "metadata": {},
   "source": [
    "# Loading Libraries"
   ]
  },
  {
   "cell_type": "code",
   "execution_count": 2,
   "metadata": {},
   "outputs": [],
   "source": [
    "import gen3schemadev"
   ]
  },
  {
   "cell_type": "code",
   "execution_count": 28,
   "metadata": {
    "vscode": {
     "languageId": "shellscript"
    }
   },
   "outputs": [
    {
     "name": "stdout",
     "output_type": "stream",
     "text": [
      "Current Directory: /Users/harrijh/projects/omix3schemadev\n",
      "settings.yaml dict version value = 0.1.6\n",
      "Dictionary version updated to 0.1.6 in /Users/harrijh/projects/omix3schemadev/output/schema/json/schema_dev.json\n"
     ]
    }
   ],
   "source": [
    "!python scripts/update_dict_version.py '0.1.6'"
   ]
  },
  {
   "cell_type": "markdown",
   "metadata": {},
   "source": [
    "# Defining project list"
   ]
  },
  {
   "cell_type": "code",
   "execution_count": 3,
   "metadata": {},
   "outputs": [
    {
     "data": {
      "text/plain": [
       "['synthetic_dataset_1']"
      ]
     },
     "execution_count": 3,
     "metadata": {},
     "output_type": "execute_result"
    }
   ],
   "source": [
    "project_list = ['synthetic_dataset_1']\n",
    "exclude = ['']\n",
    "project_list_custom = [node for node in project_list if not node in exclude]\n",
    "project_list_custom"
   ]
  },
  {
   "cell_type": "markdown",
   "metadata": {},
   "source": [
    "# Deleting Metadata"
   ]
  },
  {
   "cell_type": "code",
   "execution_count": null,
   "metadata": {},
   "outputs": [],
   "source": [
    "import_order_file = 'config/DataImportOrder.txt'\n",
    "api_endpoint = 'https://data.test.biocommons.org.au/api/v0/'\n",
    "credentials = '/Users/harrijh/keys/omix3_api_key_test.json'\n",
    "\n",
    "for project_id in project_list_custom:\n",
    "    gen3schemadev.gen3datasubmitter.delete_metadata(import_order_file, project_id, api_endpoint, credentials, prompt_for_confirmation=False, exclude_nodes = [ \"program\", \"project\"])\n",
    "    \n",
    "# project_id = project_list_custom[0]\n",
    "# gen3schemadev.gen3datasubmitter.delete_metadata(import_order_file, project_id, api_endpoint, credentials)"
   ]
  },
  {
   "cell_type": "markdown",
   "metadata": {},
   "source": [
    "# Deleting Projects"
   ]
  },
  {
   "cell_type": "code",
   "execution_count": null,
   "metadata": {},
   "outputs": [],
   "source": [
    "# from gen3.auth import Gen3Auth\n",
    "# from gen3.submission import Gen3Submission\n",
    "\n",
    "# credentials = '/Users/harrijh/keys/omix3_api_key_test.json'\n",
    "# auth = Gen3Auth(refresh_file=credentials)\n",
    "# sub = Gen3Submission(auth)\n",
    "\n",
    "\n",
    "# projects = ['BioHeart-CT_Simulated',\n",
    "#  'AusDiab_Simulated',\n",
    "#  'PREDICT_Simulated',\n",
    "#  'EDCAD-PMS_Simulated',\n",
    "#  'Baker-Biobank_Simulated',3\n",
    "#  'CAUGHT-CAD_Simulated']\n",
    "\n",
    "# for project in projects:\n",
    "#     print(f\"Deleting project: {project}\")\n",
    "#     sub.delete_project('program1', project)"
   ]
  },
  {
   "cell_type": "code",
   "execution_count": null,
   "metadata": {
    "vscode": {
     "languageId": "shellscript"
    }
   },
   "outputs": [],
   "source": [
    "# # deleting with shell, copy to terminal \n",
    "# cd /Users/harrijh/projects/ACDCSchemaDev\n",
    "# bash shell/delete_metadata.sh -i output/synthetic_data/transformed/AusDiab_Simulated/DataImportOrder.txt -e https://data.test.biocommons.org.au/api/v0/ -c /Users/harrijh/keys/omix3_api_key_test.json -p 'PREDICT_Simulated'"
   ]
  },
  {
   "cell_type": "code",
   "execution_count": null,
   "metadata": {},
   "outputs": [],
   "source": [
    "project_list_custom"
   ]
  },
  {
   "cell_type": "markdown",
   "metadata": {},
   "source": [
    "need to change base_dir argument to dataimportorder.txt path"
   ]
  },
  {
   "cell_type": "markdown",
   "metadata": {},
   "source": [
    "# Configuring gen3-client"
   ]
  },
  {
   "cell_type": "code",
   "execution_count": 4,
   "metadata": {
    "vscode": {
     "languageId": "shellscript"
    }
   },
   "outputs": [
    {
     "name": "stdout",
     "output_type": "stream",
     "text": [
      "gen3-client version 2025.02\n"
     ]
    }
   ],
   "source": [
    "# use version 1.2.1\n",
    "!gen3-client --version"
   ]
  },
  {
   "cell_type": "code",
   "execution_count": 6,
   "metadata": {
    "vscode": {
     "languageId": "shellscript"
    }
   },
   "outputs": [
    {
     "name": "stdout",
     "output_type": "stream",
     "text": [
      "2025/07/15 14:34:27 A new version of gen3-client is available! The latest version is 2025.7.0. You are using version 2025.02\n",
      "2025/07/15 14:34:27 Please download the latest gen3-client release from https://github.com/uc-cdis/cdis-data-client/releases/latest\n",
      "2025/07/15 14:34:27 Profile 'synthetic_dataset_1' has been configured successfully.\n",
      "2025/07/15 14:34:27 A new version of gen3-client is available! The latest version is 2025.7.0. You are using version 2025.02\n",
      "2025/07/15 14:34:27 Please download the latest gen3-client release from https://github.com/uc-cdis/cdis-data-client/releases/latest\n",
      "2025/07/15 14:34:28 Profile 'dummy' has been configured successfully.\n"
     ]
    }
   ],
   "source": [
    "# Generating config files\n",
    "!gen3-client configure --profile=synthetic_dataset_1 --cred='/Users/harrijh/keys/omix3_api_key_test.json' --apiendpoint='https://omix3.test.biocommons.org.au/api/v0/submission/program1/synthetic_dataset_1/'\n",
    "\n",
    "!gen3-client configure --profile=dummy --cred='/Users/harrijh/keys/omix3_api_key_test.json' --apiendpoint='https://omix3.test.biocommons.org.au/api/v0/submission/program1/'"
   ]
  },
  {
   "cell_type": "code",
   "execution_count": 7,
   "metadata": {
    "vscode": {
     "languageId": "shellscript"
    }
   },
   "outputs": [
    {
     "name": "stdout",
     "output_type": "stream",
     "text": [
      "/Users/harrijh/.gen3/gen3_client_config.ini\n"
     ]
    }
   ],
   "source": [
    "# Config file is here\n",
    "!ls /Users/harrijh/.gen3/gen3_client_config.ini"
   ]
  },
  {
   "cell_type": "code",
   "execution_count": 8,
   "metadata": {
    "vscode": {
     "languageId": "shellscript"
    }
   },
   "outputs": [
    {
     "name": "stdout",
     "output_type": "stream",
     "text": [
      "2025/07/15 14:34:38 A new version of gen3-client is available! The latest version is 2025.7.0. You are using version 2025.02\n",
      "2025/07/15 14:34:38 Please download the latest gen3-client release from https://github.com/uc-cdis/cdis-data-client/releases/latest\n",
      "2025/07/15 14:34:38 \n",
      "You have access to the following resource(s) at https://omix3.test.biocommons.org.au:\n",
      "2025/07/15 14:34:38 /data_file [\n",
      "  {\n",
      "    \"method\": \"file_upload\",\n",
      "    \"service\": \"fence\"\n",
      "  }\n",
      "]\n",
      "2025/07/15 14:34:38 /mds_gateway [\n",
      "  {\n",
      "    \"method\": \"access\",\n",
      "    \"service\": \"mds_gateway\"\n",
      "  }\n",
      "]\n",
      "2025/07/15 14:34:38 /programs [\n",
      "  {\n",
      "    \"method\": \"*\",\n",
      "    \"service\": \"indexd\"\n",
      "  }\n",
      "]\n",
      "2025/07/15 14:34:38 /programs/MyFirstProgram [\n",
      "  {\n",
      "    \"method\": \"*\",\n",
      "    \"service\": \"indexd\"\n",
      "  }\n",
      "]\n",
      "2025/07/15 14:34:38 /programs/MyFirstProgram/projects [\n",
      "  {\n",
      "    \"method\": \"*\",\n",
      "    \"service\": \"indexd\"\n",
      "  }\n",
      "]\n",
      "2025/07/15 14:34:38 /programs/MyFirstProgram/projects/MyFirstProject [\n",
      "  {\n",
      "    \"method\": \"*\",\n",
      "    \"service\": \"indexd\"\n",
      "  }\n",
      "]\n",
      "2025/07/15 14:34:38 /programs/None [\n",
      "  {\n",
      "    \"method\": \"*\",\n",
      "    \"service\": \"indexd\"\n",
      "  }\n",
      "]\n",
      "2025/07/15 14:34:38 /programs/fake_dbgap_accession_number [\n",
      "  {\n",
      "    \"method\": \"*\",\n",
      "    \"service\": \"indexd\"\n",
      "  }\n",
      "]\n",
      "2025/07/15 14:34:38 /programs/fake_dbgap_accession_number/projects [\n",
      "  {\n",
      "    \"method\": \"*\",\n",
      "    \"service\": \"indexd\"\n",
      "  }\n",
      "]\n",
      "2025/07/15 14:34:38 /programs/fake_dbgap_accession_number/projects/synthetic_dataset_1 [\n",
      "  {\n",
      "    \"method\": \"*\",\n",
      "    \"service\": \"indexd\"\n",
      "  }\n",
      "]\n",
      "2025/07/15 14:34:38 /programs/fake_dbgap_accession_number/projects/synthetic_dataset_2 [\n",
      "  {\n",
      "    \"method\": \"*\",\n",
      "    \"service\": \"indexd\"\n",
      "  }\n",
      "]\n",
      "2025/07/15 14:34:38 /programs/fake_dbgap_accession_number/projects/synthetic_dataset_3 [\n",
      "  {\n",
      "    \"method\": \"*\",\n",
      "    \"service\": \"indexd\"\n",
      "  }\n",
      "]\n",
      "2025/07/15 14:34:38 /programs/jnkns [\n",
      "  {\n",
      "    \"method\": \"*\",\n",
      "    \"service\": \"indexd\"\n",
      "  }\n",
      "]\n",
      "2025/07/15 14:34:38 /programs/jnkns/projects [\n",
      "  {\n",
      "    \"method\": \"*\",\n",
      "    \"service\": \"indexd\"\n",
      "  }\n",
      "]\n",
      "2025/07/15 14:34:38 /programs/jnkns/projects/jenkins [\n",
      "  {\n",
      "    \"method\": \"*\",\n",
      "    \"service\": \"indexd\"\n",
      "  }\n",
      "]\n",
      "2025/07/15 14:34:38 /programs/program1 [\n",
      "  {\n",
      "    \"method\": \"*\",\n",
      "    \"service\": \"indexd\"\n",
      "  }\n",
      "]\n",
      "2025/07/15 14:34:38 /programs/program1/projects [\n",
      "  {\n",
      "    \"method\": \"*\",\n",
      "    \"service\": \"indexd\"\n",
      "  }\n",
      "]\n",
      "2025/07/15 14:34:38 /programs/program1/projects/synthetic_dataset_1 [\n",
      "  {\n",
      "    \"method\": \"create\",\n",
      "    \"service\": \"*\"\n",
      "  },\n",
      "  {\n",
      "    \"method\": \"delete\",\n",
      "    \"service\": \"*\"\n",
      "  },\n",
      "  {\n",
      "    \"method\": \"read\",\n",
      "    \"service\": \"*\"\n",
      "  },\n",
      "  {\n",
      "    \"method\": \"read-storage\",\n",
      "    \"service\": \"*\"\n",
      "  },\n",
      "  {\n",
      "    \"method\": \"update\",\n",
      "    \"service\": \"*\"\n",
      "  },\n",
      "  {\n",
      "    \"method\": \"write-storage\",\n",
      "    \"service\": \"*\"\n",
      "  },\n",
      "  {\n",
      "    \"method\": \"*\",\n",
      "    \"service\": \"indexd\"\n",
      "  }\n",
      "]\n",
      "2025/07/15 14:34:38 /programs/program1/projects/synthetic_dataset_2 [\n",
      "  {\n",
      "    \"method\": \"create\",\n",
      "    \"service\": \"*\"\n",
      "  },\n",
      "  {\n",
      "    \"method\": \"delete\",\n",
      "    \"service\": \"*\"\n",
      "  },\n",
      "  {\n",
      "    \"method\": \"read\",\n",
      "    \"service\": \"*\"\n",
      "  },\n",
      "  {\n",
      "    \"method\": \"read-storage\",\n",
      "    \"service\": \"*\"\n",
      "  },\n",
      "  {\n",
      "    \"method\": \"update\",\n",
      "    \"service\": \"*\"\n",
      "  },\n",
      "  {\n",
      "    \"method\": \"write-storage\",\n",
      "    \"service\": \"*\"\n",
      "  },\n",
      "  {\n",
      "    \"method\": \"*\",\n",
      "    \"service\": \"indexd\"\n",
      "  }\n",
      "]\n",
      "2025/07/15 14:34:38 /programs/program1/projects/synthetic_dataset_3 [\n",
      "  {\n",
      "    \"method\": \"create\",\n",
      "    \"service\": \"*\"\n",
      "  },\n",
      "  {\n",
      "    \"method\": \"delete\",\n",
      "    \"service\": \"*\"\n",
      "  },\n",
      "  {\n",
      "    \"method\": \"read\",\n",
      "    \"service\": \"*\"\n",
      "  },\n",
      "  {\n",
      "    \"method\": \"read-storage\",\n",
      "    \"service\": \"*\"\n",
      "  },\n",
      "  {\n",
      "    \"method\": \"update\",\n",
      "    \"service\": \"*\"\n",
      "  },\n",
      "  {\n",
      "    \"method\": \"write-storage\",\n",
      "    \"service\": \"*\"\n",
      "  },\n",
      "  {\n",
      "    \"method\": \"*\",\n",
      "    \"service\": \"indexd\"\n",
      "  }\n",
      "]\n",
      "2025/07/15 14:34:38 /services/sheepdog/submission/program [\n",
      "  {\n",
      "    \"method\": \"*\",\n",
      "    \"service\": \"sheepdog\"\n",
      "  }\n",
      "]\n",
      "2025/07/15 14:34:38 /services/sheepdog/submission/project [\n",
      "  {\n",
      "    \"method\": \"*\",\n",
      "    \"service\": \"sheepdog\"\n",
      "  }\n",
      "]\n",
      "2025/07/15 14:34:38 /sower [\n",
      "  {\n",
      "    \"method\": \"access\",\n",
      "    \"service\": \"job\"\n",
      "  }\n",
      "]\n",
      "2025/07/15 14:34:38 /workspace [\n",
      "  {\n",
      "    \"method\": \"access\",\n",
      "    \"service\": \"jupyterhub\"\n",
      "  }\n",
      "]\n"
     ]
    }
   ],
   "source": [
    "# Checking privileges\n",
    "!gen3-client auth --profile=dummy"
   ]
  },
  {
   "cell_type": "code",
   "execution_count": 9,
   "metadata": {
    "vscode": {
     "languageId": "shellscript"
    }
   },
   "outputs": [
    {
     "name": "stdout",
     "output_type": "stream",
     "text": [
      "\u001b[31m/Users/harrijh/.gen3/logs/BioHeart-CT_Simulated_message_log_20250715143413AEST.log\u001b[m\u001b[m\n",
      "\u001b[31m/Users/harrijh/.gen3/logs/dummy_failed_log_20250623171254AEST.json\u001b[m\u001b[m\n",
      "\u001b[31m/Users/harrijh/.gen3/logs/dummy_message_log_20250623171253AEST.log\u001b[m\u001b[m\n",
      "\u001b[31m/Users/harrijh/.gen3/logs/dummy_message_log_20250715143414AEST.log\u001b[m\u001b[m\n",
      "\u001b[31m/Users/harrijh/.gen3/logs/dummy_message_log_20250715143427AEST.log\u001b[m\u001b[m\n",
      "\u001b[31m/Users/harrijh/.gen3/logs/dummy_message_log_20250715143438AEST.log\u001b[m\u001b[m\n",
      "\u001b[31m/Users/harrijh/.gen3/logs/dummy_succeeded_log.json\u001b[m\u001b[m\n",
      "\u001b[31m/Users/harrijh/.gen3/logs/synthetic_dataset_1_message_log_20250715143427AEST.log\u001b[m\u001b[m\n"
     ]
    }
   ],
   "source": [
    "# Checking current logs\n",
    "!ls /Users/harrijh/.gen3/logs/*"
   ]
  },
  {
   "cell_type": "code",
   "execution_count": null,
   "metadata": {
    "vscode": {
     "languageId": "shellscript"
    }
   },
   "outputs": [],
   "source": [
    "# Clearing gen3-client logs\n",
    "# !rm -r /Users/harrijh/.gen3/logs/*"
   ]
  },
  {
   "cell_type": "markdown",
   "metadata": {},
   "source": [
    "# Creating manifest for gen3-client\n",
    "- reads dummy files and creates a json manifest for the gen3-client"
   ]
  },
  {
   "cell_type": "code",
   "execution_count": null,
   "metadata": {},
   "outputs": [],
   "source": [
    "# # Creating manifests by project\n",
    "# folder_path = '/Users/harrijh/projects/omix3schemadev//output/synthetic_data/files/'\n",
    "# output_manifest_path = '/Users/harrijh/projects/omix3schemadev//output/synthetic_data/manifests/'\n",
    "# for project_id in project_list:\n",
    "#     gen3schemadev.gen3datasubmitter.create_manifest_from_folder(folder_path, project_id, output_manifest_path)"
   ]
  },
  {
   "cell_type": "code",
   "execution_count": 10,
   "metadata": {},
   "outputs": [
    {
     "data": {
      "text/plain": [
       "'Manifest file created at: /Users/harrijh/projects/omix3schemadev/output/synthetic_data/manifests//20250715_manifest.json'"
      ]
     },
     "execution_count": 10,
     "metadata": {},
     "output_type": "execute_result"
    }
   ],
   "source": [
    "# Creating manifest for dummy files\n",
    "folder_path = '/Users/harrijh/projects/omix3schemadev/gen3schemadev/file_type_templates'\n",
    "output_manifest_path = '/Users/harrijh/projects/omix3schemadev/output/synthetic_data/manifests/'\n",
    "\n",
    "gen3schemadev.gen3synthdata.create_manifest_from_folder(folder_path=folder_path, \n",
    "                                                            output_path=output_manifest_path, \n",
    "                                                            exclude_extension=['.md', '.py', '.yaml', '.json','.DS_Store'])"
   ]
  },
  {
   "cell_type": "markdown",
   "metadata": {},
   "source": [
    "# Uploading Dummy Files to S3\n",
    "- Reads in manifest file created above\n",
    "- As of `v1.2.1` gen3-client re-assigns new guids to indexd rather than reading the ones in the manifest file. Luckly these newly assigned guids are stored in a log file which is used in later functions."
   ]
  },
  {
   "cell_type": "code",
   "execution_count": 11,
   "metadata": {
    "vscode": {
     "languageId": "shellscript"
    }
   },
   "outputs": [],
   "source": [
    "# Clearing gen3-client logs\n",
    "!rm -r /Users/harrijh/.gen3/logs/*"
   ]
  },
  {
   "cell_type": "code",
   "execution_count": null,
   "metadata": {
    "vscode": {
     "languageId": "shellscript"
    }
   },
   "outputs": [],
   "source": [
    "# !gen3-client upload-multiple --profile=AusDiab_Simulated --manifest=/Users/harrijh/projects/omix3schemadev//output/synthetic_data/manifests/20240809_AusDiab_Simulated_manifest.json --upload-path=/Users/harrijh/projects/omix3schemadev//output/synthetic_data/files/AusDiab_Simulated/ --numparallel=8\n",
    "\n",
    "# !gen3-client upload-multiple --profile=BioHeart-CT_Simulated --manifest=/Users/harrijh/projects/omix3schemadev//output/synthetic_data/manifests/20240809_BioHeart-CT_Simulated_manifest.json --upload-path=/Users/harrijh/projects/omix3schemadev//output/synthetic_data/files/BioHeart-CT_Simulated/ --numparallel=8\n",
    "\n",
    "# !gen3-client upload-multiple --profile=PREDICT_Simulated --manifest=/Users/harrijh/projects/omix3schemadev//output/synthetic_data/manifests/20240809_PREDICT_Simulated_manifest.json --upload-path=/Users/harrijh/projects/omix3schemadev//output/synthetic_data/files/PREDICT_Simulated/ --numparallel=8\n",
    "\n",
    "# !gen3-client upload-multiple --profile=EDCAD-PMS_Simulated --manifest=/Users/harrijh/projects/omix3schemadev//output/synthetic_data/manifests/20240809_EDCAD-PMS_Simulated_manifest.json --upload-path=/Users/harrijh/projects/omix3schemadev//output/synthetic_data/files/EDCAD-PMS_Simulated/ --numparallel=8\n",
    "\n",
    "# !gen3-client upload-multiple --profile=Baker-Biobank_Simulated --manifest=/Users/harrijh/projects/omix3schemadev//output/synthetic_data/manifests/20240809_Baker-Biobank_Simulated_manifest.json --upload-path=/Users/harrijh/projects/omix3schemadev//output/synthetic_data/files/Baker-Biobank_Simulated/ --numparallel=8\n",
    "\n",
    "# !gen3-client upload-multiple --profile=CAUGHT-CAD_Simulated --manifest=/Users/harrijh/projects/omix3schemadev//output/synthetic_data/manifests/20240809_CAUGHT-CAD_Simulated_manifest.json --upload-path=/Users/harrijh/projects/omix3schemadev//output/synthetic_data/files/CAUGHT-CAD_Simulated/ --numparallel=8\n"
   ]
  },
  {
   "cell_type": "code",
   "execution_count": 12,
   "metadata": {
    "vscode": {
     "languageId": "shellscript"
    }
   },
   "outputs": [
    {
     "name": "stdout",
     "output_type": "stream",
     "text": [
      "2025/07/15 14:36:54 A new version of gen3-client is available! The latest version is 2025.7.0. You are using version 2025.02\n",
      "2025/07/15 14:36:54 Please download the latest gen3-client release from https://github.com/uc-cdis/cdis-data-client/releases/latest\n",
      "Notice: this is the upload method which requires the user to provide GUIDs. In this method files will be uploaded to specified GUIDs.\n",
      "If your intention is to upload files without pre-existing GUIDs, consider to use \"./gen3-client upload\" instead.\n",
      "\n",
      "dummy_serum.csv  742 B / 742 B [=======================================] 100.00%\n",
      "dummy_prot.mgf  32 B / 32 B [==========================================] 100.00%\n",
      "dummy_lipids.tsv  45.57 KiB / 45.57 KiB [==============================] 100.00%\n",
      "dummy_bami.bam.bai  107.51 KiB / 107.51 KiB [==========================] 100.00%\n",
      "dummy_varbed.bed  1.48 KiB / 1.48 KiB [================================] 100.00%\n",
      "dummy_cram.cram  219.52 KiB / 219.52 KiB [=============================] 100.00%\n",
      "dummy_image.dcm  384.00 KiB / 1.39 MiB [========>----------------------]  27.05%\n",
      "dummy_clinical.csv  5.25 KiB / 5.25 KiB [==============================] 100.00%\n",
      "dummy_serum.csv  742 B / 742 B [=======================================] 100.00%\n",
      "dummy_prot.mgf  32 B / 32 B [==========================================] 100.00%\n",
      "dummy_lipids.tsv  45.57 KiB / 45.57 KiB [==============================] 100.00%\n",
      "dummy_bami.bam.bai  107.51 KiB / 107.51 KiB [==========================] 100.00%\n",
      "dummy_varbed.bed  1.48 KiB / 1.48 KiB [================================] 100.00%\n",
      "dummy_cram.cram  219.52 KiB / 219.52 KiB [=============================] 100.00%\n",
      "dummy_image.dcm  800.00 KiB / 1.39 MiB [=================>-------------]  56.36%\n",
      "dummy_clinical.csv  5.25 KiB / 5.25 KiB [==============================] 100.00%\n",
      "dummy_serum.csv  742 B / 742 B [=======================================] 100.00%\n",
      "dummy_prot.mgf  32 B / 32 B [==========================================] 100.00%\n",
      "dummy_lipids.tsv  45.57 KiB / 45.57 KiB [==============================] 100.00%\n",
      "dummy_bami.bam.bai  107.51 KiB / 107.51 KiB [==========================] 100.00%\n",
      "dummy_varbed.bed  1.48 KiB / 1.48 KiB [================================] 100.00%\n",
      "dummy_cram.cram  219.52 KiB / 219.52 KiB [=============================] 100.00%\n",
      "dummy_image.dcm  1.38 MiB / 1.39 MiB [=================================]  99.19%\n",
      "dummy_clinical.csv  5.25 KiB / 5.25 KiB [==============================] 100.00%\n",
      "dummy_serum.csv  742 B / 742 B [=======================================] 100.00%\n",
      "dummy_prot.mgf  32 B / 32 B [==========================================] 100.00%\n",
      "dummy_lipids.tsv  45.57 KiB / 45.57 KiB [==============================] 100.00%\n",
      "dummy_bami.bam.bai  107.51 KiB / 107.51 KiB [==========================] 100.00%\n",
      "dummy_varbed.bed  1.48 KiB / 1.48 KiB [================================] 100.00%\n",
      "dummy_cram.cram  219.52 KiB / 219.52 KiB [=============================] 100.00%\n",
      "dummy_image.dcm  1.39 MiB / 1.39 MiB [=================================] 100.00%\n",
      "dummy_clinical.csv  5.25 KiB / 5.25 KiB [==============================] 100.00%\n",
      "dummy_lipids.txt  45.57 KiB / 45.57 KiB [==============================] 100.00%\n",
      "dummy_fastq.fastq.gz  149 B / 149 B [==================================] 100.00%\n",
      "dummy_crami.cram.crai  2.54 KiB / 2.54 KiB [===========================] 100.00%\n",
      "dummy_vcf.vcf.gz  755 B / 755 B [======================================] 100.00%\n",
      "dummy_vcf.vcf  755 B / 755 B [=========================================] 100.00%\n",
      "dummy_crami.crai  2.54 KiB / 2.54 KiB [================================] 100.00%\n",
      "dummy_serum.txt  742 B / 742 B [=======================================] 100.00%\n",
      "dummy_image.nii  1.22 MiB / 1.39 MiB [=============================>---]  87.92%\n",
      "dummy_lipids.txt  45.57 KiB / 45.57 KiB [==============================] 100.00%\n",
      "dummy_fastq.fastq.gz  149 B / 149 B [==================================] 100.00%\n",
      "dummy_crami.cram.crai  2.54 KiB / 2.54 KiB [===========================] 100.00%\n",
      "dummy_vcf.vcf.gz  755 B / 755 B [======================================] 100.00%\n",
      "dummy_vcf.vcf  755 B / 755 B [=========================================] 100.00%\n",
      "dummy_crami.crai  2.54 KiB / 2.54 KiB [================================] 100.00%\n",
      "dummy_serum.txt  742 B / 742 B [=======================================] 100.00%\n",
      "dummy_image.nii  1.39 MiB / 1.39 MiB [=================================] 100.00%\n",
      "dummy_lipids.txt  45.57 KiB / 45.57 KiB [==============================] 100.00%\n",
      "dummy_fastq.fastq.gz  149 B / 149 B [==================================] 100.00%\n",
      "dummy_crami.cram.crai  2.54 KiB / 2.54 KiB [===========================] 100.00%\n",
      "dummy_vcf.vcf.gz  755 B / 755 B [======================================] 100.00%\n",
      "dummy_vcf.vcf  755 B / 755 B [=========================================] 100.00%\n",
      "dummy_crami.crai  2.54 KiB / 2.54 KiB [================================] 100.00%\n",
      "dummy_serum.txt  742 B / 742 B [=======================================] 100.00%\n",
      "dummy_image.nii  1.39 MiB / 1.39 MiB [=================================] 100.00%\n",
      "dummy_lipids.txt  45.57 KiB / 45.57 KiB [==============================] 100.00%\n",
      "dummy_fastq.fastq.gz  149 B / 149 B [==================================] 100.00%\n",
      "dummy_crami.cram.crai  2.54 KiB / 2.54 KiB [===========================] 100.00%\n",
      "dummy_vcf.vcf.gz  755 B / 755 B [======================================] 100.00%\n",
      "dummy_vcf.vcf  755 B / 755 B [=========================================] 100.00%\n",
      "dummy_crami.crai  2.54 KiB / 2.54 KiB [================================] 100.00%\n",
      "dummy_serum.txt  742 B / 742 B [=======================================] 100.00%\n",
      "dummy_image.nii  1.39 MiB / 1.39 MiB [=================================] 100.00%\n",
      "dummy_lipids.txt  45.57 KiB / 45.57 KiB [==============================] 100.00%\n",
      "dummy_fastq.fastq.gz  149 B / 149 B [==================================] 100.00%\n",
      "dummy_crami.cram.crai  2.54 KiB / 2.54 KiB [===========================] 100.00%\n",
      "dummy_vcf.vcf.gz  755 B / 755 B [======================================] 100.00%\n",
      "dummy_vcf.vcf  755 B / 755 B [=========================================] 100.00%\n",
      "dummy_crami.crai  2.54 KiB / 2.54 KiB [================================] 100.00%\n",
      "dummy_serum.txt  742 B / 742 B [=======================================] 100.00%\n",
      "dummy_image.nii  1.39 MiB / 1.39 MiB [=================================] 100.00%\n",
      "dummy_lipids.txt  45.57 KiB / 45.57 KiB [==============================] 100.00%\n",
      "dummy_fastq.fastq.gz  149 B / 149 B [==================================] 100.00%\n",
      "dummy_crami.cram.crai  2.54 KiB / 2.54 KiB [===========================] 100.00%\n",
      "dummy_vcf.vcf.gz  755 B / 755 B [======================================] 100.00%\n",
      "dummy_vcf.vcf  755 B / 755 B [=========================================] 100.00%\n",
      "dummy_crami.crai  2.54 KiB / 2.54 KiB [================================] 100.00%\n",
      "dummy_serum.txt  742 B / 742 B [=======================================] 100.00%\n",
      "dummy_image.nii  1.39 MiB / 1.39 MiB [=================================] 100.00%\n",
      "dummy_lipids.txt  45.57 KiB / 45.57 KiB [==============================] 100.00%\n",
      "dummy_fastq.fastq.gz  149 B / 149 B [==================================] 100.00%\n",
      "dummy_crami.cram.crai  2.54 KiB / 2.54 KiB [===========================] 100.00%\n",
      "dummy_vcf.vcf.gz  755 B / 755 B [======================================] 100.00%\n",
      "dummy_vcf.vcf  755 B / 755 B [=========================================] 100.00%\n",
      "dummy_crami.crai  2.54 KiB / 2.54 KiB [================================] 100.00%\n",
      "dummy_serum.txt  742 B / 742 B [=======================================] 100.00%\n",
      "dummy_image.nii  1.39 MiB / 1.39 MiB [=================================] 100.00%\n",
      "dummy_clinical.tsv  5.25 KiB / 5.25 KiB [==============================] 100.00%\n",
      "dummy_metab.wiff  64 B / 64 B [========================================] 100.00%\n",
      "dummy_bami.bai  107.51 KiB / 107.51 KiB [==============================] 100.00%\n",
      "dummy_clinical.txt  5.25 KiB / 5.25 KiB [==============================] 100.00%\n",
      "dummy_lipids.csv  45.57 KiB / 45.57 KiB [==============================] 100.00%\n",
      "dummy_bam.bam  219.54 KiB / 219.54 KiB [===============================] 100.00%\n",
      "dummy_serum.tsv  742 B / 742 B [=======================================] 100.00%\n",
      "dummy_clinical.tsv  5.25 KiB / 5.25 KiB [==============================] 100.00%\n",
      "dummy_metab.wiff  64 B / 64 B [========================================] 100.00%\n",
      "dummy_bami.bai  107.51 KiB / 107.51 KiB [==============================] 100.00%\n",
      "dummy_clinical.txt  5.25 KiB / 5.25 KiB [==============================] 100.00%\n",
      "dummy_lipids.csv  45.57 KiB / 45.57 KiB [==============================] 100.00%\n",
      "dummy_bam.bam  219.54 KiB / 219.54 KiB [===============================] 100.00%\n",
      "dummy_serum.tsv  742 B / 742 B [=======================================] 100.00%\n",
      "\n",
      "\n",
      "Submission Results\n",
      "Finished with 0 retries | 23\n",
      "Finished with 1 retry   | 0\n",
      "TOTAL                   | 23\n"
     ]
    }
   ],
   "source": [
    "# Uploading dummy files\n",
    "!gen3-client upload-multiple --profile=dummy --manifest=/Users/harrijh/projects/omix3schemadev/output/synthetic_data/manifests/20250715_manifest.json --upload-path=/Users/harrijh/projects/omix3schemadev/gen3schemadev/file_type_templates/ --numparallel=8"
   ]
  },
  {
   "cell_type": "code",
   "execution_count": 13,
   "metadata": {
    "vscode": {
     "languageId": "shellscript"
    }
   },
   "outputs": [
    {
     "name": "stdout",
     "output_type": "stream",
     "text": [
      "\u001b[31m/Users/harrijh/.gen3/logs/dummy_failed_log_20250715143654AEST.json\u001b[m\u001b[m\n",
      "\u001b[31m/Users/harrijh/.gen3/logs/dummy_message_log_20250715143654AEST.log\u001b[m\u001b[m\n",
      "\u001b[31m/Users/harrijh/.gen3/logs/dummy_succeeded_log.json\u001b[m\u001b[m\n"
     ]
    }
   ],
   "source": [
    "!ls /Users/harrijh/.gen3/logs/*"
   ]
  },
  {
   "cell_type": "markdown",
   "metadata": {},
   "source": [
    "# Extracting GUIDs from Gen3 Upload\n",
    "- Saves a json with filenames and guids created by indexd through gen3-client"
   ]
  },
  {
   "cell_type": "code",
   "execution_count": null,
   "metadata": {},
   "outputs": [],
   "source": [
    "# # For multiple projects\n",
    "# log_path = '/Users/harrijh/.gen3/logs'\n",
    "# output_dir = '/Users/harrijh/projects/omix3schemadev//output/synthetic_data/indexd_guids'\n",
    "# for project_id in project_list_custom:\n",
    "#     gen3schemadev.gen3datasubmitter.extract_gen3_guids(log_path, project_id, output_dir)"
   ]
  },
  {
   "cell_type": "code",
   "execution_count": 14,
   "metadata": {},
   "outputs": [
    {
     "name": "stdout",
     "output_type": "stream",
     "text": [
      "Extracting data from /Users/harrijh/.gen3/logs/dummy_succeeded_log.json\n",
      "Writing data to /Users/harrijh/projects/omix3schemadev//output/synthetic_data/indexd_guids/20250715_dummy_succeeded_log.json\n",
      "Manifest file written to /Users/harrijh/projects/omix3schemadev//output/synthetic_data/indexd_guids/20250715_dummy_succeeded_log.json\n"
     ]
    },
    {
     "data": {
      "text/plain": [
       "[{'date_time': '2025-07-15T14:40:03.617141',\n",
       "  'project_id': 'dummy',\n",
       "  'file_name': 'dummy_bam.bam',\n",
       "  'object_id': 'PREFIX/3ae58745-fd2c-4833-a61b-1b95ad04fd6a'},\n",
       " {'date_time': '2025-07-15T14:40:03.617265',\n",
       "  'project_id': 'dummy',\n",
       "  'file_name': 'dummy_bami.bai',\n",
       "  'object_id': 'PREFIX/d4b9aaf6-c499-4508-926a-b1752b7a2f73'},\n",
       " {'date_time': '2025-07-15T14:40:03.617274',\n",
       "  'project_id': 'dummy',\n",
       "  'file_name': 'dummy_bami.bam.bai',\n",
       "  'object_id': 'PREFIX/06de9fc3-ca21-4c32-80bc-4bea1b2b8a64'},\n",
       " {'date_time': '2025-07-15T14:40:03.617277',\n",
       "  'project_id': 'dummy',\n",
       "  'file_name': 'dummy_clinical.csv',\n",
       "  'object_id': 'PREFIX/c86a05f9-1fc3-4179-9985-92015dbaa7fa'},\n",
       " {'date_time': '2025-07-15T14:40:03.617280',\n",
       "  'project_id': 'dummy',\n",
       "  'file_name': 'dummy_clinical.tsv',\n",
       "  'object_id': 'PREFIX/2e9cec33-dbb2-4fd0-9b87-03ae2fcf1718'},\n",
       " {'date_time': '2025-07-15T14:40:03.617317',\n",
       "  'project_id': 'dummy',\n",
       "  'file_name': 'dummy_clinical.txt',\n",
       "  'object_id': 'PREFIX/d821ee41-fff7-4bda-861d-0de4b68f82c5'},\n",
       " {'date_time': '2025-07-15T14:40:03.617321',\n",
       "  'project_id': 'dummy',\n",
       "  'file_name': 'dummy_cram.cram',\n",
       "  'object_id': 'PREFIX/f7cacf47-93ab-4e00-8e69-fc3dffc42542'},\n",
       " {'date_time': '2025-07-15T14:40:03.617323',\n",
       "  'project_id': 'dummy',\n",
       "  'file_name': 'dummy_crami.crai',\n",
       "  'object_id': 'PREFIX/9631b867-9613-4c5f-8b54-d1f103334d0f'},\n",
       " {'date_time': '2025-07-15T14:40:03.617325',\n",
       "  'project_id': 'dummy',\n",
       "  'file_name': 'dummy_crami.cram.crai',\n",
       "  'object_id': 'PREFIX/b6e95d30-2354-4cce-bb7f-91f35a9c0b52'},\n",
       " {'date_time': '2025-07-15T14:40:03.617327',\n",
       "  'project_id': 'dummy',\n",
       "  'file_name': 'dummy_fastq.fastq.gz',\n",
       "  'object_id': 'PREFIX/ee9a3d9b-afba-4458-8867-0ed110a41e1e'},\n",
       " {'date_time': '2025-07-15T14:40:03.617329',\n",
       "  'project_id': 'dummy',\n",
       "  'file_name': 'dummy_image.dcm',\n",
       "  'object_id': 'PREFIX/66f72a36-c1ed-4206-a369-cadee1edfab6'},\n",
       " {'date_time': '2025-07-15T14:40:03.617336',\n",
       "  'project_id': 'dummy',\n",
       "  'file_name': 'dummy_image.nii',\n",
       "  'object_id': 'PREFIX/760a9f24-7d17-45cd-8c5a-0455e599793c'},\n",
       " {'date_time': '2025-07-15T14:40:03.617352',\n",
       "  'project_id': 'dummy',\n",
       "  'file_name': 'dummy_lipids.csv',\n",
       "  'object_id': 'PREFIX/d59dffe0-af44-4cf9-864c-03ad6ae37bae'},\n",
       " {'date_time': '2025-07-15T14:40:03.617371',\n",
       "  'project_id': 'dummy',\n",
       "  'file_name': 'dummy_lipids.tsv',\n",
       "  'object_id': 'PREFIX/0b0c74bd-da07-4c96-a9db-aaa5edea4d99'},\n",
       " {'date_time': '2025-07-15T14:40:03.617376',\n",
       "  'project_id': 'dummy',\n",
       "  'file_name': 'dummy_lipids.txt',\n",
       "  'object_id': 'PREFIX/61f1e912-3b07-4734-8d3b-cd5f4d2f66d0'},\n",
       " {'date_time': '2025-07-15T14:40:03.617379',\n",
       "  'project_id': 'dummy',\n",
       "  'file_name': 'dummy_metab.wiff',\n",
       "  'object_id': 'PREFIX/c04b61d4-296c-4be8-bf4b-7ce3ae71709e'},\n",
       " {'date_time': '2025-07-15T14:40:03.617391',\n",
       "  'project_id': 'dummy',\n",
       "  'file_name': 'dummy_prot.mgf',\n",
       "  'object_id': 'PREFIX/a861d42a-4f5c-4b91-882e-281ab2fe6949'},\n",
       " {'date_time': '2025-07-15T14:40:03.617396',\n",
       "  'project_id': 'dummy',\n",
       "  'file_name': 'dummy_serum.csv',\n",
       "  'object_id': 'PREFIX/67cef1cf-bfb5-41fb-b317-60aea3521312'},\n",
       " {'date_time': '2025-07-15T14:40:03.617399',\n",
       "  'project_id': 'dummy',\n",
       "  'file_name': 'dummy_serum.tsv',\n",
       "  'object_id': 'PREFIX/ed53a453-16f3-40f7-9daf-1caa6accb36e'},\n",
       " {'date_time': '2025-07-15T14:40:03.617401',\n",
       "  'project_id': 'dummy',\n",
       "  'file_name': 'dummy_serum.txt',\n",
       "  'object_id': 'PREFIX/91404b04-5466-421c-8530-e144ff96d6ee'},\n",
       " {'date_time': '2025-07-15T14:40:03.617403',\n",
       "  'project_id': 'dummy',\n",
       "  'file_name': 'dummy_varbed.bed',\n",
       "  'object_id': 'PREFIX/51288785-bea3-4179-8c19-a8b59872cd74'},\n",
       " {'date_time': '2025-07-15T14:40:03.617405',\n",
       "  'project_id': 'dummy',\n",
       "  'file_name': 'dummy_vcf.vcf',\n",
       "  'object_id': 'PREFIX/86698901-3ca2-4a21-8256-bcc0ea21da16'},\n",
       " {'date_time': '2025-07-15T14:40:03.617407',\n",
       "  'project_id': 'dummy',\n",
       "  'file_name': 'dummy_vcf.vcf.gz',\n",
       "  'object_id': 'PREFIX/2040dbc7-23ca-4033-977e-30fecd82abb6'}]"
      ]
     },
     "execution_count": 14,
     "metadata": {},
     "output_type": "execute_result"
    }
   ],
   "source": [
    "# For Dummy File Upload\n",
    "log_path = '/Users/harrijh/.gen3/logs'\n",
    "output_dir = '/Users/harrijh/projects/omix3schemadev//output/synthetic_data/indexd_guids'\n",
    "project_id = 'dummy'\n",
    "gen3schemadev.gen3synthdata.extract_gen3_guids(log_path, project_id, output_dir)"
   ]
  },
  {
   "cell_type": "markdown",
   "metadata": {},
   "source": [
    "- Might be a good idea to copy the log files to the repo and parse that to the extract_gen3_guids function"
   ]
  },
  {
   "cell_type": "markdown",
   "metadata": {},
   "source": [
    "# Deleting files from S3 and indexd:\n",
    "- Use with caution!!!\n",
    "- [python script to delete files from indexd](https://github.com/uc-cdis/planx-bioinfo-tools/blob/master/submission_tool/delete_unmapped_files.py)"
   ]
  },
  {
   "cell_type": "code",
   "execution_count": null,
   "metadata": {
    "vscode": {
     "languageId": "shellscript"
    }
   },
   "outputs": [],
   "source": [
    "!pyt<DELETE-ME-TO-RUN>hon3 delete_unmapped_files.py -a https://data.test.biocommons.org.au/ -u josh.harris -c /Users/harrijh/keys/omix3_api_key_test.json"
   ]
  },
  {
   "cell_type": "code",
   "execution_count": null,
   "metadata": {
    "vscode": {
     "languageId": "shellscript"
    }
   },
   "outputs": [],
   "source": [
    "# !python3 delete_unmapped_files.py -a https://data.test.biocommons.org.au/ -u josh.harris -c /Users/harrijh/keys/omix3_api_key_test.json"
   ]
  },
  {
   "cell_type": "markdown",
   "metadata": {},
   "source": [
    "# Update Metadata with Indexd GUIDs\n",
    "- Queries indexd, adds object_id and md5 to metadata then saves to indexd folder\n",
    "- Note: Make sure you give indexd enough time to register guids after uploading to bucket with gen3-client"
   ]
  },
  {
   "cell_type": "code",
   "execution_count": null,
   "metadata": {},
   "outputs": [],
   "source": [
    "# # For copied synthetic files\n",
    "# auth_file = '/Users/harrijh/keys/omix3_api_key_test.json'\n",
    "# date = \"20240816\"\n",
    "# for project_id in project_list:\n",
    "#     base_dir = f'output/synthetic_data/transformed/{project_id}'\n",
    "#     indexd_guid_file = f'output/synthetic_data/indexd_guids/{date}_{project_id}_succeeded_log.json'\n",
    "#     gen3schemadev.gen3datasubmitter.update_metadata(base_dir, auth_file, indexd_guid_file)"
   ]
  },
  {
   "cell_type": "code",
   "execution_count": 15,
   "metadata": {
    "vscode": {
     "languageId": "shellscript"
    }
   },
   "outputs": [
    {
     "ename": "SyntaxError",
     "evalue": "invalid syntax (3775121359.py, line 2)",
     "output_type": "error",
     "traceback": [
      "\u001b[0;36m  Cell \u001b[0;32mIn[15], line 2\u001b[0;36m\u001b[0m\n\u001b[0;31m    cd ~/projects/omix3schemadev\u001b[0m\n\u001b[0m       ^\u001b[0m\n\u001b[0;31mSyntaxError\u001b[0m\u001b[0;31m:\u001b[0m invalid syntax\n"
     ]
    }
   ],
   "source": [
    "# This takes a while run in seperate terminal window\n",
    "cd ~/projects/omix3schemadev\n",
    "source .venv/bin/activate\n",
    "project_ids=(\"synthetic_dataset_1\")\n",
    "python3 scripts/update_metadata_indexd_cli.py -d output/synthetic_data/transformed/ -a /Users/harrijh/keys/omix3_api_key_test.json -i output/synthetic_data/indexd_guids/20250715_dummy_succeeded_log.json -p \"${project_ids[@]}\""
   ]
  },
  {
   "cell_type": "markdown",
   "metadata": {},
   "source": [
    "# Checking json metadata files have been updated with indexd object IDs\n",
    "- reads a json metadata file and checks if a data object has been updated with the indexd object ID\n"
   ]
  },
  {
   "cell_type": "code",
   "execution_count": 16,
   "metadata": {},
   "outputs": [
    {
     "name": "stdout",
     "output_type": "stream",
     "text": [
      "WARN output/synthetic_data/transformed/synthetic_dataset_1/indexd/metabolomics_file.json Unlinked Objects Found: 63/110\n",
      "WARN output/synthetic_data/transformed/synthetic_dataset_1/indexd/proteomics_file.json Unlinked Objects Found: 55/110\n",
      "WARN output/synthetic_data/transformed/synthetic_dataset_1/indexd/unaligned_reads_file.json Unlinked Objects Found: 57/110\n",
      "WARN output/synthetic_data/transformed/synthetic_dataset_1/indexd/lipidomics_file.json Unlinked Objects Found: 50/110\n",
      "WARN output/synthetic_data/transformed/synthetic_dataset_1/indexd/aligned_reads_file.json Unlinked Objects Found: 44/110\n"
     ]
    }
   ],
   "source": [
    "import glob\n",
    "import gen3schemadev\n",
    "def unlinked_results(project_id):\n",
    "    # checking for unlinked objects\n",
    "    baseDir = f\"output/synthetic_data/transformed/{project_id}/indexd/\"\n",
    "    names_files = glob.glob(f\"{baseDir}/*_file.json\")\n",
    "    for name_file in names_files:\n",
    "        gen3schemadev.gen3synthdata.check_unlinked_objects(name_file)\n",
    "\n",
    "for project_id in project_list_custom:\n",
    "    unlinked_results(project_id)"
   ]
  },
  {
   "cell_type": "markdown",
   "metadata": {},
   "source": [
    "# Copying remaining metadata to indexd folder\n",
    "- The previous function copied the metadata to `./indexd` which contains the file nodes with updated indexd guids\n",
    "- Now we just need to copy the rest of the metadata files into this folder to complete the set"
   ]
  },
  {
   "cell_type": "code",
   "execution_count": 17,
   "metadata": {},
   "outputs": [
    {
     "name": "stdout",
     "output_type": "stream",
     "text": [
      "Found 14 non-file nodes in output/synthetic_data/transformed/synthetic_dataset_1\n",
      "Copying non-file node: lipidomics_assay.json to output/synthetic_data/transformed/synthetic_dataset_1/indexd\n",
      "Copying non-file node: demographic.json to output/synthetic_data/transformed/synthetic_dataset_1/indexd\n",
      "Copying non-file node: alignment_workflow.json to output/synthetic_data/transformed/synthetic_dataset_1/indexd\n",
      "Copying non-file node: project.json to output/synthetic_data/transformed/synthetic_dataset_1/indexd\n",
      "Copying non-file node: program.json to output/synthetic_data/transformed/synthetic_dataset_1/indexd\n",
      "Copying non-file node: genomics_assay.json to output/synthetic_data/transformed/synthetic_dataset_1/indexd\n",
      "Copying non-file node: proteomics_assay.json to output/synthetic_data/transformed/synthetic_dataset_1/indexd\n",
      "Copying non-file node: DataImportOrder.txt to output/synthetic_data/transformed/synthetic_dataset_1/indexd\n",
      "Copying non-file node: medical_history.json to output/synthetic_data/transformed/synthetic_dataset_1/indexd\n",
      "Copying non-file node: metabolomics_assay.json to output/synthetic_data/transformed/synthetic_dataset_1/indexd\n",
      "Copying non-file node: sample.json to output/synthetic_data/transformed/synthetic_dataset_1/indexd\n",
      "Copying non-file node: subject.json to output/synthetic_data/transformed/synthetic_dataset_1/indexd\n",
      "Copying non-file node: core_metadata_collection.json to output/synthetic_data/transformed/synthetic_dataset_1/indexd\n",
      "Skipping directory: indexd\n",
      "Copying DataImportOrder.txt to output/synthetic_data/transformed/synthetic_dataset_1/indexd\n"
     ]
    }
   ],
   "source": [
    "gen3 = gen3schemadev.gen3synthdata\n",
    "for project_id in project_list_custom:\n",
    "    gen3.copy_remaining_metadata(f\"output/synthetic_data/transformed/{project_id}\")"
   ]
  },
  {
   "cell_type": "markdown",
   "metadata": {},
   "source": [
    "# Copying manually defined project metadata\n"
   ]
  },
  {
   "cell_type": "code",
   "execution_count": 25,
   "metadata": {},
   "outputs": [
    {
     "name": "stdout",
     "output_type": "stream",
     "text": [
      "Successfully wrote metadata for project code: synthetic_dataset_1 to output/synthetic_data/transformed/synthetic_dataset_1/indexd/project.json\n"
     ]
    }
   ],
   "source": [
    "import json\n",
    "project_json_fp = \"manual_metadata/project.json\"\n",
    "metadata_dir = \"output/synthetic_data/transformed\"\n",
    "\n",
    "def load_json(path:str) -> list:\n",
    "    with open(path, 'r') as f:\n",
    "        return json.load(f)\n",
    "    \n",
    "def list_project_codes(metadata: list) -> list:\n",
    "    return [project['code'] for project in metadata]\n",
    "\n",
    "def pull_project_metadata(metadata: list, code: str) -> dict:\n",
    "    for project in metadata:\n",
    "        if project['code'] == code:\n",
    "            return project\n",
    "    raise ValueError(f\"Project with code '{code}' not found.\")\n",
    "\n",
    "def write_project_metadata(metadata: list, code: str, path: str) -> None:\n",
    "    project = pull_project_metadata(metadata, code)\n",
    "    with open(path, 'w') as f:\n",
    "        json.dump(project, f, indent=4)\n",
    "    print(f\"Successfully wrote metadata for project code: {code} to {path}\")\n",
    "\n",
    "project_metadata = load_json(project_json_fp)\n",
    "project_list = list_project_codes(project_metadata)\n",
    "\n",
    "\n",
    "for project in project_list:\n",
    "    write_project_metadata(project_metadata, project, f\"{metadata_dir}/{project}/indexd/project.json\")"
   ]
  },
  {
   "cell_type": "markdown",
   "metadata": {},
   "source": [
    "# Testing Gen3 API and Authentication"
   ]
  },
  {
   "cell_type": "code",
   "execution_count": null,
   "metadata": {},
   "outputs": [],
   "source": [
    "from acdctools import api_test\n",
    "# Example usage\n",
    "api_endpoint = 'https://data.test.biocommons.org.au/api/v0/'\n",
    "credentials = '/Users/harrijh/keys/omix3_api_key_test.json'\n",
    "project_id = 'AusDiab_Simulated'\n",
    "jsn = [\n",
    "    {\n",
    "        \"acknowledgee\": \"sam smith\",\n",
    "        \"contact_type\": \"Data custodian\",\n",
    "        \"orcid\": \"0000-5728-8625-9778\",\n",
    "        \"projects\": {\n",
    "            \"code\": project_id\n",
    "        },\n",
    "        \"submitter_id\": \"acknowledgement_5484634bas\",\n",
    "        \"type\": \"acknowledgement\"\n",
    "    }\n",
    "]\n",
    "\n",
    "api_test.test_gen3_submission(api_endpoint, credentials, project_id, jsn)"
   ]
  },
  {
   "cell_type": "markdown",
   "metadata": {},
   "source": [
    "# Submitting Metadata and Data Files to Gen3"
   ]
  },
  {
   "cell_type": "markdown",
   "metadata": {},
   "source": [
    "## Submitting Project Metadata"
   ]
  },
  {
   "cell_type": "code",
   "execution_count": 26,
   "metadata": {},
   "outputs": [
    {
     "name": "stdout",
     "output_type": "stream",
     "text": [
      "Success: Project created with JSON from output/synthetic_data/transformed/synthetic_dataset_1/indexd/project.json\n"
     ]
    }
   ],
   "source": [
    "import json\n",
    "from gen3.auth import Gen3Auth\n",
    "from gen3.submission import Gen3Submission\n",
    "\n",
    "def submit_project(json_path: str, credentials: str, program: str = 'program1') -> None:\n",
    "    try:\n",
    "        with open(json_path, 'r') as f:\n",
    "            jsn = json.load(f)\n",
    "        \n",
    "        auth = Gen3Auth(refresh_file=credentials)\n",
    "        submit = Gen3Submission(auth)\n",
    "        submit.create_project(program, jsn)\n",
    "        \n",
    "        print(f\"Success: Project created with JSON from {json_path}\")\n",
    "    except Exception as e:\n",
    "        print(f\"Error: Failed to create project with JSON from {json_path}. Exception: {e}\")\n",
    "    \n",
    "    return\n",
    "\n",
    "for project in project_list_custom:\n",
    "    submit_project(f\"output/synthetic_data/transformed/{project}/indexd/project.json\", '/Users/harrijh/keys/omix3_api_key_test.json')\n",
    "    "
   ]
  },
  {
   "cell_type": "code",
   "execution_count": 27,
   "metadata": {},
   "outputs": [
    {
     "name": "stdout",
     "output_type": "stream",
     "text": [
      "\n",
      "\n",
      "IMPORTING\t| synthetic_dataset_1\t| subject\n",
      "output/synthetic_data/transformed/synthetic_dataset_1/indexd/subject.json successfully loaded\n",
      "List 1 size: 19.71 KB, contains 110 objects\n",
      "SUBMITTING\t| synthetic_dataset_1\t| subject\t| 1/1 data splits\n",
      "Error: status code 400; details:\n",
      "{\"code\":400,\"created_entity_count\":0,\"entities\":[],\"entity_error_count\":0,\"message\":\"Transaction aborted due to 111 transactional error(s).\",\"success\":false,\"transaction_id\":10,\"transactional_error_count\":111,\"transactional_errors\":[{\"message\":\"Unable to parse entity. Details: [400] - Node type \\\"subject\\\" not found in dictionary\"},{\"message\":\"Unable to parse entity. Details: [400] - Node type \\\"subject\\\" not found in dictionary\"},{\"message\":\"Unable to parse entity. Details: [400] - Node type \\\"subject\\\" not found in dictionary\"},{\"message\":\"Unable to parse entity. Details: [400] - Node type \\\"subject\\\" not found in dictionary\"},{\"message\":\"Unable to parse entity. Details: [400] - Node type \\\"subject\\\" not found in dictionary\"},{\"message\":\"Unable to parse entity. Details: [400] - Node type \\\"subject\\\" not found in dictionary\"},{\"message\":\"Unable to parse entity. Details: [400] - Node type \\\"subject\\\" not found in dictionary\"},{\"message\":\"Unable to parse entity. Details: [400] - Node type \\\"subject\\\" not found in dictionary\"},{\"message\":\"Unable to parse entity. Details: [400] - Node type \\\"subject\\\" not found in dictionary\"},{\"message\":\"Unable to parse entity. Details: [400] - Node type \\\"subject\\\" not found in dictionary\"},{\"message\":\"Unable to parse entity. Details: [400] - Node type \\\"subject\\\" not found in dictionary\"},{\"message\":\"Unable to parse entity. Details: [400] - Node type \\\"subject\\\" not found in dictionary\"},{\"message\":\"Unable to parse entity. Details: [400] - Node type \\\"subject\\\" not found in dictionary\"},{\"message\":\"Unable to parse entity. Details: [400] - Node type \\\"subject\\\" not found in dictionary\"},{\"message\":\"Unable to parse entity. Details: [400] - Node type \\\"subject\\\" not found in dictionary\"},{\"message\":\"Unable to parse entity. Details: [400] - Node type \\\"subject\\\" not found in dictionary\"},{\"message\":\"Unable to parse entity. Details: [400] - Node type \\\"subject\\\" not found in dictionary\"},{\"message\":\"Unable to parse entity. Details: [400] - Node type \\\"subject\\\" not found in dictionary\"},{\"message\":\"Unable to parse entity. Details: [400] - Node type \\\"subject\\\" not found in dictionary\"},{\"message\":\"Unable to parse entity. Details: [400] - Node type \\\"subject\\\" not found in dictionary\"},{\"message\":\"Unable to parse entity. Details: [400] - Node type \\\"subject\\\" not found in dictionary\"},{\"message\":\"Unable to parse entity. Details: [400] - Node type \\\"subject\\\" not found in dictionary\"},{\"message\":\"Unable to parse entity. Details: [400] - Node type \\\"subject\\\" not found in dictionary\"},{\"message\":\"Unable to parse entity. Details: [400] - Node type \\\"subject\\\" not found in dictionary\"},{\"message\":\"Unable to parse entity. Details: [400] - Node type \\\"subject\\\" not found in dictionary\"},{\"message\":\"Unable to parse entity. Details: [400] - Node type \\\"subject\\\" not found in dictionary\"},{\"message\":\"Unable to parse entity. Details: [400] - Node type \\\"subject\\\" not found in dictionary\"},{\"message\":\"Unable to parse entity. Details: [400] - Node type \\\"subject\\\" not found in dictionary\"},{\"message\":\"Unable to parse entity. Details: [400] - Node type \\\"subject\\\" not found in dictionary\"},{\"message\":\"Unable to parse entity. Details: [400] - Node type \\\"subject\\\" not found in dictionary\"},{\"message\":\"Unable to parse entity. Details: [400] - Node type \\\"subject\\\" not found in dictionary\"},{\"message\":\"Unable to parse entity. Details: [400] - Node type \\\"subject\\\" not found in dictionary\"},{\"message\":\"Unable to parse entity. Details: [400] - Node type \\\"subject\\\" not found in dictionary\"},{\"message\":\"Unable to parse entity. Details: [400] - Node type \\\"subject\\\" not found in dictionary\"},{\"message\":\"Unable to parse entity. Details: [400] - Node type \\\"subject\\\" not found in dictionary\"},{\"message\":\"Unable to parse entity. Details: [400] - Node type \\\"subject\\\" not found in dictionary\"},{\"message\":\"Unable to parse entity. Details: [400] - Node type \\\"subject\\\" not found in dictionary\"},{\"message\":\"Unable to parse entity. Details: [400] - Node type \\\"subject\\\" not found in dictionary\"},{\"message\":\"Unable to parse entity. Details: [400] - Node type \\\"subject\\\" not found in dictionary\"},{\"message\":\"Unable to parse entity. Details: [400] - Node type \\\"subject\\\" not found in dictionary\"},{\"message\":\"Unable to parse entity. Details: [400] - Node type \\\"subject\\\" not found in dictionary\"},{\"message\":\"Unable to parse entity. Details: [400] - Node type \\\"subject\\\" not found in dictionary\"},{\"message\":\"Unable to parse entity. Details: [400] - Node type \\\"subject\\\" not found in dictionary\"},{\"message\":\"Unable to parse entity. Details: [400] - Node type \\\"subject\\\" not found in dictionary\"},{\"message\":\"Unable to parse entity. Details: [400] - Node type \\\"subject\\\" not found in dictionary\"},{\"message\":\"Unable to parse entity. Details: [400] - Node type \\\"subject\\\" not found in dictionary\"},{\"message\":\"Unable to parse entity. Details: [400] - Node type \\\"subject\\\" not found in dictionary\"},{\"message\":\"Unable to parse entity. Details: [400] - Node type \\\"subject\\\" not found in dictionary\"},{\"message\":\"Unable to parse entity. Details: [400] - Node type \\\"subject\\\" not found in dictionary\"},{\"message\":\"Unable to parse entity. Details: [400] - Node type \\\"subject\\\" not found in dictionary\"},{\"message\":\"Unable to parse entity. Details: [400] - Node type \\\"subject\\\" not found in dictionary\"},{\"message\":\"Unable to parse entity. Details: [400] - Node type \\\"subject\\\" not found in dictionary\"},{\"message\":\"Unable to parse entity. Details: [400] - Node type \\\"subject\\\" not found in dictionary\"},{\"message\":\"Unable to parse entity. Details: [400] - Node type \\\"subject\\\" not found in dictionary\"},{\"message\":\"Unable to parse entity. Details: [400] - Node type \\\"subject\\\" not found in dictionary\"},{\"message\":\"Unable to parse entity. Details: [400] - Node type \\\"subject\\\" not found in dictionary\"},{\"message\":\"Unable to parse entity. Details: [400] - Node type \\\"subject\\\" not found in dictionary\"},{\"message\":\"Unable to parse entity. Details: [400] - Node type \\\"subject\\\" not found in dictionary\"},{\"message\":\"Unable to parse entity. Details: [400] - Node type \\\"subject\\\" not found in dictionary\"},{\"message\":\"Unable to parse entity. Details: [400] - Node type \\\"subject\\\" not found in dictionary\"},{\"message\":\"Unable to parse entity. Details: [400] - Node type \\\"subject\\\" not found in dictionary\"},{\"message\":\"Unable to parse entity. Details: [400] - Node type \\\"subject\\\" not found in dictionary\"},{\"message\":\"Unable to parse entity. Details: [400] - Node type \\\"subject\\\" not found in dictionary\"},{\"message\":\"Unable to parse entity. Details: [400] - Node type \\\"subject\\\" not found in dictionary\"},{\"message\":\"Unable to parse entity. Details: [400] - Node type \\\"subject\\\" not found in dictionary\"},{\"message\":\"Unable to parse entity. Details: [400] - Node type \\\"subject\\\" not found in dictionary\"},{\"message\":\"Unable to parse entity. Details: [400] - Node type \\\"subject\\\" not found in dictionary\"},{\"message\":\"Unable to parse entity. Details: [400] - Node type \\\"subject\\\" not found in dictionary\"},{\"message\":\"Unable to parse entity. Details: [400] - Node type \\\"subject\\\" not found in dictionary\"},{\"message\":\"Unable to parse entity. Details: [400] - Node type \\\"subject\\\" not found in dictionary\"},{\"message\":\"Unable to parse entity. Details: [400] - Node type \\\"subject\\\" not found in dictionary\"},{\"message\":\"Unable to parse entity. Details: [400] - Node type \\\"subject\\\" not found in dictionary\"},{\"message\":\"Unable to parse entity. Details: [400] - Node type \\\"subject\\\" not found in dictionary\"},{\"message\":\"Unable to parse entity. Details: [400] - Node type \\\"subject\\\" not found in dictionary\"},{\"message\":\"Unable to parse entity. Details: [400] - Node type \\\"subject\\\" not found in dictionary\"},{\"message\":\"Unable to parse entity. Details: [400] - Node type \\\"subject\\\" not found in dictionary\"},{\"message\":\"Unable to parse entity. Details: [400] - Node type \\\"subject\\\" not found in dictionary\"},{\"message\":\"Unable to parse entity. Details: [400] - Node type \\\"subject\\\" not found in dictionary\"},{\"message\":\"Unable to parse entity. Details: [400] - Node type \\\"subject\\\" not found in dictionary\"},{\"message\":\"Unable to parse entity. Details: [400] - Node type \\\"subject\\\" not found in dictionary\"},{\"message\":\"Unable to parse entity. Details: [400] - Node type \\\"subject\\\" not found in dictionary\"},{\"message\":\"Unable to parse entity. Details: [400] - Node type \\\"subject\\\" not found in dictionary\"},{\"message\":\"Unable to parse entity. Details: [400] - Node type \\\"subject\\\" not found in dictionary\"},{\"message\":\"Unable to parse entity. Details: [400] - Node type \\\"subject\\\" not found in dictionary\"},{\"message\":\"Unable to parse entity. Details: [400] - Node type \\\"subject\\\" not found in dictionary\"},{\"message\":\"Unable to parse entity. Details: [400] - Node type \\\"subject\\\" not found in dictionary\"},{\"message\":\"Unable to parse entity. Details: [400] - Node type \\\"subject\\\" not found in dictionary\"},{\"message\":\"Unable to parse entity. Details: [400] - Node type \\\"subject\\\" not found in dictionary\"},{\"message\":\"Unable to parse entity. Details: [400] - Node type \\\"subject\\\" not found in dictionary\"},{\"message\":\"Unable to parse entity. Details: [400] - Node type \\\"subject\\\" not found in dictionary\"},{\"message\":\"Unable to parse entity. Details: [400] - Node type \\\"subject\\\" not found in dictionary\"},{\"message\":\"Unable to parse entity. Details: [400] - Node type \\\"subject\\\" not found in dictionary\"},{\"message\":\"Unable to parse entity. Details: [400] - Node type \\\"subject\\\" not found in dictionary\"},{\"message\":\"Unable to parse entity. Details: [400] - Node type \\\"subject\\\" not found in dictionary\"},{\"message\":\"Unable to parse entity. Details: [400] - Node type \\\"subject\\\" not found in dictionary\"},{\"message\":\"Unable to parse entity. Details: [400] - Node type \\\"subject\\\" not found in dictionary\"},{\"message\":\"Unable to parse entity. Details: [400] - Node type \\\"subject\\\" not found in dictionary\"},{\"message\":\"Unable to parse entity. Details: [400] - Node type \\\"subject\\\" not found in dictionary\"},{\"message\":\"Unable to parse entity. Details: [400] - Node type \\\"subject\\\" not found in dictionary\"},{\"message\":\"Unable to parse entity. Details: [400] - Node type \\\"subject\\\" not found in dictionary\"},{\"message\":\"Unable to parse entity. Details: [400] - Node type \\\"subject\\\" not found in dictionary\"},{\"message\":\"Unable to parse entity. Details: [400] - Node type \\\"subject\\\" not found in dictionary\"},{\"message\":\"Unable to parse entity. Details: [400] - Node type \\\"subject\\\" not found in dictionary\"},{\"message\":\"Unable to parse entity. Details: [400] - Node type \\\"subject\\\" not found in dictionary\"},{\"message\":\"Unable to parse entity. Details: [400] - Node type \\\"subject\\\" not found in dictionary\"},{\"message\":\"Unable to parse entity. Details: [400] - Node type \\\"subject\\\" not found in dictionary\"},{\"message\":\"Unable to parse entity. Details: [400] - Node type \\\"subject\\\" not found in dictionary\"},{\"message\":\"Unable to parse entity. Details: [400] - Node type \\\"subject\\\" not found in dictionary\"},{\"message\":\"Unable to parse entity. Details: [400] - Node type \\\"subject\\\" not found in dictionary\"},{\"message\":\"Unable to parse entity. Details: [400] - Node type \\\"subject\\\" not found in dictionary\"},\"Nothing to submit\"],\"updated_entity_count\":0}\n",
      "\n",
      "ERROR\t| synthetic_dataset_1\t| subject: 400 Client Error: BAD REQUEST for url: https://omix3.test.biocommons.org.au/api/v0/submission/program1/synthetic_dataset_1 | Retry 1/6\n",
      "SUBMITTING\t| synthetic_dataset_1\t| subject\t| 1/1 data splits\n",
      "Error: status code 400; details:\n",
      "{\"code\":400,\"created_entity_count\":0,\"entities\":[],\"entity_error_count\":0,\"message\":\"Transaction aborted due to 111 transactional error(s).\",\"success\":false,\"transaction_id\":11,\"transactional_error_count\":111,\"transactional_errors\":[{\"message\":\"Unable to parse entity. Details: [400] - Node type \\\"subject\\\" not found in dictionary\"},{\"message\":\"Unable to parse entity. Details: [400] - Node type \\\"subject\\\" not found in dictionary\"},{\"message\":\"Unable to parse entity. Details: [400] - Node type \\\"subject\\\" not found in dictionary\"},{\"message\":\"Unable to parse entity. Details: [400] - Node type \\\"subject\\\" not found in dictionary\"},{\"message\":\"Unable to parse entity. Details: [400] - Node type \\\"subject\\\" not found in dictionary\"},{\"message\":\"Unable to parse entity. Details: [400] - Node type \\\"subject\\\" not found in dictionary\"},{\"message\":\"Unable to parse entity. Details: [400] - Node type \\\"subject\\\" not found in dictionary\"},{\"message\":\"Unable to parse entity. Details: [400] - Node type \\\"subject\\\" not found in dictionary\"},{\"message\":\"Unable to parse entity. Details: [400] - Node type \\\"subject\\\" not found in dictionary\"},{\"message\":\"Unable to parse entity. Details: [400] - Node type \\\"subject\\\" not found in dictionary\"},{\"message\":\"Unable to parse entity. Details: [400] - Node type \\\"subject\\\" not found in dictionary\"},{\"message\":\"Unable to parse entity. Details: [400] - Node type \\\"subject\\\" not found in dictionary\"},{\"message\":\"Unable to parse entity. Details: [400] - Node type \\\"subject\\\" not found in dictionary\"},{\"message\":\"Unable to parse entity. Details: [400] - Node type \\\"subject\\\" not found in dictionary\"},{\"message\":\"Unable to parse entity. Details: [400] - Node type \\\"subject\\\" not found in dictionary\"},{\"message\":\"Unable to parse entity. Details: [400] - Node type \\\"subject\\\" not found in dictionary\"},{\"message\":\"Unable to parse entity. Details: [400] - Node type \\\"subject\\\" not found in dictionary\"},{\"message\":\"Unable to parse entity. Details: [400] - Node type \\\"subject\\\" not found in dictionary\"},{\"message\":\"Unable to parse entity. Details: [400] - Node type \\\"subject\\\" not found in dictionary\"},{\"message\":\"Unable to parse entity. Details: [400] - Node type \\\"subject\\\" not found in dictionary\"},{\"message\":\"Unable to parse entity. Details: [400] - Node type \\\"subject\\\" not found in dictionary\"},{\"message\":\"Unable to parse entity. Details: [400] - Node type \\\"subject\\\" not found in dictionary\"},{\"message\":\"Unable to parse entity. Details: [400] - Node type \\\"subject\\\" not found in dictionary\"},{\"message\":\"Unable to parse entity. Details: [400] - Node type \\\"subject\\\" not found in dictionary\"},{\"message\":\"Unable to parse entity. Details: [400] - Node type \\\"subject\\\" not found in dictionary\"},{\"message\":\"Unable to parse entity. Details: [400] - Node type \\\"subject\\\" not found in dictionary\"},{\"message\":\"Unable to parse entity. Details: [400] - Node type \\\"subject\\\" not found in dictionary\"},{\"message\":\"Unable to parse entity. Details: [400] - Node type \\\"subject\\\" not found in dictionary\"},{\"message\":\"Unable to parse entity. Details: [400] - Node type \\\"subject\\\" not found in dictionary\"},{\"message\":\"Unable to parse entity. Details: [400] - Node type \\\"subject\\\" not found in dictionary\"},{\"message\":\"Unable to parse entity. Details: [400] - Node type \\\"subject\\\" not found in dictionary\"},{\"message\":\"Unable to parse entity. Details: [400] - Node type \\\"subject\\\" not found in dictionary\"},{\"message\":\"Unable to parse entity. Details: [400] - Node type \\\"subject\\\" not found in dictionary\"},{\"message\":\"Unable to parse entity. Details: [400] - Node type \\\"subject\\\" not found in dictionary\"},{\"message\":\"Unable to parse entity. Details: [400] - Node type \\\"subject\\\" not found in dictionary\"},{\"message\":\"Unable to parse entity. Details: [400] - Node type \\\"subject\\\" not found in dictionary\"},{\"message\":\"Unable to parse entity. Details: [400] - Node type \\\"subject\\\" not found in dictionary\"},{\"message\":\"Unable to parse entity. Details: [400] - Node type \\\"subject\\\" not found in dictionary\"},{\"message\":\"Unable to parse entity. Details: [400] - Node type \\\"subject\\\" not found in dictionary\"},{\"message\":\"Unable to parse entity. Details: [400] - Node type \\\"subject\\\" not found in dictionary\"},{\"message\":\"Unable to parse entity. Details: [400] - Node type \\\"subject\\\" not found in dictionary\"},{\"message\":\"Unable to parse entity. Details: [400] - Node type \\\"subject\\\" not found in dictionary\"},{\"message\":\"Unable to parse entity. Details: [400] - Node type \\\"subject\\\" not found in dictionary\"},{\"message\":\"Unable to parse entity. Details: [400] - Node type \\\"subject\\\" not found in dictionary\"},{\"message\":\"Unable to parse entity. Details: [400] - Node type \\\"subject\\\" not found in dictionary\"},{\"message\":\"Unable to parse entity. Details: [400] - Node type \\\"subject\\\" not found in dictionary\"},{\"message\":\"Unable to parse entity. Details: [400] - Node type \\\"subject\\\" not found in dictionary\"},{\"message\":\"Unable to parse entity. Details: [400] - Node type \\\"subject\\\" not found in dictionary\"},{\"message\":\"Unable to parse entity. Details: [400] - Node type \\\"subject\\\" not found in dictionary\"},{\"message\":\"Unable to parse entity. Details: [400] - Node type \\\"subject\\\" not found in dictionary\"},{\"message\":\"Unable to parse entity. Details: [400] - Node type \\\"subject\\\" not found in dictionary\"},{\"message\":\"Unable to parse entity. Details: [400] - Node type \\\"subject\\\" not found in dictionary\"},{\"message\":\"Unable to parse entity. Details: [400] - Node type \\\"subject\\\" not found in dictionary\"},{\"message\":\"Unable to parse entity. Details: [400] - Node type \\\"subject\\\" not found in dictionary\"},{\"message\":\"Unable to parse entity. Details: [400] - Node type \\\"subject\\\" not found in dictionary\"},{\"message\":\"Unable to parse entity. Details: [400] - Node type \\\"subject\\\" not found in dictionary\"},{\"message\":\"Unable to parse entity. Details: [400] - Node type \\\"subject\\\" not found in dictionary\"},{\"message\":\"Unable to parse entity. Details: [400] - Node type \\\"subject\\\" not found in dictionary\"},{\"message\":\"Unable to parse entity. Details: [400] - Node type \\\"subject\\\" not found in dictionary\"},{\"message\":\"Unable to parse entity. Details: [400] - Node type \\\"subject\\\" not found in dictionary\"},{\"message\":\"Unable to parse entity. Details: [400] - Node type \\\"subject\\\" not found in dictionary\"},{\"message\":\"Unable to parse entity. Details: [400] - Node type \\\"subject\\\" not found in dictionary\"},{\"message\":\"Unable to parse entity. Details: [400] - Node type \\\"subject\\\" not found in dictionary\"},{\"message\":\"Unable to parse entity. Details: [400] - Node type \\\"subject\\\" not found in dictionary\"},{\"message\":\"Unable to parse entity. Details: [400] - Node type \\\"subject\\\" not found in dictionary\"},{\"message\":\"Unable to parse entity. Details: [400] - Node type \\\"subject\\\" not found in dictionary\"},{\"message\":\"Unable to parse entity. Details: [400] - Node type \\\"subject\\\" not found in dictionary\"},{\"message\":\"Unable to parse entity. Details: [400] - Node type \\\"subject\\\" not found in dictionary\"},{\"message\":\"Unable to parse entity. Details: [400] - Node type \\\"subject\\\" not found in dictionary\"},{\"message\":\"Unable to parse entity. Details: [400] - Node type \\\"subject\\\" not found in dictionary\"},{\"message\":\"Unable to parse entity. Details: [400] - Node type \\\"subject\\\" not found in dictionary\"},{\"message\":\"Unable to parse entity. Details: [400] - Node type \\\"subject\\\" not found in dictionary\"},{\"message\":\"Unable to parse entity. Details: [400] - Node type \\\"subject\\\" not found in dictionary\"},{\"message\":\"Unable to parse entity. Details: [400] - Node type \\\"subject\\\" not found in dictionary\"},{\"message\":\"Unable to parse entity. Details: [400] - Node type \\\"subject\\\" not found in dictionary\"},{\"message\":\"Unable to parse entity. Details: [400] - Node type \\\"subject\\\" not found in dictionary\"},{\"message\":\"Unable to parse entity. Details: [400] - Node type \\\"subject\\\" not found in dictionary\"},{\"message\":\"Unable to parse entity. Details: [400] - Node type \\\"subject\\\" not found in dictionary\"},{\"message\":\"Unable to parse entity. Details: [400] - Node type \\\"subject\\\" not found in dictionary\"},{\"message\":\"Unable to parse entity. Details: [400] - Node type \\\"subject\\\" not found in dictionary\"},{\"message\":\"Unable to parse entity. Details: [400] - Node type \\\"subject\\\" not found in dictionary\"},{\"message\":\"Unable to parse entity. Details: [400] - Node type \\\"subject\\\" not found in dictionary\"},{\"message\":\"Unable to parse entity. Details: [400] - Node type \\\"subject\\\" not found in dictionary\"},{\"message\":\"Unable to parse entity. Details: [400] - Node type \\\"subject\\\" not found in dictionary\"},{\"message\":\"Unable to parse entity. Details: [400] - Node type \\\"subject\\\" not found in dictionary\"},{\"message\":\"Unable to parse entity. Details: [400] - Node type \\\"subject\\\" not found in dictionary\"},{\"message\":\"Unable to parse entity. Details: [400] - Node type \\\"subject\\\" not found in dictionary\"},{\"message\":\"Unable to parse entity. Details: [400] - Node type \\\"subject\\\" not found in dictionary\"},{\"message\":\"Unable to parse entity. Details: [400] - Node type \\\"subject\\\" not found in dictionary\"},{\"message\":\"Unable to parse entity. Details: [400] - Node type \\\"subject\\\" not found in dictionary\"},{\"message\":\"Unable to parse entity. Details: [400] - Node type \\\"subject\\\" not found in dictionary\"},{\"message\":\"Unable to parse entity. Details: [400] - Node type \\\"subject\\\" not found in dictionary\"},{\"message\":\"Unable to parse entity. Details: [400] - Node type \\\"subject\\\" not found in dictionary\"},{\"message\":\"Unable to parse entity. Details: [400] - Node type \\\"subject\\\" not found in dictionary\"},{\"message\":\"Unable to parse entity. Details: [400] - Node type \\\"subject\\\" not found in dictionary\"},{\"message\":\"Unable to parse entity. Details: [400] - Node type \\\"subject\\\" not found in dictionary\"},{\"message\":\"Unable to parse entity. Details: [400] - Node type \\\"subject\\\" not found in dictionary\"},{\"message\":\"Unable to parse entity. Details: [400] - Node type \\\"subject\\\" not found in dictionary\"},{\"message\":\"Unable to parse entity. Details: [400] - Node type \\\"subject\\\" not found in dictionary\"},{\"message\":\"Unable to parse entity. Details: [400] - Node type \\\"subject\\\" not found in dictionary\"},{\"message\":\"Unable to parse entity. Details: [400] - Node type \\\"subject\\\" not found in dictionary\"},{\"message\":\"Unable to parse entity. Details: [400] - Node type \\\"subject\\\" not found in dictionary\"},{\"message\":\"Unable to parse entity. Details: [400] - Node type \\\"subject\\\" not found in dictionary\"},{\"message\":\"Unable to parse entity. Details: [400] - Node type \\\"subject\\\" not found in dictionary\"},{\"message\":\"Unable to parse entity. Details: [400] - Node type \\\"subject\\\" not found in dictionary\"},{\"message\":\"Unable to parse entity. Details: [400] - Node type \\\"subject\\\" not found in dictionary\"},{\"message\":\"Unable to parse entity. Details: [400] - Node type \\\"subject\\\" not found in dictionary\"},{\"message\":\"Unable to parse entity. Details: [400] - Node type \\\"subject\\\" not found in dictionary\"},{\"message\":\"Unable to parse entity. Details: [400] - Node type \\\"subject\\\" not found in dictionary\"},{\"message\":\"Unable to parse entity. Details: [400] - Node type \\\"subject\\\" not found in dictionary\"},\"Nothing to submit\"],\"updated_entity_count\":0}\n",
      "\n",
      "ERROR\t| synthetic_dataset_1\t| subject: 400 Client Error: BAD REQUEST for url: https://omix3.test.biocommons.org.au/api/v0/submission/program1/synthetic_dataset_1 | Retry 2/6\n",
      "SUBMITTING\t| synthetic_dataset_1\t| subject\t| 1/1 data splits\n",
      "Error: status code 400; details:\n",
      "{\"code\":400,\"created_entity_count\":0,\"entities\":[],\"entity_error_count\":0,\"message\":\"Transaction aborted due to 111 transactional error(s).\",\"success\":false,\"transaction_id\":12,\"transactional_error_count\":111,\"transactional_errors\":[{\"message\":\"Unable to parse entity. Details: [400] - Node type \\\"subject\\\" not found in dictionary\"},{\"message\":\"Unable to parse entity. Details: [400] - Node type \\\"subject\\\" not found in dictionary\"},{\"message\":\"Unable to parse entity. Details: [400] - Node type \\\"subject\\\" not found in dictionary\"},{\"message\":\"Unable to parse entity. Details: [400] - Node type \\\"subject\\\" not found in dictionary\"},{\"message\":\"Unable to parse entity. Details: [400] - Node type \\\"subject\\\" not found in dictionary\"},{\"message\":\"Unable to parse entity. Details: [400] - Node type \\\"subject\\\" not found in dictionary\"},{\"message\":\"Unable to parse entity. Details: [400] - Node type \\\"subject\\\" not found in dictionary\"},{\"message\":\"Unable to parse entity. Details: [400] - Node type \\\"subject\\\" not found in dictionary\"},{\"message\":\"Unable to parse entity. Details: [400] - Node type \\\"subject\\\" not found in dictionary\"},{\"message\":\"Unable to parse entity. Details: [400] - Node type \\\"subject\\\" not found in dictionary\"},{\"message\":\"Unable to parse entity. Details: [400] - Node type \\\"subject\\\" not found in dictionary\"},{\"message\":\"Unable to parse entity. Details: [400] - Node type \\\"subject\\\" not found in dictionary\"},{\"message\":\"Unable to parse entity. Details: [400] - Node type \\\"subject\\\" not found in dictionary\"},{\"message\":\"Unable to parse entity. Details: [400] - Node type \\\"subject\\\" not found in dictionary\"},{\"message\":\"Unable to parse entity. Details: [400] - Node type \\\"subject\\\" not found in dictionary\"},{\"message\":\"Unable to parse entity. Details: [400] - Node type \\\"subject\\\" not found in dictionary\"},{\"message\":\"Unable to parse entity. Details: [400] - Node type \\\"subject\\\" not found in dictionary\"},{\"message\":\"Unable to parse entity. Details: [400] - Node type \\\"subject\\\" not found in dictionary\"},{\"message\":\"Unable to parse entity. Details: [400] - Node type \\\"subject\\\" not found in dictionary\"},{\"message\":\"Unable to parse entity. Details: [400] - Node type \\\"subject\\\" not found in dictionary\"},{\"message\":\"Unable to parse entity. Details: [400] - Node type \\\"subject\\\" not found in dictionary\"},{\"message\":\"Unable to parse entity. Details: [400] - Node type \\\"subject\\\" not found in dictionary\"},{\"message\":\"Unable to parse entity. Details: [400] - Node type \\\"subject\\\" not found in dictionary\"},{\"message\":\"Unable to parse entity. Details: [400] - Node type \\\"subject\\\" not found in dictionary\"},{\"message\":\"Unable to parse entity. Details: [400] - Node type \\\"subject\\\" not found in dictionary\"},{\"message\":\"Unable to parse entity. Details: [400] - Node type \\\"subject\\\" not found in dictionary\"},{\"message\":\"Unable to parse entity. Details: [400] - Node type \\\"subject\\\" not found in dictionary\"},{\"message\":\"Unable to parse entity. Details: [400] - Node type \\\"subject\\\" not found in dictionary\"},{\"message\":\"Unable to parse entity. Details: [400] - Node type \\\"subject\\\" not found in dictionary\"},{\"message\":\"Unable to parse entity. Details: [400] - Node type \\\"subject\\\" not found in dictionary\"},{\"message\":\"Unable to parse entity. Details: [400] - Node type \\\"subject\\\" not found in dictionary\"},{\"message\":\"Unable to parse entity. Details: [400] - Node type \\\"subject\\\" not found in dictionary\"},{\"message\":\"Unable to parse entity. Details: [400] - Node type \\\"subject\\\" not found in dictionary\"},{\"message\":\"Unable to parse entity. Details: [400] - Node type \\\"subject\\\" not found in dictionary\"},{\"message\":\"Unable to parse entity. Details: [400] - Node type \\\"subject\\\" not found in dictionary\"},{\"message\":\"Unable to parse entity. Details: [400] - Node type \\\"subject\\\" not found in dictionary\"},{\"message\":\"Unable to parse entity. Details: [400] - Node type \\\"subject\\\" not found in dictionary\"},{\"message\":\"Unable to parse entity. Details: [400] - Node type \\\"subject\\\" not found in dictionary\"},{\"message\":\"Unable to parse entity. Details: [400] - Node type \\\"subject\\\" not found in dictionary\"},{\"message\":\"Unable to parse entity. Details: [400] - Node type \\\"subject\\\" not found in dictionary\"},{\"message\":\"Unable to parse entity. Details: [400] - Node type \\\"subject\\\" not found in dictionary\"},{\"message\":\"Unable to parse entity. Details: [400] - Node type \\\"subject\\\" not found in dictionary\"},{\"message\":\"Unable to parse entity. Details: [400] - Node type \\\"subject\\\" not found in dictionary\"},{\"message\":\"Unable to parse entity. Details: [400] - Node type \\\"subject\\\" not found in dictionary\"},{\"message\":\"Unable to parse entity. Details: [400] - Node type \\\"subject\\\" not found in dictionary\"},{\"message\":\"Unable to parse entity. Details: [400] - Node type \\\"subject\\\" not found in dictionary\"},{\"message\":\"Unable to parse entity. Details: [400] - Node type \\\"subject\\\" not found in dictionary\"},{\"message\":\"Unable to parse entity. Details: [400] - Node type \\\"subject\\\" not found in dictionary\"},{\"message\":\"Unable to parse entity. Details: [400] - Node type \\\"subject\\\" not found in dictionary\"},{\"message\":\"Unable to parse entity. Details: [400] - Node type \\\"subject\\\" not found in dictionary\"},{\"message\":\"Unable to parse entity. Details: [400] - Node type \\\"subject\\\" not found in dictionary\"},{\"message\":\"Unable to parse entity. Details: [400] - Node type \\\"subject\\\" not found in dictionary\"},{\"message\":\"Unable to parse entity. Details: [400] - Node type \\\"subject\\\" not found in dictionary\"},{\"message\":\"Unable to parse entity. Details: [400] - Node type \\\"subject\\\" not found in dictionary\"},{\"message\":\"Unable to parse entity. Details: [400] - Node type \\\"subject\\\" not found in dictionary\"},{\"message\":\"Unable to parse entity. Details: [400] - Node type \\\"subject\\\" not found in dictionary\"},{\"message\":\"Unable to parse entity. Details: [400] - Node type \\\"subject\\\" not found in dictionary\"},{\"message\":\"Unable to parse entity. Details: [400] - Node type \\\"subject\\\" not found in dictionary\"},{\"message\":\"Unable to parse entity. Details: [400] - Node type \\\"subject\\\" not found in dictionary\"},{\"message\":\"Unable to parse entity. Details: [400] - Node type \\\"subject\\\" not found in dictionary\"},{\"message\":\"Unable to parse entity. Details: [400] - Node type \\\"subject\\\" not found in dictionary\"},{\"message\":\"Unable to parse entity. Details: [400] - Node type \\\"subject\\\" not found in dictionary\"},{\"message\":\"Unable to parse entity. Details: [400] - Node type \\\"subject\\\" not found in dictionary\"},{\"message\":\"Unable to parse entity. Details: [400] - Node type \\\"subject\\\" not found in dictionary\"},{\"message\":\"Unable to parse entity. Details: [400] - Node type \\\"subject\\\" not found in dictionary\"},{\"message\":\"Unable to parse entity. Details: [400] - Node type \\\"subject\\\" not found in dictionary\"},{\"message\":\"Unable to parse entity. Details: [400] - Node type \\\"subject\\\" not found in dictionary\"},{\"message\":\"Unable to parse entity. Details: [400] - Node type \\\"subject\\\" not found in dictionary\"},{\"message\":\"Unable to parse entity. Details: [400] - Node type \\\"subject\\\" not found in dictionary\"},{\"message\":\"Unable to parse entity. Details: [400] - Node type \\\"subject\\\" not found in dictionary\"},{\"message\":\"Unable to parse entity. Details: [400] - Node type \\\"subject\\\" not found in dictionary\"},{\"message\":\"Unable to parse entity. Details: [400] - Node type \\\"subject\\\" not found in dictionary\"},{\"message\":\"Unable to parse entity. Details: [400] - Node type \\\"subject\\\" not found in dictionary\"},{\"message\":\"Unable to parse entity. Details: [400] - Node type \\\"subject\\\" not found in dictionary\"},{\"message\":\"Unable to parse entity. Details: [400] - Node type \\\"subject\\\" not found in dictionary\"},{\"message\":\"Unable to parse entity. Details: [400] - Node type \\\"subject\\\" not found in dictionary\"},{\"message\":\"Unable to parse entity. Details: [400] - Node type \\\"subject\\\" not found in dictionary\"},{\"message\":\"Unable to parse entity. Details: [400] - Node type \\\"subject\\\" not found in dictionary\"},{\"message\":\"Unable to parse entity. Details: [400] - Node type \\\"subject\\\" not found in dictionary\"},{\"message\":\"Unable to parse entity. Details: [400] - Node type \\\"subject\\\" not found in dictionary\"},{\"message\":\"Unable to parse entity. Details: [400] - Node type \\\"subject\\\" not found in dictionary\"},{\"message\":\"Unable to parse entity. Details: [400] - Node type \\\"subject\\\" not found in dictionary\"},{\"message\":\"Unable to parse entity. Details: [400] - Node type \\\"subject\\\" not found in dictionary\"},{\"message\":\"Unable to parse entity. Details: [400] - Node type \\\"subject\\\" not found in dictionary\"},{\"message\":\"Unable to parse entity. Details: [400] - Node type \\\"subject\\\" not found in dictionary\"},{\"message\":\"Unable to parse entity. Details: [400] - Node type \\\"subject\\\" not found in dictionary\"},{\"message\":\"Unable to parse entity. Details: [400] - Node type \\\"subject\\\" not found in dictionary\"},{\"message\":\"Unable to parse entity. Details: [400] - Node type \\\"subject\\\" not found in dictionary\"},{\"message\":\"Unable to parse entity. Details: [400] - Node type \\\"subject\\\" not found in dictionary\"},{\"message\":\"Unable to parse entity. Details: [400] - Node type \\\"subject\\\" not found in dictionary\"},{\"message\":\"Unable to parse entity. Details: [400] - Node type \\\"subject\\\" not found in dictionary\"},{\"message\":\"Unable to parse entity. Details: [400] - Node type \\\"subject\\\" not found in dictionary\"},{\"message\":\"Unable to parse entity. Details: [400] - Node type \\\"subject\\\" not found in dictionary\"},{\"message\":\"Unable to parse entity. Details: [400] - Node type \\\"subject\\\" not found in dictionary\"},{\"message\":\"Unable to parse entity. Details: [400] - Node type \\\"subject\\\" not found in dictionary\"},{\"message\":\"Unable to parse entity. Details: [400] - Node type \\\"subject\\\" not found in dictionary\"},{\"message\":\"Unable to parse entity. Details: [400] - Node type \\\"subject\\\" not found in dictionary\"},{\"message\":\"Unable to parse entity. Details: [400] - Node type \\\"subject\\\" not found in dictionary\"},{\"message\":\"Unable to parse entity. Details: [400] - Node type \\\"subject\\\" not found in dictionary\"},{\"message\":\"Unable to parse entity. Details: [400] - Node type \\\"subject\\\" not found in dictionary\"},{\"message\":\"Unable to parse entity. Details: [400] - Node type \\\"subject\\\" not found in dictionary\"},{\"message\":\"Unable to parse entity. Details: [400] - Node type \\\"subject\\\" not found in dictionary\"},{\"message\":\"Unable to parse entity. Details: [400] - Node type \\\"subject\\\" not found in dictionary\"},{\"message\":\"Unable to parse entity. Details: [400] - Node type \\\"subject\\\" not found in dictionary\"},{\"message\":\"Unable to parse entity. Details: [400] - Node type \\\"subject\\\" not found in dictionary\"},{\"message\":\"Unable to parse entity. Details: [400] - Node type \\\"subject\\\" not found in dictionary\"},{\"message\":\"Unable to parse entity. Details: [400] - Node type \\\"subject\\\" not found in dictionary\"},{\"message\":\"Unable to parse entity. Details: [400] - Node type \\\"subject\\\" not found in dictionary\"},{\"message\":\"Unable to parse entity. Details: [400] - Node type \\\"subject\\\" not found in dictionary\"},{\"message\":\"Unable to parse entity. Details: [400] - Node type \\\"subject\\\" not found in dictionary\"},\"Nothing to submit\"],\"updated_entity_count\":0}\n",
      "\n",
      "ERROR\t| synthetic_dataset_1\t| subject: 400 Client Error: BAD REQUEST for url: https://omix3.test.biocommons.org.au/api/v0/submission/program1/synthetic_dataset_1 | Retry 3/6\n",
      "SUBMITTING\t| synthetic_dataset_1\t| subject\t| 1/1 data splits\n",
      "Error: status code 400; details:\n",
      "{\"code\":400,\"created_entity_count\":0,\"entities\":[],\"entity_error_count\":0,\"message\":\"Transaction aborted due to 111 transactional error(s).\",\"success\":false,\"transaction_id\":13,\"transactional_error_count\":111,\"transactional_errors\":[{\"message\":\"Unable to parse entity. Details: [400] - Node type \\\"subject\\\" not found in dictionary\"},{\"message\":\"Unable to parse entity. Details: [400] - Node type \\\"subject\\\" not found in dictionary\"},{\"message\":\"Unable to parse entity. Details: [400] - Node type \\\"subject\\\" not found in dictionary\"},{\"message\":\"Unable to parse entity. Details: [400] - Node type \\\"subject\\\" not found in dictionary\"},{\"message\":\"Unable to parse entity. Details: [400] - Node type \\\"subject\\\" not found in dictionary\"},{\"message\":\"Unable to parse entity. Details: [400] - Node type \\\"subject\\\" not found in dictionary\"},{\"message\":\"Unable to parse entity. Details: [400] - Node type \\\"subject\\\" not found in dictionary\"},{\"message\":\"Unable to parse entity. Details: [400] - Node type \\\"subject\\\" not found in dictionary\"},{\"message\":\"Unable to parse entity. Details: [400] - Node type \\\"subject\\\" not found in dictionary\"},{\"message\":\"Unable to parse entity. Details: [400] - Node type \\\"subject\\\" not found in dictionary\"},{\"message\":\"Unable to parse entity. Details: [400] - Node type \\\"subject\\\" not found in dictionary\"},{\"message\":\"Unable to parse entity. Details: [400] - Node type \\\"subject\\\" not found in dictionary\"},{\"message\":\"Unable to parse entity. Details: [400] - Node type \\\"subject\\\" not found in dictionary\"},{\"message\":\"Unable to parse entity. Details: [400] - Node type \\\"subject\\\" not found in dictionary\"},{\"message\":\"Unable to parse entity. Details: [400] - Node type \\\"subject\\\" not found in dictionary\"},{\"message\":\"Unable to parse entity. Details: [400] - Node type \\\"subject\\\" not found in dictionary\"},{\"message\":\"Unable to parse entity. Details: [400] - Node type \\\"subject\\\" not found in dictionary\"},{\"message\":\"Unable to parse entity. Details: [400] - Node type \\\"subject\\\" not found in dictionary\"},{\"message\":\"Unable to parse entity. Details: [400] - Node type \\\"subject\\\" not found in dictionary\"},{\"message\":\"Unable to parse entity. Details: [400] - Node type \\\"subject\\\" not found in dictionary\"},{\"message\":\"Unable to parse entity. Details: [400] - Node type \\\"subject\\\" not found in dictionary\"},{\"message\":\"Unable to parse entity. Details: [400] - Node type \\\"subject\\\" not found in dictionary\"},{\"message\":\"Unable to parse entity. Details: [400] - Node type \\\"subject\\\" not found in dictionary\"},{\"message\":\"Unable to parse entity. Details: [400] - Node type \\\"subject\\\" not found in dictionary\"},{\"message\":\"Unable to parse entity. Details: [400] - Node type \\\"subject\\\" not found in dictionary\"},{\"message\":\"Unable to parse entity. Details: [400] - Node type \\\"subject\\\" not found in dictionary\"},{\"message\":\"Unable to parse entity. Details: [400] - Node type \\\"subject\\\" not found in dictionary\"},{\"message\":\"Unable to parse entity. Details: [400] - Node type \\\"subject\\\" not found in dictionary\"},{\"message\":\"Unable to parse entity. Details: [400] - Node type \\\"subject\\\" not found in dictionary\"},{\"message\":\"Unable to parse entity. Details: [400] - Node type \\\"subject\\\" not found in dictionary\"},{\"message\":\"Unable to parse entity. Details: [400] - Node type \\\"subject\\\" not found in dictionary\"},{\"message\":\"Unable to parse entity. Details: [400] - Node type \\\"subject\\\" not found in dictionary\"},{\"message\":\"Unable to parse entity. Details: [400] - Node type \\\"subject\\\" not found in dictionary\"},{\"message\":\"Unable to parse entity. Details: [400] - Node type \\\"subject\\\" not found in dictionary\"},{\"message\":\"Unable to parse entity. Details: [400] - Node type \\\"subject\\\" not found in dictionary\"},{\"message\":\"Unable to parse entity. Details: [400] - Node type \\\"subject\\\" not found in dictionary\"},{\"message\":\"Unable to parse entity. Details: [400] - Node type \\\"subject\\\" not found in dictionary\"},{\"message\":\"Unable to parse entity. Details: [400] - Node type \\\"subject\\\" not found in dictionary\"},{\"message\":\"Unable to parse entity. Details: [400] - Node type \\\"subject\\\" not found in dictionary\"},{\"message\":\"Unable to parse entity. Details: [400] - Node type \\\"subject\\\" not found in dictionary\"},{\"message\":\"Unable to parse entity. Details: [400] - Node type \\\"subject\\\" not found in dictionary\"},{\"message\":\"Unable to parse entity. Details: [400] - Node type \\\"subject\\\" not found in dictionary\"},{\"message\":\"Unable to parse entity. Details: [400] - Node type \\\"subject\\\" not found in dictionary\"},{\"message\":\"Unable to parse entity. Details: [400] - Node type \\\"subject\\\" not found in dictionary\"},{\"message\":\"Unable to parse entity. Details: [400] - Node type \\\"subject\\\" not found in dictionary\"},{\"message\":\"Unable to parse entity. Details: [400] - Node type \\\"subject\\\" not found in dictionary\"},{\"message\":\"Unable to parse entity. Details: [400] - Node type \\\"subject\\\" not found in dictionary\"},{\"message\":\"Unable to parse entity. Details: [400] - Node type \\\"subject\\\" not found in dictionary\"},{\"message\":\"Unable to parse entity. Details: [400] - Node type \\\"subject\\\" not found in dictionary\"},{\"message\":\"Unable to parse entity. Details: [400] - Node type \\\"subject\\\" not found in dictionary\"},{\"message\":\"Unable to parse entity. Details: [400] - Node type \\\"subject\\\" not found in dictionary\"},{\"message\":\"Unable to parse entity. Details: [400] - Node type \\\"subject\\\" not found in dictionary\"},{\"message\":\"Unable to parse entity. Details: [400] - Node type \\\"subject\\\" not found in dictionary\"},{\"message\":\"Unable to parse entity. Details: [400] - Node type \\\"subject\\\" not found in dictionary\"},{\"message\":\"Unable to parse entity. Details: [400] - Node type \\\"subject\\\" not found in dictionary\"},{\"message\":\"Unable to parse entity. Details: [400] - Node type \\\"subject\\\" not found in dictionary\"},{\"message\":\"Unable to parse entity. Details: [400] - Node type \\\"subject\\\" not found in dictionary\"},{\"message\":\"Unable to parse entity. Details: [400] - Node type \\\"subject\\\" not found in dictionary\"},{\"message\":\"Unable to parse entity. Details: [400] - Node type \\\"subject\\\" not found in dictionary\"},{\"message\":\"Unable to parse entity. Details: [400] - Node type \\\"subject\\\" not found in dictionary\"},{\"message\":\"Unable to parse entity. Details: [400] - Node type \\\"subject\\\" not found in dictionary\"},{\"message\":\"Unable to parse entity. Details: [400] - Node type \\\"subject\\\" not found in dictionary\"},{\"message\":\"Unable to parse entity. Details: [400] - Node type \\\"subject\\\" not found in dictionary\"},{\"message\":\"Unable to parse entity. Details: [400] - Node type \\\"subject\\\" not found in dictionary\"},{\"message\":\"Unable to parse entity. Details: [400] - Node type \\\"subject\\\" not found in dictionary\"},{\"message\":\"Unable to parse entity. Details: [400] - Node type \\\"subject\\\" not found in dictionary\"},{\"message\":\"Unable to parse entity. Details: [400] - Node type \\\"subject\\\" not found in dictionary\"},{\"message\":\"Unable to parse entity. Details: [400] - Node type \\\"subject\\\" not found in dictionary\"},{\"message\":\"Unable to parse entity. Details: [400] - Node type \\\"subject\\\" not found in dictionary\"},{\"message\":\"Unable to parse entity. Details: [400] - Node type \\\"subject\\\" not found in dictionary\"},{\"message\":\"Unable to parse entity. Details: [400] - Node type \\\"subject\\\" not found in dictionary\"},{\"message\":\"Unable to parse entity. Details: [400] - Node type \\\"subject\\\" not found in dictionary\"},{\"message\":\"Unable to parse entity. Details: [400] - Node type \\\"subject\\\" not found in dictionary\"},{\"message\":\"Unable to parse entity. Details: [400] - Node type \\\"subject\\\" not found in dictionary\"},{\"message\":\"Unable to parse entity. Details: [400] - Node type \\\"subject\\\" not found in dictionary\"},{\"message\":\"Unable to parse entity. Details: [400] - Node type \\\"subject\\\" not found in dictionary\"},{\"message\":\"Unable to parse entity. Details: [400] - Node type \\\"subject\\\" not found in dictionary\"},{\"message\":\"Unable to parse entity. Details: [400] - Node type \\\"subject\\\" not found in dictionary\"},{\"message\":\"Unable to parse entity. Details: [400] - Node type \\\"subject\\\" not found in dictionary\"},{\"message\":\"Unable to parse entity. Details: [400] - Node type \\\"subject\\\" not found in dictionary\"},{\"message\":\"Unable to parse entity. Details: [400] - Node type \\\"subject\\\" not found in dictionary\"},{\"message\":\"Unable to parse entity. Details: [400] - Node type \\\"subject\\\" not found in dictionary\"},{\"message\":\"Unable to parse entity. Details: [400] - Node type \\\"subject\\\" not found in dictionary\"},{\"message\":\"Unable to parse entity. Details: [400] - Node type \\\"subject\\\" not found in dictionary\"},{\"message\":\"Unable to parse entity. Details: [400] - Node type \\\"subject\\\" not found in dictionary\"},{\"message\":\"Unable to parse entity. Details: [400] - Node type \\\"subject\\\" not found in dictionary\"},{\"message\":\"Unable to parse entity. Details: [400] - Node type \\\"subject\\\" not found in dictionary\"},{\"message\":\"Unable to parse entity. Details: [400] - Node type \\\"subject\\\" not found in dictionary\"},{\"message\":\"Unable to parse entity. Details: [400] - Node type \\\"subject\\\" not found in dictionary\"},{\"message\":\"Unable to parse entity. Details: [400] - Node type \\\"subject\\\" not found in dictionary\"},{\"message\":\"Unable to parse entity. Details: [400] - Node type \\\"subject\\\" not found in dictionary\"},{\"message\":\"Unable to parse entity. Details: [400] - Node type \\\"subject\\\" not found in dictionary\"},{\"message\":\"Unable to parse entity. Details: [400] - Node type \\\"subject\\\" not found in dictionary\"},{\"message\":\"Unable to parse entity. Details: [400] - Node type \\\"subject\\\" not found in dictionary\"},{\"message\":\"Unable to parse entity. Details: [400] - Node type \\\"subject\\\" not found in dictionary\"},{\"message\":\"Unable to parse entity. Details: [400] - Node type \\\"subject\\\" not found in dictionary\"},{\"message\":\"Unable to parse entity. Details: [400] - Node type \\\"subject\\\" not found in dictionary\"},{\"message\":\"Unable to parse entity. Details: [400] - Node type \\\"subject\\\" not found in dictionary\"},{\"message\":\"Unable to parse entity. Details: [400] - Node type \\\"subject\\\" not found in dictionary\"},{\"message\":\"Unable to parse entity. Details: [400] - Node type \\\"subject\\\" not found in dictionary\"},{\"message\":\"Unable to parse entity. Details: [400] - Node type \\\"subject\\\" not found in dictionary\"},{\"message\":\"Unable to parse entity. Details: [400] - Node type \\\"subject\\\" not found in dictionary\"},{\"message\":\"Unable to parse entity. Details: [400] - Node type \\\"subject\\\" not found in dictionary\"},{\"message\":\"Unable to parse entity. Details: [400] - Node type \\\"subject\\\" not found in dictionary\"},{\"message\":\"Unable to parse entity. Details: [400] - Node type \\\"subject\\\" not found in dictionary\"},{\"message\":\"Unable to parse entity. Details: [400] - Node type \\\"subject\\\" not found in dictionary\"},{\"message\":\"Unable to parse entity. Details: [400] - Node type \\\"subject\\\" not found in dictionary\"},{\"message\":\"Unable to parse entity. Details: [400] - Node type \\\"subject\\\" not found in dictionary\"},{\"message\":\"Unable to parse entity. Details: [400] - Node type \\\"subject\\\" not found in dictionary\"},{\"message\":\"Unable to parse entity. Details: [400] - Node type \\\"subject\\\" not found in dictionary\"},\"Nothing to submit\"],\"updated_entity_count\":0}\n",
      "\n",
      "ERROR\t| synthetic_dataset_1\t| subject: 400 Client Error: BAD REQUEST for url: https://omix3.test.biocommons.org.au/api/v0/submission/program1/synthetic_dataset_1 | Retry 4/6\n",
      "SUBMITTING\t| synthetic_dataset_1\t| subject\t| 1/1 data splits\n",
      "Error: status code 400; details:\n",
      "{\"code\":400,\"created_entity_count\":0,\"entities\":[],\"entity_error_count\":0,\"message\":\"Transaction aborted due to 111 transactional error(s).\",\"success\":false,\"transaction_id\":14,\"transactional_error_count\":111,\"transactional_errors\":[{\"message\":\"Unable to parse entity. Details: [400] - Node type \\\"subject\\\" not found in dictionary\"},{\"message\":\"Unable to parse entity. Details: [400] - Node type \\\"subject\\\" not found in dictionary\"},{\"message\":\"Unable to parse entity. Details: [400] - Node type \\\"subject\\\" not found in dictionary\"},{\"message\":\"Unable to parse entity. Details: [400] - Node type \\\"subject\\\" not found in dictionary\"},{\"message\":\"Unable to parse entity. Details: [400] - Node type \\\"subject\\\" not found in dictionary\"},{\"message\":\"Unable to parse entity. Details: [400] - Node type \\\"subject\\\" not found in dictionary\"},{\"message\":\"Unable to parse entity. Details: [400] - Node type \\\"subject\\\" not found in dictionary\"},{\"message\":\"Unable to parse entity. Details: [400] - Node type \\\"subject\\\" not found in dictionary\"},{\"message\":\"Unable to parse entity. Details: [400] - Node type \\\"subject\\\" not found in dictionary\"},{\"message\":\"Unable to parse entity. Details: [400] - Node type \\\"subject\\\" not found in dictionary\"},{\"message\":\"Unable to parse entity. Details: [400] - Node type \\\"subject\\\" not found in dictionary\"},{\"message\":\"Unable to parse entity. Details: [400] - Node type \\\"subject\\\" not found in dictionary\"},{\"message\":\"Unable to parse entity. Details: [400] - Node type \\\"subject\\\" not found in dictionary\"},{\"message\":\"Unable to parse entity. Details: [400] - Node type \\\"subject\\\" not found in dictionary\"},{\"message\":\"Unable to parse entity. Details: [400] - Node type \\\"subject\\\" not found in dictionary\"},{\"message\":\"Unable to parse entity. Details: [400] - Node type \\\"subject\\\" not found in dictionary\"},{\"message\":\"Unable to parse entity. Details: [400] - Node type \\\"subject\\\" not found in dictionary\"},{\"message\":\"Unable to parse entity. Details: [400] - Node type \\\"subject\\\" not found in dictionary\"},{\"message\":\"Unable to parse entity. Details: [400] - Node type \\\"subject\\\" not found in dictionary\"},{\"message\":\"Unable to parse entity. Details: [400] - Node type \\\"subject\\\" not found in dictionary\"},{\"message\":\"Unable to parse entity. Details: [400] - Node type \\\"subject\\\" not found in dictionary\"},{\"message\":\"Unable to parse entity. Details: [400] - Node type \\\"subject\\\" not found in dictionary\"},{\"message\":\"Unable to parse entity. Details: [400] - Node type \\\"subject\\\" not found in dictionary\"},{\"message\":\"Unable to parse entity. Details: [400] - Node type \\\"subject\\\" not found in dictionary\"},{\"message\":\"Unable to parse entity. Details: [400] - Node type \\\"subject\\\" not found in dictionary\"},{\"message\":\"Unable to parse entity. Details: [400] - Node type \\\"subject\\\" not found in dictionary\"},{\"message\":\"Unable to parse entity. Details: [400] - Node type \\\"subject\\\" not found in dictionary\"},{\"message\":\"Unable to parse entity. Details: [400] - Node type \\\"subject\\\" not found in dictionary\"},{\"message\":\"Unable to parse entity. Details: [400] - Node type \\\"subject\\\" not found in dictionary\"},{\"message\":\"Unable to parse entity. Details: [400] - Node type \\\"subject\\\" not found in dictionary\"},{\"message\":\"Unable to parse entity. Details: [400] - Node type \\\"subject\\\" not found in dictionary\"},{\"message\":\"Unable to parse entity. Details: [400] - Node type \\\"subject\\\" not found in dictionary\"},{\"message\":\"Unable to parse entity. Details: [400] - Node type \\\"subject\\\" not found in dictionary\"},{\"message\":\"Unable to parse entity. Details: [400] - Node type \\\"subject\\\" not found in dictionary\"},{\"message\":\"Unable to parse entity. Details: [400] - Node type \\\"subject\\\" not found in dictionary\"},{\"message\":\"Unable to parse entity. Details: [400] - Node type \\\"subject\\\" not found in dictionary\"},{\"message\":\"Unable to parse entity. Details: [400] - Node type \\\"subject\\\" not found in dictionary\"},{\"message\":\"Unable to parse entity. Details: [400] - Node type \\\"subject\\\" not found in dictionary\"},{\"message\":\"Unable to parse entity. Details: [400] - Node type \\\"subject\\\" not found in dictionary\"},{\"message\":\"Unable to parse entity. Details: [400] - Node type \\\"subject\\\" not found in dictionary\"},{\"message\":\"Unable to parse entity. Details: [400] - Node type \\\"subject\\\" not found in dictionary\"},{\"message\":\"Unable to parse entity. Details: [400] - Node type \\\"subject\\\" not found in dictionary\"},{\"message\":\"Unable to parse entity. Details: [400] - Node type \\\"subject\\\" not found in dictionary\"},{\"message\":\"Unable to parse entity. Details: [400] - Node type \\\"subject\\\" not found in dictionary\"},{\"message\":\"Unable to parse entity. Details: [400] - Node type \\\"subject\\\" not found in dictionary\"},{\"message\":\"Unable to parse entity. Details: [400] - Node type \\\"subject\\\" not found in dictionary\"},{\"message\":\"Unable to parse entity. Details: [400] - Node type \\\"subject\\\" not found in dictionary\"},{\"message\":\"Unable to parse entity. Details: [400] - Node type \\\"subject\\\" not found in dictionary\"},{\"message\":\"Unable to parse entity. Details: [400] - Node type \\\"subject\\\" not found in dictionary\"},{\"message\":\"Unable to parse entity. Details: [400] - Node type \\\"subject\\\" not found in dictionary\"},{\"message\":\"Unable to parse entity. Details: [400] - Node type \\\"subject\\\" not found in dictionary\"},{\"message\":\"Unable to parse entity. Details: [400] - Node type \\\"subject\\\" not found in dictionary\"},{\"message\":\"Unable to parse entity. Details: [400] - Node type \\\"subject\\\" not found in dictionary\"},{\"message\":\"Unable to parse entity. Details: [400] - Node type \\\"subject\\\" not found in dictionary\"},{\"message\":\"Unable to parse entity. Details: [400] - Node type \\\"subject\\\" not found in dictionary\"},{\"message\":\"Unable to parse entity. Details: [400] - Node type \\\"subject\\\" not found in dictionary\"},{\"message\":\"Unable to parse entity. Details: [400] - Node type \\\"subject\\\" not found in dictionary\"},{\"message\":\"Unable to parse entity. Details: [400] - Node type \\\"subject\\\" not found in dictionary\"},{\"message\":\"Unable to parse entity. Details: [400] - Node type \\\"subject\\\" not found in dictionary\"},{\"message\":\"Unable to parse entity. Details: [400] - Node type \\\"subject\\\" not found in dictionary\"},{\"message\":\"Unable to parse entity. Details: [400] - Node type \\\"subject\\\" not found in dictionary\"},{\"message\":\"Unable to parse entity. Details: [400] - Node type \\\"subject\\\" not found in dictionary\"},{\"message\":\"Unable to parse entity. Details: [400] - Node type \\\"subject\\\" not found in dictionary\"},{\"message\":\"Unable to parse entity. Details: [400] - Node type \\\"subject\\\" not found in dictionary\"},{\"message\":\"Unable to parse entity. Details: [400] - Node type \\\"subject\\\" not found in dictionary\"},{\"message\":\"Unable to parse entity. Details: [400] - Node type \\\"subject\\\" not found in dictionary\"},{\"message\":\"Unable to parse entity. Details: [400] - Node type \\\"subject\\\" not found in dictionary\"},{\"message\":\"Unable to parse entity. Details: [400] - Node type \\\"subject\\\" not found in dictionary\"},{\"message\":\"Unable to parse entity. Details: [400] - Node type \\\"subject\\\" not found in dictionary\"},{\"message\":\"Unable to parse entity. Details: [400] - Node type \\\"subject\\\" not found in dictionary\"},{\"message\":\"Unable to parse entity. Details: [400] - Node type \\\"subject\\\" not found in dictionary\"},{\"message\":\"Unable to parse entity. Details: [400] - Node type \\\"subject\\\" not found in dictionary\"},{\"message\":\"Unable to parse entity. Details: [400] - Node type \\\"subject\\\" not found in dictionary\"},{\"message\":\"Unable to parse entity. Details: [400] - Node type \\\"subject\\\" not found in dictionary\"},{\"message\":\"Unable to parse entity. Details: [400] - Node type \\\"subject\\\" not found in dictionary\"},{\"message\":\"Unable to parse entity. Details: [400] - Node type \\\"subject\\\" not found in dictionary\"},{\"message\":\"Unable to parse entity. Details: [400] - Node type \\\"subject\\\" not found in dictionary\"},{\"message\":\"Unable to parse entity. Details: [400] - Node type \\\"subject\\\" not found in dictionary\"},{\"message\":\"Unable to parse entity. Details: [400] - Node type \\\"subject\\\" not found in dictionary\"},{\"message\":\"Unable to parse entity. Details: [400] - Node type \\\"subject\\\" not found in dictionary\"},{\"message\":\"Unable to parse entity. Details: [400] - Node type \\\"subject\\\" not found in dictionary\"},{\"message\":\"Unable to parse entity. Details: [400] - Node type \\\"subject\\\" not found in dictionary\"},{\"message\":\"Unable to parse entity. Details: [400] - Node type \\\"subject\\\" not found in dictionary\"},{\"message\":\"Unable to parse entity. Details: [400] - Node type \\\"subject\\\" not found in dictionary\"},{\"message\":\"Unable to parse entity. Details: [400] - Node type \\\"subject\\\" not found in dictionary\"},{\"message\":\"Unable to parse entity. Details: [400] - Node type \\\"subject\\\" not found in dictionary\"},{\"message\":\"Unable to parse entity. Details: [400] - Node type \\\"subject\\\" not found in dictionary\"},{\"message\":\"Unable to parse entity. Details: [400] - Node type \\\"subject\\\" not found in dictionary\"},{\"message\":\"Unable to parse entity. Details: [400] - Node type \\\"subject\\\" not found in dictionary\"},{\"message\":\"Unable to parse entity. Details: [400] - Node type \\\"subject\\\" not found in dictionary\"},{\"message\":\"Unable to parse entity. Details: [400] - Node type \\\"subject\\\" not found in dictionary\"},{\"message\":\"Unable to parse entity. Details: [400] - Node type \\\"subject\\\" not found in dictionary\"},{\"message\":\"Unable to parse entity. Details: [400] - Node type \\\"subject\\\" not found in dictionary\"},{\"message\":\"Unable to parse entity. Details: [400] - Node type \\\"subject\\\" not found in dictionary\"},{\"message\":\"Unable to parse entity. Details: [400] - Node type \\\"subject\\\" not found in dictionary\"},{\"message\":\"Unable to parse entity. Details: [400] - Node type \\\"subject\\\" not found in dictionary\"},{\"message\":\"Unable to parse entity. Details: [400] - Node type \\\"subject\\\" not found in dictionary\"},{\"message\":\"Unable to parse entity. Details: [400] - Node type \\\"subject\\\" not found in dictionary\"},{\"message\":\"Unable to parse entity. Details: [400] - Node type \\\"subject\\\" not found in dictionary\"},{\"message\":\"Unable to parse entity. Details: [400] - Node type \\\"subject\\\" not found in dictionary\"},{\"message\":\"Unable to parse entity. Details: [400] - Node type \\\"subject\\\" not found in dictionary\"},{\"message\":\"Unable to parse entity. Details: [400] - Node type \\\"subject\\\" not found in dictionary\"},{\"message\":\"Unable to parse entity. Details: [400] - Node type \\\"subject\\\" not found in dictionary\"},{\"message\":\"Unable to parse entity. Details: [400] - Node type \\\"subject\\\" not found in dictionary\"},{\"message\":\"Unable to parse entity. Details: [400] - Node type \\\"subject\\\" not found in dictionary\"},{\"message\":\"Unable to parse entity. Details: [400] - Node type \\\"subject\\\" not found in dictionary\"},{\"message\":\"Unable to parse entity. Details: [400] - Node type \\\"subject\\\" not found in dictionary\"},{\"message\":\"Unable to parse entity. Details: [400] - Node type \\\"subject\\\" not found in dictionary\"},{\"message\":\"Unable to parse entity. Details: [400] - Node type \\\"subject\\\" not found in dictionary\"},{\"message\":\"Unable to parse entity. Details: [400] - Node type \\\"subject\\\" not found in dictionary\"},\"Nothing to submit\"],\"updated_entity_count\":0}\n",
      "\n",
      "ERROR\t| synthetic_dataset_1\t| subject: 400 Client Error: BAD REQUEST for url: https://omix3.test.biocommons.org.au/api/v0/submission/program1/synthetic_dataset_1 | Retry 5/6\n",
      "SUBMITTING\t| synthetic_dataset_1\t| subject\t| 1/1 data splits\n",
      "Error: status code 400; details:\n",
      "{\"code\":400,\"created_entity_count\":0,\"entities\":[],\"entity_error_count\":0,\"message\":\"Transaction aborted due to 111 transactional error(s).\",\"success\":false,\"transaction_id\":15,\"transactional_error_count\":111,\"transactional_errors\":[{\"message\":\"Unable to parse entity. Details: [400] - Node type \\\"subject\\\" not found in dictionary\"},{\"message\":\"Unable to parse entity. Details: [400] - Node type \\\"subject\\\" not found in dictionary\"},{\"message\":\"Unable to parse entity. Details: [400] - Node type \\\"subject\\\" not found in dictionary\"},{\"message\":\"Unable to parse entity. Details: [400] - Node type \\\"subject\\\" not found in dictionary\"},{\"message\":\"Unable to parse entity. Details: [400] - Node type \\\"subject\\\" not found in dictionary\"},{\"message\":\"Unable to parse entity. Details: [400] - Node type \\\"subject\\\" not found in dictionary\"},{\"message\":\"Unable to parse entity. Details: [400] - Node type \\\"subject\\\" not found in dictionary\"},{\"message\":\"Unable to parse entity. Details: [400] - Node type \\\"subject\\\" not found in dictionary\"},{\"message\":\"Unable to parse entity. Details: [400] - Node type \\\"subject\\\" not found in dictionary\"},{\"message\":\"Unable to parse entity. Details: [400] - Node type \\\"subject\\\" not found in dictionary\"},{\"message\":\"Unable to parse entity. Details: [400] - Node type \\\"subject\\\" not found in dictionary\"},{\"message\":\"Unable to parse entity. Details: [400] - Node type \\\"subject\\\" not found in dictionary\"},{\"message\":\"Unable to parse entity. Details: [400] - Node type \\\"subject\\\" not found in dictionary\"},{\"message\":\"Unable to parse entity. Details: [400] - Node type \\\"subject\\\" not found in dictionary\"},{\"message\":\"Unable to parse entity. Details: [400] - Node type \\\"subject\\\" not found in dictionary\"},{\"message\":\"Unable to parse entity. Details: [400] - Node type \\\"subject\\\" not found in dictionary\"},{\"message\":\"Unable to parse entity. Details: [400] - Node type \\\"subject\\\" not found in dictionary\"},{\"message\":\"Unable to parse entity. Details: [400] - Node type \\\"subject\\\" not found in dictionary\"},{\"message\":\"Unable to parse entity. Details: [400] - Node type \\\"subject\\\" not found in dictionary\"},{\"message\":\"Unable to parse entity. Details: [400] - Node type \\\"subject\\\" not found in dictionary\"},{\"message\":\"Unable to parse entity. Details: [400] - Node type \\\"subject\\\" not found in dictionary\"},{\"message\":\"Unable to parse entity. Details: [400] - Node type \\\"subject\\\" not found in dictionary\"},{\"message\":\"Unable to parse entity. Details: [400] - Node type \\\"subject\\\" not found in dictionary\"},{\"message\":\"Unable to parse entity. Details: [400] - Node type \\\"subject\\\" not found in dictionary\"},{\"message\":\"Unable to parse entity. Details: [400] - Node type \\\"subject\\\" not found in dictionary\"},{\"message\":\"Unable to parse entity. Details: [400] - Node type \\\"subject\\\" not found in dictionary\"},{\"message\":\"Unable to parse entity. Details: [400] - Node type \\\"subject\\\" not found in dictionary\"},{\"message\":\"Unable to parse entity. Details: [400] - Node type \\\"subject\\\" not found in dictionary\"},{\"message\":\"Unable to parse entity. Details: [400] - Node type \\\"subject\\\" not found in dictionary\"},{\"message\":\"Unable to parse entity. Details: [400] - Node type \\\"subject\\\" not found in dictionary\"},{\"message\":\"Unable to parse entity. Details: [400] - Node type \\\"subject\\\" not found in dictionary\"},{\"message\":\"Unable to parse entity. Details: [400] - Node type \\\"subject\\\" not found in dictionary\"},{\"message\":\"Unable to parse entity. Details: [400] - Node type \\\"subject\\\" not found in dictionary\"},{\"message\":\"Unable to parse entity. Details: [400] - Node type \\\"subject\\\" not found in dictionary\"},{\"message\":\"Unable to parse entity. Details: [400] - Node type \\\"subject\\\" not found in dictionary\"},{\"message\":\"Unable to parse entity. Details: [400] - Node type \\\"subject\\\" not found in dictionary\"},{\"message\":\"Unable to parse entity. Details: [400] - Node type \\\"subject\\\" not found in dictionary\"},{\"message\":\"Unable to parse entity. Details: [400] - Node type \\\"subject\\\" not found in dictionary\"},{\"message\":\"Unable to parse entity. Details: [400] - Node type \\\"subject\\\" not found in dictionary\"},{\"message\":\"Unable to parse entity. Details: [400] - Node type \\\"subject\\\" not found in dictionary\"},{\"message\":\"Unable to parse entity. Details: [400] - Node type \\\"subject\\\" not found in dictionary\"},{\"message\":\"Unable to parse entity. Details: [400] - Node type \\\"subject\\\" not found in dictionary\"},{\"message\":\"Unable to parse entity. Details: [400] - Node type \\\"subject\\\" not found in dictionary\"},{\"message\":\"Unable to parse entity. Details: [400] - Node type \\\"subject\\\" not found in dictionary\"},{\"message\":\"Unable to parse entity. Details: [400] - Node type \\\"subject\\\" not found in dictionary\"},{\"message\":\"Unable to parse entity. Details: [400] - Node type \\\"subject\\\" not found in dictionary\"},{\"message\":\"Unable to parse entity. Details: [400] - Node type \\\"subject\\\" not found in dictionary\"},{\"message\":\"Unable to parse entity. Details: [400] - Node type \\\"subject\\\" not found in dictionary\"},{\"message\":\"Unable to parse entity. Details: [400] - Node type \\\"subject\\\" not found in dictionary\"},{\"message\":\"Unable to parse entity. Details: [400] - Node type \\\"subject\\\" not found in dictionary\"},{\"message\":\"Unable to parse entity. Details: [400] - Node type \\\"subject\\\" not found in dictionary\"},{\"message\":\"Unable to parse entity. Details: [400] - Node type \\\"subject\\\" not found in dictionary\"},{\"message\":\"Unable to parse entity. Details: [400] - Node type \\\"subject\\\" not found in dictionary\"},{\"message\":\"Unable to parse entity. Details: [400] - Node type \\\"subject\\\" not found in dictionary\"},{\"message\":\"Unable to parse entity. Details: [400] - Node type \\\"subject\\\" not found in dictionary\"},{\"message\":\"Unable to parse entity. Details: [400] - Node type \\\"subject\\\" not found in dictionary\"},{\"message\":\"Unable to parse entity. Details: [400] - Node type \\\"subject\\\" not found in dictionary\"},{\"message\":\"Unable to parse entity. Details: [400] - Node type \\\"subject\\\" not found in dictionary\"},{\"message\":\"Unable to parse entity. Details: [400] - Node type \\\"subject\\\" not found in dictionary\"},{\"message\":\"Unable to parse entity. Details: [400] - Node type \\\"subject\\\" not found in dictionary\"},{\"message\":\"Unable to parse entity. Details: [400] - Node type \\\"subject\\\" not found in dictionary\"},{\"message\":\"Unable to parse entity. Details: [400] - Node type \\\"subject\\\" not found in dictionary\"},{\"message\":\"Unable to parse entity. Details: [400] - Node type \\\"subject\\\" not found in dictionary\"},{\"message\":\"Unable to parse entity. Details: [400] - Node type \\\"subject\\\" not found in dictionary\"},{\"message\":\"Unable to parse entity. Details: [400] - Node type \\\"subject\\\" not found in dictionary\"},{\"message\":\"Unable to parse entity. Details: [400] - Node type \\\"subject\\\" not found in dictionary\"},{\"message\":\"Unable to parse entity. Details: [400] - Node type \\\"subject\\\" not found in dictionary\"},{\"message\":\"Unable to parse entity. Details: [400] - Node type \\\"subject\\\" not found in dictionary\"},{\"message\":\"Unable to parse entity. Details: [400] - Node type \\\"subject\\\" not found in dictionary\"},{\"message\":\"Unable to parse entity. Details: [400] - Node type \\\"subject\\\" not found in dictionary\"},{\"message\":\"Unable to parse entity. Details: [400] - Node type \\\"subject\\\" not found in dictionary\"},{\"message\":\"Unable to parse entity. Details: [400] - Node type \\\"subject\\\" not found in dictionary\"},{\"message\":\"Unable to parse entity. Details: [400] - Node type \\\"subject\\\" not found in dictionary\"},{\"message\":\"Unable to parse entity. Details: [400] - Node type \\\"subject\\\" not found in dictionary\"},{\"message\":\"Unable to parse entity. Details: [400] - Node type \\\"subject\\\" not found in dictionary\"},{\"message\":\"Unable to parse entity. Details: [400] - Node type \\\"subject\\\" not found in dictionary\"},{\"message\":\"Unable to parse entity. Details: [400] - Node type \\\"subject\\\" not found in dictionary\"},{\"message\":\"Unable to parse entity. Details: [400] - Node type \\\"subject\\\" not found in dictionary\"},{\"message\":\"Unable to parse entity. Details: [400] - Node type \\\"subject\\\" not found in dictionary\"},{\"message\":\"Unable to parse entity. Details: [400] - Node type \\\"subject\\\" not found in dictionary\"},{\"message\":\"Unable to parse entity. Details: [400] - Node type \\\"subject\\\" not found in dictionary\"},{\"message\":\"Unable to parse entity. Details: [400] - Node type \\\"subject\\\" not found in dictionary\"},{\"message\":\"Unable to parse entity. Details: [400] - Node type \\\"subject\\\" not found in dictionary\"},{\"message\":\"Unable to parse entity. Details: [400] - Node type \\\"subject\\\" not found in dictionary\"},{\"message\":\"Unable to parse entity. Details: [400] - Node type \\\"subject\\\" not found in dictionary\"},{\"message\":\"Unable to parse entity. Details: [400] - Node type \\\"subject\\\" not found in dictionary\"},{\"message\":\"Unable to parse entity. Details: [400] - Node type \\\"subject\\\" not found in dictionary\"},{\"message\":\"Unable to parse entity. Details: [400] - Node type \\\"subject\\\" not found in dictionary\"},{\"message\":\"Unable to parse entity. Details: [400] - Node type \\\"subject\\\" not found in dictionary\"},{\"message\":\"Unable to parse entity. Details: [400] - Node type \\\"subject\\\" not found in dictionary\"},{\"message\":\"Unable to parse entity. Details: [400] - Node type \\\"subject\\\" not found in dictionary\"},{\"message\":\"Unable to parse entity. Details: [400] - Node type \\\"subject\\\" not found in dictionary\"},{\"message\":\"Unable to parse entity. Details: [400] - Node type \\\"subject\\\" not found in dictionary\"},{\"message\":\"Unable to parse entity. Details: [400] - Node type \\\"subject\\\" not found in dictionary\"},{\"message\":\"Unable to parse entity. Details: [400] - Node type \\\"subject\\\" not found in dictionary\"},{\"message\":\"Unable to parse entity. Details: [400] - Node type \\\"subject\\\" not found in dictionary\"},{\"message\":\"Unable to parse entity. Details: [400] - Node type \\\"subject\\\" not found in dictionary\"},{\"message\":\"Unable to parse entity. Details: [400] - Node type \\\"subject\\\" not found in dictionary\"},{\"message\":\"Unable to parse entity. Details: [400] - Node type \\\"subject\\\" not found in dictionary\"},{\"message\":\"Unable to parse entity. Details: [400] - Node type \\\"subject\\\" not found in dictionary\"},{\"message\":\"Unable to parse entity. Details: [400] - Node type \\\"subject\\\" not found in dictionary\"},{\"message\":\"Unable to parse entity. Details: [400] - Node type \\\"subject\\\" not found in dictionary\"},{\"message\":\"Unable to parse entity. Details: [400] - Node type \\\"subject\\\" not found in dictionary\"},{\"message\":\"Unable to parse entity. Details: [400] - Node type \\\"subject\\\" not found in dictionary\"},{\"message\":\"Unable to parse entity. Details: [400] - Node type \\\"subject\\\" not found in dictionary\"},{\"message\":\"Unable to parse entity. Details: [400] - Node type \\\"subject\\\" not found in dictionary\"},{\"message\":\"Unable to parse entity. Details: [400] - Node type \\\"subject\\\" not found in dictionary\"},{\"message\":\"Unable to parse entity. Details: [400] - Node type \\\"subject\\\" not found in dictionary\"},{\"message\":\"Unable to parse entity. Details: [400] - Node type \\\"subject\\\" not found in dictionary\"},{\"message\":\"Unable to parse entity. Details: [400] - Node type \\\"subject\\\" not found in dictionary\"},\"Nothing to submit\"],\"updated_entity_count\":0}\n",
      "\n",
      "ERROR\t| synthetic_dataset_1\t| subject: 400 Client Error: BAD REQUEST for url: https://omix3.test.biocommons.org.au/api/v0/submission/program1/synthetic_dataset_1 | Retry 6/6\n",
      "FAILED\t| synthetic_dataset_1\t| subject after 6 retries\n",
      "\n",
      "\n",
      "IMPORTING\t| synthetic_dataset_1\t| demographic\n",
      "output/synthetic_data/transformed/synthetic_dataset_1/indexd/demographic.json successfully loaded\n",
      "List 1 size: 16.79 KB, contains 110 objects\n",
      "SUBMITTING\t| synthetic_dataset_1\t| demographic\t| 1/1 data splits\n",
      "Error: status code 400; details:\n",
      "{\"code\":400,\"created_entity_count\":0,\"entities\":[{\"action\":null,\"errors\":[{\"keys\":[],\"message\":\"Additional properties are not allowed ('year_birth', 'month_birth', 'subjects' were unexpected)\",\"type\":\"ERROR\"},{\"keys\":[\"cases\"],\"message\":\"'cases' is a required property\",\"type\":\"MISSING_PROPERTY\"}],\"id\":null,\"type\":\"demographic\",\"unique_keys\":[{\"project_id\":\"program1-synthetic_dataset_1\",\"submitter_id\":\"demographic_b0c1077686\"}],\"valid\":false,\"warnings\":[]},{\"action\":null,\"errors\":[{\"keys\":[],\"message\":\"Additional properties are not allowed ('year_birth', 'month_birth', 'subjects' were unexpected)\",\"type\":\"ERROR\"},{\"keys\":[\"cases\"],\"message\":\"'cases' is a required property\",\"type\":\"MISSING_PROPERTY\"}],\"id\":null,\"type\":\"demographic\",\"unique_keys\":[{\"project_id\":\"program1-synthetic_dataset_1\",\"submitter_id\":\"demographic_e6d04bfa3d\"}],\"valid\":false,\"warnings\":[]},{\"action\":null,\"errors\":[{\"keys\":[],\"message\":\"Additional properties are not allowed ('year_birth', 'month_birth', 'subjects' were unexpected)\",\"type\":\"ERROR\"},{\"keys\":[\"cases\"],\"message\":\"'cases' is a required property\",\"type\":\"MISSING_PROPERTY\"}],\"id\":null,\"type\":\"demographic\",\"unique_keys\":[{\"project_id\":\"program1-synthetic_dataset_1\",\"submitter_id\":\"demographic_d88f25268e\"}],\"valid\":false,\"warnings\":[]},{\"action\":null,\"errors\":[{\"keys\":[],\"message\":\"Additional properties are not allowed ('year_birth', 'month_birth', 'subjects' were unexpected)\",\"type\":\"ERROR\"},{\"keys\":[\"cases\"],\"message\":\"'cases' is a required property\",\"type\":\"MISSING_PROPERTY\"}],\"id\":null,\"type\":\"demographic\",\"unique_keys\":[{\"project_id\":\"program1-synthetic_dataset_1\",\"submitter_id\":\"demographic_0e07f5654c\"}],\"valid\":false,\"warnings\":[]},{\"action\":null,\"errors\":[{\"keys\":[],\"message\":\"Additional properties are not allowed ('year_birth', 'month_birth', 'subjects' were unexpected)\",\"type\":\"ERROR\"},{\"keys\":[\"cases\"],\"message\":\"'cases' is a required property\",\"type\":\"MISSING_PROPERTY\"}],\"id\":null,\"type\":\"demographic\",\"unique_keys\":[{\"project_id\":\"program1-synthetic_dataset_1\",\"submitter_id\":\"demographic_d4e018c92d\"}],\"valid\":false,\"warnings\":[]},{\"action\":null,\"errors\":[{\"keys\":[],\"message\":\"Additional properties are not allowed ('year_birth', 'month_birth', 'subjects' were unexpected)\",\"type\":\"ERROR\"},{\"keys\":[\"cases\"],\"message\":\"'cases' is a required property\",\"type\":\"MISSING_PROPERTY\"}],\"id\":null,\"type\":\"demographic\",\"unique_keys\":[{\"project_id\":\"program1-synthetic_dataset_1\",\"submitter_id\":\"demographic_bc403c954e\"}],\"valid\":false,\"warnings\":[]},{\"action\":null,\"errors\":[{\"keys\":[],\"message\":\"Additional properties are not allowed ('year_birth', 'month_birth', 'subjects' were unexpected)\",\"type\":\"ERROR\"},{\"keys\":[\"cases\"],\"message\":\"'cases' is a required property\",\"type\":\"MISSING_PROPERTY\"}],\"id\":null,\"type\":\"demographic\",\"unique_keys\":[{\"project_id\":\"program1-synthetic_dataset_1\",\"submitter_id\":\"demographic_7386664ad7\"}],\"valid\":false,\"warnings\":[]},{\"action\":null,\"errors\":[{\"keys\":[],\"message\":\"Additional properties are not allowed ('year_birth', 'month_birth', 'subjects' were unexpected)\",\"type\":\"ERROR\"},{\"keys\":[\"cases\"],\"message\":\"'cases' is a required property\",\"type\":\"MISSING_PROPERTY\"}],\"id\":null,\"type\":\"demographic\",\"unique_keys\":[{\"project_id\":\"program1-synthetic_dataset_1\",\"submitter_id\":\"demographic_aff592952b\"}],\"valid\":false,\"warnings\":[]},{\"action\":null,\"errors\":[{\"keys\":[],\"message\":\"Additional properties are not allowed ('year_birth', 'month_birth', 'subjects' were unexpected)\",\"type\":\"ERROR\"},{\"keys\":[\"cases\"],\"message\":\"'cases' is a required property\",\"type\":\"MISSING_PROPERTY\"}],\"id\":null,\"type\":\"demographic\",\"unique_keys\":[{\"project_id\":\"program1-synthetic_dataset_1\",\"submitter_id\":\"demographic_724a091fca\"}],\"valid\":false,\"warnings\":[]},{\"action\":null,\"errors\":[{\"keys\":[],\"message\":\"Additional properties are not allowed ('year_birth', 'month_birth', 'subjects' were unexpected)\",\"type\":\"ERROR\"},{\"keys\":[\"cases\"],\"message\":\"'cases' is a required property\",\"type\":\"MISSING_PROPERTY\"}],\"id\":null,\"type\":\"demographic\",\"unique_keys\":[{\"project_id\":\"program1-synthetic_dataset_1\",\"submitter_id\":\"demographic_9482e8f149\"}],\"valid\":false,\"warnings\":[]},{\"action\":null,\"errors\":[{\"keys\":[],\"message\":\"Additional properties are not allowed ('year_birth', 'month_birth', 'subjects' were unexpected)\",\"type\":\"ERROR\"},{\"keys\":[\"cases\"],\"message\":\"'cases' is a required property\",\"type\":\"MISSING_PROPERTY\"}],\"id\":null,\"type\":\"demographic\",\"unique_keys\":[{\"project_id\":\"program1-synthetic_dataset_1\",\"submitter_id\":\"demographic_731a764cec\"}],\"valid\":false,\"warnings\":[]},{\"action\":null,\"errors\":[{\"keys\":[],\"message\":\"Additional properties are not allowed ('year_birth', 'month_birth', 'subjects' were unexpected)\",\"type\":\"ERROR\"},{\"keys\":[\"cases\"],\"message\":\"'cases' is a required property\",\"type\":\"MISSING_PROPERTY\"}],\"id\":null,\"type\":\"demographic\",\"unique_keys\":[{\"project_id\":\"program1-synthetic_dataset_1\",\"submitter_id\":\"demographic_7d0afddf24\"}],\"valid\":false,\"warnings\":[]},{\"action\":null,\"errors\":[{\"keys\":[],\"message\":\"Additional properties are not allowed ('year_birth', 'month_birth', 'subjects' were unexpected)\",\"type\":\"ERROR\"},{\"keys\":[\"cases\"],\"message\":\"'cases' is a required property\",\"type\":\"MISSING_PROPERTY\"}],\"id\":null,\"type\":\"demographic\",\"unique_keys\":[{\"project_id\":\"program1-synthetic_dataset_1\",\"submitter_id\":\"demographic_772790a9a9\"}],\"valid\":false,\"warnings\":[]},{\"action\":null,\"errors\":[{\"keys\":[],\"message\":\"Additional properties are not allowed ('year_birth', 'month_birth', 'subjects' were unexpected)\",\"type\":\"ERROR\"},{\"keys\":[\"cases\"],\"message\":\"'cases' is a required property\",\"type\":\"MISSING_PROPERTY\"}],\"id\":null,\"type\":\"demographic\",\"unique_keys\":[{\"project_id\":\"program1-synthetic_dataset_1\",\"submitter_id\":\"demographic_595ef51cc8\"}],\"valid\":false,\"warnings\":[]},{\"action\":null,\"errors\":[{\"keys\":[],\"message\":\"Additional properties are not allowed ('year_birth', 'month_birth', 'subjects' were unexpected)\",\"type\":\"ERROR\"},{\"keys\":[\"cases\"],\"message\":\"'cases' is a required property\",\"type\":\"MISSING_PROPERTY\"}],\"id\":null,\"type\":\"demographic\",\"unique_keys\":[{\"project_id\":\"program1-synthetic_dataset_1\",\"submitter_id\":\"demographic_7d94369053\"}],\"valid\":false,\"warnings\":[]},{\"action\":null,\"errors\":[{\"keys\":[],\"message\":\"Additional properties are not allowed ('year_birth', 'month_birth', 'subjects' were unexpected)\",\"type\":\"ERROR\"},{\"keys\":[\"cases\"],\"message\":\"'cases' is a required property\",\"type\":\"MISSING_PROPERTY\"}],\"id\":null,\"type\":\"demographic\",\"unique_keys\":[{\"project_id\":\"program1-synthetic_dataset_1\",\"submitter_id\":\"demographic_c01849acc6\"}],\"valid\":false,\"warnings\":[]},{\"action\":null,\"errors\":[{\"keys\":[],\"message\":\"Additional properties are not allowed ('year_birth', 'month_birth', 'subjects' were unexpected)\",\"type\":\"ERROR\"},{\"keys\":[\"cases\"],\"message\":\"'cases' is a required property\",\"type\":\"MISSING_PROPERTY\"}],\"id\":null,\"type\":\"demographic\",\"unique_keys\":[{\"project_id\":\"program1-synthetic_dataset_1\",\"submitter_id\":\"demographic_e0b87e8089\"}],\"valid\":false,\"warnings\":[]},{\"action\":null,\"errors\":[{\"keys\":[],\"message\":\"Additional properties are not allowed ('year_birth', 'month_birth', 'subjects' were unexpected)\",\"type\":\"ERROR\"},{\"keys\":[\"cases\"],\"message\":\"'cases' is a required property\",\"type\":\"MISSING_PROPERTY\"}],\"id\":null,\"type\":\"demographic\",\"unique_keys\":[{\"project_id\":\"program1-synthetic_dataset_1\",\"submitter_id\":\"demographic_b4f7803e1c\"}],\"valid\":false,\"warnings\":[]},{\"action\":null,\"errors\":[{\"keys\":[],\"message\":\"Additional properties are not allowed ('year_birth', 'month_birth', 'subjects' were unexpected)\",\"type\":\"ERROR\"},{\"keys\":[\"cases\"],\"message\":\"'cases' is a required property\",\"type\":\"MISSING_PROPERTY\"}],\"id\":null,\"type\":\"demographic\",\"unique_keys\":[{\"project_id\":\"program1-synthetic_dataset_1\",\"submitter_id\":\"demographic_41133f183f\"}],\"valid\":false,\"warnings\":[]},{\"action\":null,\"errors\":[{\"keys\":[],\"message\":\"Additional properties are not allowed ('year_birth', 'month_birth', 'subjects' were unexpected)\",\"type\":\"ERROR\"},{\"keys\":[\"cases\"],\"message\":\"'cases' is a required property\",\"type\":\"MISSING_PROPERTY\"}],\"id\":null,\"type\":\"demographic\",\"unique_keys\":[{\"project_id\":\"program1-synthetic_dataset_1\",\"submitter_id\":\"demographic_eb7465787b\"}],\"valid\":false,\"warnings\":[]},{\"action\":null,\"errors\":[{\"keys\":[],\"message\":\"Additional properties are not allowed ('year_birth', 'month_birth', 'subjects' were unexpected)\",\"type\":\"ERROR\"},{\"keys\":[\"cases\"],\"message\":\"'cases' is a required property\",\"type\":\"MISSING_PROPERTY\"}],\"id\":null,\"type\":\"demographic\",\"unique_keys\":[{\"project_id\":\"program1-synthetic_dataset_1\",\"submitter_id\":\"demographic_d9f0e138ac\"}],\"valid\":false,\"warnings\":[]},{\"action\":null,\"errors\":[{\"keys\":[],\"message\":\"Additional properties are not allowed ('year_birth', 'month_birth', 'subjects' were unexpected)\",\"type\":\"ERROR\"},{\"keys\":[\"cases\"],\"message\":\"'cases' is a required property\",\"type\":\"MISSING_PROPERTY\"}],\"id\":null,\"type\":\"demographic\",\"unique_keys\":[{\"project_id\":\"program1-synthetic_dataset_1\",\"submitter_id\":\"demographic_075ab8ff5c\"}],\"valid\":false,\"warnings\":[]},{\"action\":null,\"errors\":[{\"keys\":[],\"message\":\"Additional properties are not allowed ('year_birth', 'month_birth', 'subjects' were unexpected)\",\"type\":\"ERROR\"},{\"keys\":[\"cases\"],\"message\":\"'cases' is a required property\",\"type\":\"MISSING_PROPERTY\"}],\"id\":null,\"type\":\"demographic\",\"unique_keys\":[{\"project_id\":\"program1-synthetic_dataset_1\",\"submitter_id\":\"demographic_74b359d6af\"}],\"valid\":false,\"warnings\":[]},{\"action\":null,\"errors\":[{\"keys\":[],\"message\":\"Additional properties are not allowed ('year_birth', 'month_birth', 'subjects' were unexpected)\",\"type\":\"ERROR\"},{\"keys\":[\"cases\"],\"message\":\"'cases' is a required property\",\"type\":\"MISSING_PROPERTY\"}],\"id\":null,\"type\":\"demographic\",\"unique_keys\":[{\"project_id\":\"program1-synthetic_dataset_1\",\"submitter_id\":\"demographic_b1bd18a907\"}],\"valid\":false,\"warnings\":[]},{\"action\":null,\"errors\":[{\"keys\":[],\"message\":\"Additional properties are not allowed ('year_birth', 'month_birth', 'subjects' were unexpected)\",\"type\":\"ERROR\"},{\"keys\":[\"cases\"],\"message\":\"'cases' is a required property\",\"type\":\"MISSING_PROPERTY\"}],\"id\":null,\"type\":\"demographic\",\"unique_keys\":[{\"project_id\":\"program1-synthetic_dataset_1\",\"submitter_id\":\"demographic_cd1534be33\"}],\"valid\":false,\"warnings\":[]},{\"action\":null,\"errors\":[{\"keys\":[],\"message\":\"Additional properties are not allowed ('year_birth', 'month_birth', 'subjects' were unexpected)\",\"type\":\"ERROR\"},{\"keys\":[\"cases\"],\"message\":\"'cases' is a required property\",\"type\":\"MISSING_PROPERTY\"}],\"id\":null,\"type\":\"demographic\",\"unique_keys\":[{\"project_id\":\"program1-synthetic_dataset_1\",\"submitter_id\":\"demographic_03e9abdeb1\"}],\"valid\":false,\"warnings\":[]},{\"action\":null,\"errors\":[{\"keys\":[],\"message\":\"Additional properties are not allowed ('year_birth', 'month_birth', 'subjects' were unexpected)\",\"type\":\"ERROR\"},{\"keys\":[\"cases\"],\"message\":\"'cases' is a required property\",\"type\":\"MISSING_PROPERTY\"}],\"id\":null,\"type\":\"demographic\",\"unique_keys\":[{\"project_id\":\"program1-synthetic_dataset_1\",\"submitter_id\":\"demographic_472044f3ff\"}],\"valid\":false,\"warnings\":[]},{\"action\":null,\"errors\":[{\"keys\":[],\"message\":\"Additional properties are not allowed ('year_birth', 'month_birth', 'subjects' were unexpected)\",\"type\":\"ERROR\"},{\"keys\":[\"cases\"],\"message\":\"'cases' is a required property\",\"type\":\"MISSING_PROPERTY\"}],\"id\":null,\"type\":\"demographic\",\"unique_keys\":[{\"project_id\":\"program1-synthetic_dataset_1\",\"submitter_id\":\"demographic_f0758623a6\"}],\"valid\":false,\"warnings\":[]},{\"action\":null,\"errors\":[{\"keys\":[],\"message\":\"Additional properties are not allowed ('year_birth', 'month_birth', 'subjects' were unexpected)\",\"type\":\"ERROR\"},{\"keys\":[\"cases\"],\"message\":\"'cases' is a required property\",\"type\":\"MISSING_PROPERTY\"}],\"id\":null,\"type\":\"demographic\",\"unique_keys\":[{\"project_id\":\"program1-synthetic_dataset_1\",\"submitter_id\":\"demographic_96d39f8275\"}],\"valid\":false,\"warnings\":[]},{\"action\":null,\"errors\":[{\"keys\":[],\"message\":\"Additional properties are not allowed ('year_birth', 'month_birth', 'subjects' were unexpected)\",\"type\":\"ERROR\"},{\"keys\":[\"cases\"],\"message\":\"'cases' is a required property\",\"type\":\"MISSING_PROPERTY\"}],\"id\":null,\"type\":\"demographic\",\"unique_keys\":[{\"project_id\":\"program1-synthetic_dataset_1\",\"submitter_id\":\"demographic_acc7cad2c2\"}],\"valid\":false,\"warnings\":[]},{\"action\":null,\"errors\":[{\"keys\":[],\"message\":\"Additional properties are not allowed ('year_birth', 'month_birth', 'subjects' were unexpected)\",\"type\":\"ERROR\"},{\"keys\":[\"cases\"],\"message\":\"'cases' is a required property\",\"type\":\"MISSING_PROPERTY\"}],\"id\":null,\"type\":\"demographic\",\"unique_keys\":[{\"project_id\":\"program1-synthetic_dataset_1\",\"submitter_id\":\"demographic_5c0ae3bd60\"}],\"valid\":false,\"warnings\":[]},{\"action\":null,\"errors\":[{\"keys\":[],\"message\":\"Additional properties are not allowed ('year_birth', 'month_birth', 'subjects' were unexpected)\",\"type\":\"ERROR\"},{\"keys\":[\"cases\"],\"message\":\"'cases' is a required property\",\"type\":\"MISSING_PROPERTY\"}],\"id\":null,\"type\":\"demographic\",\"unique_keys\":[{\"project_id\":\"program1-synthetic_dataset_1\",\"submitter_id\":\"demographic_2bede3288e\"}],\"valid\":false,\"warnings\":[]},{\"action\":null,\"errors\":[{\"keys\":[],\"message\":\"Additional properties are not allowed ('year_birth', 'month_birth', 'subjects' were unexpected)\",\"type\":\"ERROR\"},{\"keys\":[\"cases\"],\"message\":\"'cases' is a required property\",\"type\":\"MISSING_PROPERTY\"}],\"id\":null,\"type\":\"demographic\",\"unique_keys\":[{\"project_id\":\"program1-synthetic_dataset_1\",\"submitter_id\":\"demographic_78c90d082b\"}],\"valid\":false,\"warnings\":[]},{\"action\":null,\"errors\":[{\"keys\":[],\"message\":\"Additional properties are not allowed ('year_birth', 'month_birth', 'subjects' were unexpected)\",\"type\":\"ERROR\"},{\"keys\":[\"cases\"],\"message\":\"'cases' is a required property\",\"type\":\"MISSING_PROPERTY\"}],\"id\":null,\"type\":\"demographic\",\"unique_keys\":[{\"project_id\":\"program1-synthetic_dataset_1\",\"submitter_id\":\"demographic_be9da68902\"}],\"valid\":false,\"warnings\":[]},{\"action\":null,\"errors\":[{\"keys\":[],\"message\":\"Additional properties are not allowed ('year_birth', 'month_birth', 'subjects' were unexpected)\",\"type\":\"ERROR\"},{\"keys\":[\"cases\"],\"message\":\"'cases' is a required property\",\"type\":\"MISSING_PROPERTY\"}],\"id\":null,\"type\":\"demographic\",\"unique_keys\":[{\"project_id\":\"program1-synthetic_dataset_1\",\"submitter_id\":\"demographic_cfc6a0549c\"}],\"valid\":false,\"warnings\":[]},{\"action\":null,\"errors\":[{\"keys\":[],\"message\":\"Additional properties are not allowed ('year_birth', 'month_birth', 'subjects' were unexpected)\",\"type\":\"ERROR\"},{\"keys\":[\"cases\"],\"message\":\"'cases' is a required property\",\"type\":\"MISSING_PROPERTY\"}],\"id\":null,\"type\":\"demographic\",\"unique_keys\":[{\"project_id\":\"program1-synthetic_dataset_1\",\"submitter_id\":\"demographic_f58006b543\"}],\"valid\":false,\"warnings\":[]},{\"action\":null,\"errors\":[{\"keys\":[],\"message\":\"Additional properties are not allowed ('year_birth', 'month_birth', 'subjects' were unexpected)\",\"type\":\"ERROR\"},{\"keys\":[\"cases\"],\"message\":\"'cases' is a required property\",\"type\":\"MISSING_PROPERTY\"}],\"id\":null,\"type\":\"demographic\",\"unique_keys\":[{\"project_id\":\"program1-synthetic_dataset_1\",\"submitter_id\":\"demographic_5048870a49\"}],\"valid\":false,\"warnings\":[]},{\"action\":null,\"errors\":[{\"keys\":[],\"message\":\"Additional properties are not allowed ('year_birth', 'month_birth', 'subjects' were unexpected)\",\"type\":\"ERROR\"},{\"keys\":[\"cases\"],\"message\":\"'cases' is a required property\",\"type\":\"MISSING_PROPERTY\"}],\"id\":null,\"type\":\"demographic\",\"unique_keys\":[{\"project_id\":\"program1-synthetic_dataset_1\",\"submitter_id\":\"demographic_f7f21b855c\"}],\"valid\":false,\"warnings\":[]},{\"action\":null,\"errors\":[{\"keys\":[],\"message\":\"Additional properties are not allowed ('year_birth', 'month_birth', 'subjects' were unexpected)\",\"type\":\"ERROR\"},{\"keys\":[\"cases\"],\"message\":\"'cases' is a required property\",\"type\":\"MISSING_PROPERTY\"}],\"id\":null,\"type\":\"demographic\",\"unique_keys\":[{\"project_id\":\"program1-synthetic_dataset_1\",\"submitter_id\":\"demographic_b16f5f432c\"}],\"valid\":false,\"warnings\":[]},{\"action\":null,\"errors\":[{\"keys\":[],\"message\":\"Additional properties are not allowed ('year_birth', 'month_birth', 'subjects' were unexpected)\",\"type\":\"ERROR\"},{\"keys\":[\"cases\"],\"message\":\"'cases' is a required property\",\"type\":\"MISSING_PROPERTY\"}],\"id\":null,\"type\":\"demographic\",\"unique_keys\":[{\"project_id\":\"program1-synthetic_dataset_1\",\"submitter_id\":\"demographic_1b24c9bfb7\"}],\"valid\":false,\"warnings\":[]},{\"action\":null,\"errors\":[{\"keys\":[],\"message\":\"Additional properties are not allowed ('year_birth', 'month_birth', 'subjects' were unexpected)\",\"type\":\"ERROR\"},{\"keys\":[\"cases\"],\"message\":\"'cases' is a required property\",\"type\":\"MISSING_PROPERTY\"}],\"id\":null,\"type\":\"demographic\",\"unique_keys\":[{\"project_id\":\"program1-synthetic_dataset_1\",\"submitter_id\":\"demographic_02c95c5e2c\"}],\"valid\":false,\"warnings\":[]},{\"action\":null,\"errors\":[{\"keys\":[],\"message\":\"Additional properties are not allowed ('year_birth', 'month_birth', 'subjects' were unexpected)\",\"type\":\"ERROR\"},{\"keys\":[\"cases\"],\"message\":\"'cases' is a required property\",\"type\":\"MISSING_PROPERTY\"}],\"id\":null,\"type\":\"demographic\",\"unique_keys\":[{\"project_id\":\"program1-synthetic_dataset_1\",\"submitter_id\":\"demographic_a454465ce1\"}],\"valid\":false,\"warnings\":[]},{\"action\":null,\"errors\":[{\"keys\":[],\"message\":\"Additional properties are not allowed ('year_birth', 'month_birth', 'subjects' were unexpected)\",\"type\":\"ERROR\"},{\"keys\":[\"cases\"],\"message\":\"'cases' is a required property\",\"type\":\"MISSING_PROPERTY\"}],\"id\":null,\"type\":\"demographic\",\"unique_keys\":[{\"project_id\":\"program1-synthetic_dataset_1\",\"submitter_id\":\"demographic_573d1d72e3\"}],\"valid\":false,\"warnings\":[]},{\"action\":null,\"errors\":[{\"keys\":[],\"message\":\"Additional properties are not allowed ('year_birth', 'month_birth', 'subjects' were unexpected)\",\"type\":\"ERROR\"},{\"keys\":[\"cases\"],\"message\":\"'cases' is a required property\",\"type\":\"MISSING_PROPERTY\"}],\"id\":null,\"type\":\"demographic\",\"unique_keys\":[{\"project_id\":\"program1-synthetic_dataset_1\",\"submitter_id\":\"demographic_bb5c6d838a\"}],\"valid\":false,\"warnings\":[]},{\"action\":null,\"errors\":[{\"keys\":[],\"message\":\"Additional properties are not allowed ('year_birth', 'month_birth', 'subjects' were unexpected)\",\"type\":\"ERROR\"},{\"keys\":[\"cases\"],\"message\":\"'cases' is a required property\",\"type\":\"MISSING_PROPERTY\"}],\"id\":null,\"type\":\"demographic\",\"unique_keys\":[{\"project_id\":\"program1-synthetic_dataset_1\",\"submitter_id\":\"demographic_8c88d3b2bd\"}],\"valid\":false,\"warnings\":[]},{\"action\":null,\"errors\":[{\"keys\":[],\"message\":\"Additional properties are not allowed ('year_birth', 'month_birth', 'subjects' were unexpected)\",\"type\":\"ERROR\"},{\"keys\":[\"cases\"],\"message\":\"'cases' is a required property\",\"type\":\"MISSING_PROPERTY\"}],\"id\":null,\"type\":\"demographic\",\"unique_keys\":[{\"project_id\":\"program1-synthetic_dataset_1\",\"submitter_id\":\"demographic_cb7977bd21\"}],\"valid\":false,\"warnings\":[]},{\"action\":null,\"errors\":[{\"keys\":[],\"message\":\"Additional properties are not allowed ('year_birth', 'month_birth', 'subjects' were unexpected)\",\"type\":\"ERROR\"},{\"keys\":[\"cases\"],\"message\":\"'cases' is a required property\",\"type\":\"MISSING_PROPERTY\"}],\"id\":null,\"type\":\"demographic\",\"unique_keys\":[{\"project_id\":\"program1-synthetic_dataset_1\",\"submitter_id\":\"demographic_c672f32c51\"}],\"valid\":false,\"warnings\":[]},{\"action\":null,\"errors\":[{\"keys\":[],\"message\":\"Additional properties are not allowed ('year_birth', 'month_birth', 'subjects' were unexpected)\",\"type\":\"ERROR\"},{\"keys\":[\"cases\"],\"message\":\"'cases' is a required property\",\"type\":\"MISSING_PROPERTY\"}],\"id\":null,\"type\":\"demographic\",\"unique_keys\":[{\"project_id\":\"program1-synthetic_dataset_1\",\"submitter_id\":\"demographic_16c15fd003\"}],\"valid\":false,\"warnings\":[]},{\"action\":null,\"errors\":[{\"keys\":[],\"message\":\"Additional properties are not allowed ('year_birth', 'month_birth', 'subjects' were unexpected)\",\"type\":\"ERROR\"},{\"keys\":[\"cases\"],\"message\":\"'cases' is a required property\",\"type\":\"MISSING_PROPERTY\"}],\"id\":null,\"type\":\"demographic\",\"unique_keys\":[{\"project_id\":\"program1-synthetic_dataset_1\",\"submitter_id\":\"demographic_ca7ff9f739\"}],\"valid\":false,\"warnings\":[]},{\"action\":null,\"errors\":[{\"keys\":[],\"message\":\"Additional properties are not allowed ('year_birth', 'month_birth', 'subjects' were unexpected)\",\"type\":\"ERROR\"},{\"keys\":[\"cases\"],\"message\":\"'cases' is a required property\",\"type\":\"MISSING_PROPERTY\"}],\"id\":null,\"type\":\"demographic\",\"unique_keys\":[{\"project_id\":\"program1-synthetic_dataset_1\",\"submitter_id\":\"demographic_4a7dc6251b\"}],\"valid\":false,\"warnings\":[]},{\"action\":null,\"errors\":[{\"keys\":[],\"message\":\"Additional properties are not allowed ('year_birth', 'month_birth', 'subjects' were unexpected)\",\"type\":\"ERROR\"},{\"keys\":[\"cases\"],\"message\":\"'cases' is a required property\",\"type\":\"MISSING_PROPERTY\"}],\"id\":null,\"type\":\"demographic\",\"unique_keys\":[{\"project_id\":\"program1-synthetic_dataset_1\",\"submitter_id\":\"demographic_edc7161c8b\"}],\"valid\":false,\"warnings\":[]},{\"action\":null,\"errors\":[{\"keys\":[],\"message\":\"Additional properties are not allowed ('year_birth', 'month_birth', 'subjects' were unexpected)\",\"type\":\"ERROR\"},{\"keys\":[\"cases\"],\"message\":\"'cases' is a required property\",\"type\":\"MISSING_PROPERTY\"}],\"id\":null,\"type\":\"demographic\",\"unique_keys\":[{\"project_id\":\"program1-synthetic_dataset_1\",\"submitter_id\":\"demographic_495336bb99\"}],\"valid\":false,\"warnings\":[]},{\"action\":null,\"errors\":[{\"keys\":[],\"message\":\"Additional properties are not allowed ('year_birth', 'month_birth', 'subjects' were unexpected)\",\"type\":\"ERROR\"},{\"keys\":[\"cases\"],\"message\":\"'cases' is a required property\",\"type\":\"MISSING_PROPERTY\"}],\"id\":null,\"type\":\"demographic\",\"unique_keys\":[{\"project_id\":\"program1-synthetic_dataset_1\",\"submitter_id\":\"demographic_79e6d33e17\"}],\"valid\":false,\"warnings\":[]},{\"action\":null,\"errors\":[{\"keys\":[],\"message\":\"Additional properties are not allowed ('year_birth', 'month_birth', 'subjects' were unexpected)\",\"type\":\"ERROR\"},{\"keys\":[\"cases\"],\"message\":\"'cases' is a required property\",\"type\":\"MISSING_PROPERTY\"}],\"id\":null,\"type\":\"demographic\",\"unique_keys\":[{\"project_id\":\"program1-synthetic_dataset_1\",\"submitter_id\":\"demographic_368082966c\"}],\"valid\":false,\"warnings\":[]},{\"action\":null,\"errors\":[{\"keys\":[],\"message\":\"Additional properties are not allowed ('year_birth', 'month_birth', 'subjects' were unexpected)\",\"type\":\"ERROR\"},{\"keys\":[\"cases\"],\"message\":\"'cases' is a required property\",\"type\":\"MISSING_PROPERTY\"}],\"id\":null,\"type\":\"demographic\",\"unique_keys\":[{\"project_id\":\"program1-synthetic_dataset_1\",\"submitter_id\":\"demographic_226a995492\"}],\"valid\":false,\"warnings\":[]},{\"action\":null,\"errors\":[{\"keys\":[],\"message\":\"Additional properties are not allowed ('year_birth', 'month_birth', 'subjects' were unexpected)\",\"type\":\"ERROR\"},{\"keys\":[\"cases\"],\"message\":\"'cases' is a required property\",\"type\":\"MISSING_PROPERTY\"}],\"id\":null,\"type\":\"demographic\",\"unique_keys\":[{\"project_id\":\"program1-synthetic_dataset_1\",\"submitter_id\":\"demographic_fb185ca1eb\"}],\"valid\":false,\"warnings\":[]},{\"action\":null,\"errors\":[{\"keys\":[],\"message\":\"Additional properties are not allowed ('year_birth', 'month_birth', 'subjects' were unexpected)\",\"type\":\"ERROR\"},{\"keys\":[\"cases\"],\"message\":\"'cases' is a required property\",\"type\":\"MISSING_PROPERTY\"}],\"id\":null,\"type\":\"demographic\",\"unique_keys\":[{\"project_id\":\"program1-synthetic_dataset_1\",\"submitter_id\":\"demographic_9bc8741a53\"}],\"valid\":false,\"warnings\":[]},{\"action\":null,\"errors\":[{\"keys\":[],\"message\":\"Additional properties are not allowed ('year_birth', 'month_birth', 'subjects' were unexpected)\",\"type\":\"ERROR\"},{\"keys\":[\"cases\"],\"message\":\"'cases' is a required property\",\"type\":\"MISSING_PROPERTY\"}],\"id\":null,\"type\":\"demographic\",\"unique_keys\":[{\"project_id\":\"program1-synthetic_dataset_1\",\"submitter_id\":\"demographic_d5ad1e6890\"}],\"valid\":false,\"warnings\":[]},{\"action\":null,\"errors\":[{\"keys\":[],\"message\":\"Additional properties are not allowed ('year_birth', 'month_birth', 'subjects' were unexpected)\",\"type\":\"ERROR\"},{\"keys\":[\"cases\"],\"message\":\"'cases' is a required property\",\"type\":\"MISSING_PROPERTY\"}],\"id\":null,\"type\":\"demographic\",\"unique_keys\":[{\"project_id\":\"program1-synthetic_dataset_1\",\"submitter_id\":\"demographic_879d4e86d8\"}],\"valid\":false,\"warnings\":[]},{\"action\":null,\"errors\":[{\"keys\":[],\"message\":\"Additional properties are not allowed ('year_birth', 'month_birth', 'subjects' were unexpected)\",\"type\":\"ERROR\"},{\"keys\":[\"cases\"],\"message\":\"'cases' is a required property\",\"type\":\"MISSING_PROPERTY\"}],\"id\":null,\"type\":\"demographic\",\"unique_keys\":[{\"project_id\":\"program1-synthetic_dataset_1\",\"submitter_id\":\"demographic_3cc97332b4\"}],\"valid\":false,\"warnings\":[]},{\"action\":null,\"errors\":[{\"keys\":[],\"message\":\"Additional properties are not allowed ('year_birth', 'month_birth', 'subjects' were unexpected)\",\"type\":\"ERROR\"},{\"keys\":[\"cases\"],\"message\":\"'cases' is a required property\",\"type\":\"MISSING_PROPERTY\"}],\"id\":null,\"type\":\"demographic\",\"unique_keys\":[{\"project_id\":\"program1-synthetic_dataset_1\",\"submitter_id\":\"demographic_38c7a6f959\"}],\"valid\":false,\"warnings\":[]},{\"action\":null,\"errors\":[{\"keys\":[],\"message\":\"Additional properties are not allowed ('year_birth', 'month_birth', 'subjects' were unexpected)\",\"type\":\"ERROR\"},{\"keys\":[\"cases\"],\"message\":\"'cases' is a required property\",\"type\":\"MISSING_PROPERTY\"}],\"id\":null,\"type\":\"demographic\",\"unique_keys\":[{\"project_id\":\"program1-synthetic_dataset_1\",\"submitter_id\":\"demographic_633baea54d\"}],\"valid\":false,\"warnings\":[]},{\"action\":null,\"errors\":[{\"keys\":[],\"message\":\"Additional properties are not allowed ('year_birth', 'month_birth', 'subjects' were unexpected)\",\"type\":\"ERROR\"},{\"keys\":[\"cases\"],\"message\":\"'cases' is a required property\",\"type\":\"MISSING_PROPERTY\"}],\"id\":null,\"type\":\"demographic\",\"unique_keys\":[{\"project_id\":\"program1-synthetic_dataset_1\",\"submitter_id\":\"demographic_e306333e91\"}],\"valid\":false,\"warnings\":[]},{\"action\":null,\"errors\":[{\"keys\":[],\"message\":\"Additional properties are not allowed ('year_birth', 'month_birth', 'subjects' were unexpected)\",\"type\":\"ERROR\"},{\"keys\":[\"cases\"],\"message\":\"'cases' is a required property\",\"type\":\"MISSING_PROPERTY\"}],\"id\":null,\"type\":\"demographic\",\"unique_keys\":[{\"project_id\":\"program1-synthetic_dataset_1\",\"submitter_id\":\"demographic_d10676a316\"}],\"valid\":false,\"warnings\":[]},{\"action\":null,\"errors\":[{\"keys\":[],\"message\":\"Additional properties are not allowed ('year_birth', 'month_birth', 'subjects' were unexpected)\",\"type\":\"ERROR\"},{\"keys\":[\"cases\"],\"message\":\"'cases' is a required property\",\"type\":\"MISSING_PROPERTY\"}],\"id\":null,\"type\":\"demographic\",\"unique_keys\":[{\"project_id\":\"program1-synthetic_dataset_1\",\"submitter_id\":\"demographic_bcdc6fee09\"}],\"valid\":false,\"warnings\":[]},{\"action\":null,\"errors\":[{\"keys\":[],\"message\":\"Additional properties are not allowed ('year_birth', 'month_birth', 'subjects' were unexpected)\",\"type\":\"ERROR\"},{\"keys\":[\"cases\"],\"message\":\"'cases' is a required property\",\"type\":\"MISSING_PROPERTY\"}],\"id\":null,\"type\":\"demographic\",\"unique_keys\":[{\"project_id\":\"program1-synthetic_dataset_1\",\"submitter_id\":\"demographic_3bfa4f57e3\"}],\"valid\":false,\"warnings\":[]},{\"action\":null,\"errors\":[{\"keys\":[],\"message\":\"Additional properties are not allowed ('year_birth', 'month_birth', 'subjects' were unexpected)\",\"type\":\"ERROR\"},{\"keys\":[\"cases\"],\"message\":\"'cases' is a required property\",\"type\":\"MISSING_PROPERTY\"}],\"id\":null,\"type\":\"demographic\",\"unique_keys\":[{\"project_id\":\"program1-synthetic_dataset_1\",\"submitter_id\":\"demographic_87954d6e38\"}],\"valid\":false,\"warnings\":[]},{\"action\":null,\"errors\":[{\"keys\":[],\"message\":\"Additional properties are not allowed ('year_birth', 'month_birth', 'subjects' were unexpected)\",\"type\":\"ERROR\"},{\"keys\":[\"cases\"],\"message\":\"'cases' is a required property\",\"type\":\"MISSING_PROPERTY\"}],\"id\":null,\"type\":\"demographic\",\"unique_keys\":[{\"project_id\":\"program1-synthetic_dataset_1\",\"submitter_id\":\"demographic_a8ec2c235b\"}],\"valid\":false,\"warnings\":[]},{\"action\":null,\"errors\":[{\"keys\":[],\"message\":\"Additional properties are not allowed ('year_birth', 'month_birth', 'subjects' were unexpected)\",\"type\":\"ERROR\"},{\"keys\":[\"cases\"],\"message\":\"'cases' is a required property\",\"type\":\"MISSING_PROPERTY\"}],\"id\":null,\"type\":\"demographic\",\"unique_keys\":[{\"project_id\":\"program1-synthetic_dataset_1\",\"submitter_id\":\"demographic_9efefb2537\"}],\"valid\":false,\"warnings\":[]},{\"action\":null,\"errors\":[{\"keys\":[],\"message\":\"Additional properties are not allowed ('year_birth', 'month_birth', 'subjects' were unexpected)\",\"type\":\"ERROR\"},{\"keys\":[\"cases\"],\"message\":\"'cases' is a required property\",\"type\":\"MISSING_PROPERTY\"}],\"id\":null,\"type\":\"demographic\",\"unique_keys\":[{\"project_id\":\"program1-synthetic_dataset_1\",\"submitter_id\":\"demographic_0ba809c810\"}],\"valid\":false,\"warnings\":[]},{\"action\":null,\"errors\":[{\"keys\":[],\"message\":\"Additional properties are not allowed ('year_birth', 'month_birth', 'subjects' were unexpected)\",\"type\":\"ERROR\"},{\"keys\":[\"cases\"],\"message\":\"'cases' is a required property\",\"type\":\"MISSING_PROPERTY\"}],\"id\":null,\"type\":\"demographic\",\"unique_keys\":[{\"project_id\":\"program1-synthetic_dataset_1\",\"submitter_id\":\"demographic_a33b24f1fa\"}],\"valid\":false,\"warnings\":[]},{\"action\":null,\"errors\":[{\"keys\":[],\"message\":\"Additional properties are not allowed ('year_birth', 'month_birth', 'subjects' were unexpected)\",\"type\":\"ERROR\"},{\"keys\":[\"cases\"],\"message\":\"'cases' is a required property\",\"type\":\"MISSING_PROPERTY\"}],\"id\":null,\"type\":\"demographic\",\"unique_keys\":[{\"project_id\":\"program1-synthetic_dataset_1\",\"submitter_id\":\"demographic_98be01dfe9\"}],\"valid\":false,\"warnings\":[]},{\"action\":null,\"errors\":[{\"keys\":[],\"message\":\"Additional properties are not allowed ('year_birth', 'month_birth', 'subjects' were unexpected)\",\"type\":\"ERROR\"},{\"keys\":[\"cases\"],\"message\":\"'cases' is a required property\",\"type\":\"MISSING_PROPERTY\"}],\"id\":null,\"type\":\"demographic\",\"unique_keys\":[{\"project_id\":\"program1-synthetic_dataset_1\",\"submitter_id\":\"demographic_f0930055c7\"}],\"valid\":false,\"warnings\":[]},{\"action\":null,\"errors\":[{\"keys\":[],\"message\":\"Additional properties are not allowed ('year_birth', 'month_birth', 'subjects' were unexpected)\",\"type\":\"ERROR\"},{\"keys\":[\"cases\"],\"message\":\"'cases' is a required property\",\"type\":\"MISSING_PROPERTY\"}],\"id\":null,\"type\":\"demographic\",\"unique_keys\":[{\"project_id\":\"program1-synthetic_dataset_1\",\"submitter_id\":\"demographic_81ed39a496\"}],\"valid\":false,\"warnings\":[]},{\"action\":null,\"errors\":[{\"keys\":[],\"message\":\"Additional properties are not allowed ('year_birth', 'month_birth', 'subjects' were unexpected)\",\"type\":\"ERROR\"},{\"keys\":[\"cases\"],\"message\":\"'cases' is a required property\",\"type\":\"MISSING_PROPERTY\"}],\"id\":null,\"type\":\"demographic\",\"unique_keys\":[{\"project_id\":\"program1-synthetic_dataset_1\",\"submitter_id\":\"demographic_40e6a261c0\"}],\"valid\":false,\"warnings\":[]},{\"action\":null,\"errors\":[{\"keys\":[],\"message\":\"Additional properties are not allowed ('year_birth', 'month_birth', 'subjects' were unexpected)\",\"type\":\"ERROR\"},{\"keys\":[\"cases\"],\"message\":\"'cases' is a required property\",\"type\":\"MISSING_PROPERTY\"}],\"id\":null,\"type\":\"demographic\",\"unique_keys\":[{\"project_id\":\"program1-synthetic_dataset_1\",\"submitter_id\":\"demographic_47e4347783\"}],\"valid\":false,\"warnings\":[]},{\"action\":null,\"errors\":[{\"keys\":[],\"message\":\"Additional properties are not allowed ('year_birth', 'month_birth', 'subjects' were unexpected)\",\"type\":\"ERROR\"},{\"keys\":[\"cases\"],\"message\":\"'cases' is a required property\",\"type\":\"MISSING_PROPERTY\"}],\"id\":null,\"type\":\"demographic\",\"unique_keys\":[{\"project_id\":\"program1-synthetic_dataset_1\",\"submitter_id\":\"demographic_9b36120bbe\"}],\"valid\":false,\"warnings\":[]},{\"action\":null,\"errors\":[{\"keys\":[],\"message\":\"Additional properties are not allowed ('year_birth', 'month_birth', 'subjects' were unexpected)\",\"type\":\"ERROR\"},{\"keys\":[\"cases\"],\"message\":\"'cases' is a required property\",\"type\":\"MISSING_PROPERTY\"}],\"id\":null,\"type\":\"demographic\",\"unique_keys\":[{\"project_id\":\"program1-synthetic_dataset_1\",\"submitter_id\":\"demographic_b68bdced42\"}],\"valid\":false,\"warnings\":[]},{\"action\":null,\"errors\":[{\"keys\":[],\"message\":\"Additional properties are not allowed ('year_birth', 'month_birth', 'subjects' were unexpected)\",\"type\":\"ERROR\"},{\"keys\":[\"cases\"],\"message\":\"'cases' is a required property\",\"type\":\"MISSING_PROPERTY\"}],\"id\":null,\"type\":\"demographic\",\"unique_keys\":[{\"project_id\":\"program1-synthetic_dataset_1\",\"submitter_id\":\"demographic_8ed1aaf66e\"}],\"valid\":false,\"warnings\":[]},{\"action\":null,\"errors\":[{\"keys\":[],\"message\":\"Additional properties are not allowed ('year_birth', 'month_birth', 'subjects' were unexpected)\",\"type\":\"ERROR\"},{\"keys\":[\"cases\"],\"message\":\"'cases' is a required property\",\"type\":\"MISSING_PROPERTY\"}],\"id\":null,\"type\":\"demographic\",\"unique_keys\":[{\"project_id\":\"program1-synthetic_dataset_1\",\"submitter_id\":\"demographic_9d0167dc5c\"}],\"valid\":false,\"warnings\":[]},{\"action\":null,\"errors\":[{\"keys\":[],\"message\":\"Additional properties are not allowed ('year_birth', 'month_birth', 'subjects' were unexpected)\",\"type\":\"ERROR\"},{\"keys\":[\"cases\"],\"message\":\"'cases' is a required property\",\"type\":\"MISSING_PROPERTY\"}],\"id\":null,\"type\":\"demographic\",\"unique_keys\":[{\"project_id\":\"program1-synthetic_dataset_1\",\"submitter_id\":\"demographic_7c20cb6ce3\"}],\"valid\":false,\"warnings\":[]},{\"action\":null,\"errors\":[{\"keys\":[],\"message\":\"Additional properties are not allowed ('year_birth', 'month_birth', 'subjects' were unexpected)\",\"type\":\"ERROR\"},{\"keys\":[\"cases\"],\"message\":\"'cases' is a required property\",\"type\":\"MISSING_PROPERTY\"}],\"id\":null,\"type\":\"demographic\",\"unique_keys\":[{\"project_id\":\"program1-synthetic_dataset_1\",\"submitter_id\":\"demographic_b1079f5b3a\"}],\"valid\":false,\"warnings\":[]},{\"action\":null,\"errors\":[{\"keys\":[],\"message\":\"Additional properties are not allowed ('year_birth', 'month_birth', 'subjects' were unexpected)\",\"type\":\"ERROR\"},{\"keys\":[\"cases\"],\"message\":\"'cases' is a required property\",\"type\":\"MISSING_PROPERTY\"}],\"id\":null,\"type\":\"demographic\",\"unique_keys\":[{\"project_id\":\"program1-synthetic_dataset_1\",\"submitter_id\":\"demographic_41e3654920\"}],\"valid\":false,\"warnings\":[]},{\"action\":null,\"errors\":[{\"keys\":[],\"message\":\"Additional properties are not allowed ('year_birth', 'month_birth', 'subjects' were unexpected)\",\"type\":\"ERROR\"},{\"keys\":[\"cases\"],\"message\":\"'cases' is a required property\",\"type\":\"MISSING_PROPERTY\"}],\"id\":null,\"type\":\"demographic\",\"unique_keys\":[{\"project_id\":\"program1-synthetic_dataset_1\",\"submitter_id\":\"demographic_4d1ed8a154\"}],\"valid\":false,\"warnings\":[]},{\"action\":null,\"errors\":[{\"keys\":[],\"message\":\"Additional properties are not allowed ('year_birth', 'month_birth', 'subjects' were unexpected)\",\"type\":\"ERROR\"},{\"keys\":[\"cases\"],\"message\":\"'cases' is a required property\",\"type\":\"MISSING_PROPERTY\"}],\"id\":null,\"type\":\"demographic\",\"unique_keys\":[{\"project_id\":\"program1-synthetic_dataset_1\",\"submitter_id\":\"demographic_015d83c89e\"}],\"valid\":false,\"warnings\":[]},{\"action\":null,\"errors\":[{\"keys\":[],\"message\":\"Additional properties are not allowed ('year_birth', 'month_birth', 'subjects' were unexpected)\",\"type\":\"ERROR\"},{\"keys\":[\"cases\"],\"message\":\"'cases' is a required property\",\"type\":\"MISSING_PROPERTY\"}],\"id\":null,\"type\":\"demographic\",\"unique_keys\":[{\"project_id\":\"program1-synthetic_dataset_1\",\"submitter_id\":\"demographic_33a82c036e\"}],\"valid\":false,\"warnings\":[]},{\"action\":null,\"errors\":[{\"keys\":[],\"message\":\"Additional properties are not allowed ('year_birth', 'month_birth', 'subjects' were unexpected)\",\"type\":\"ERROR\"},{\"keys\":[\"cases\"],\"message\":\"'cases' is a required property\",\"type\":\"MISSING_PROPERTY\"}],\"id\":null,\"type\":\"demographic\",\"unique_keys\":[{\"project_id\":\"program1-synthetic_dataset_1\",\"submitter_id\":\"demographic_993bf96629\"}],\"valid\":false,\"warnings\":[]},{\"action\":null,\"errors\":[{\"keys\":[],\"message\":\"Additional properties are not allowed ('year_birth', 'month_birth', 'subjects' were unexpected)\",\"type\":\"ERROR\"},{\"keys\":[\"cases\"],\"message\":\"'cases' is a required property\",\"type\":\"MISSING_PROPERTY\"}],\"id\":null,\"type\":\"demographic\",\"unique_keys\":[{\"project_id\":\"program1-synthetic_dataset_1\",\"submitter_id\":\"demographic_89d333bbf1\"}],\"valid\":false,\"warnings\":[]},{\"action\":null,\"errors\":[{\"keys\":[],\"message\":\"Additional properties are not allowed ('year_birth', 'month_birth', 'subjects' were unexpected)\",\"type\":\"ERROR\"},{\"keys\":[\"cases\"],\"message\":\"'cases' is a required property\",\"type\":\"MISSING_PROPERTY\"}],\"id\":null,\"type\":\"demographic\",\"unique_keys\":[{\"project_id\":\"program1-synthetic_dataset_1\",\"submitter_id\":\"demographic_cc078160eb\"}],\"valid\":false,\"warnings\":[]},{\"action\":null,\"errors\":[{\"keys\":[],\"message\":\"Additional properties are not allowed ('year_birth', 'month_birth', 'subjects' were unexpected)\",\"type\":\"ERROR\"},{\"keys\":[\"cases\"],\"message\":\"'cases' is a required property\",\"type\":\"MISSING_PROPERTY\"}],\"id\":null,\"type\":\"demographic\",\"unique_keys\":[{\"project_id\":\"program1-synthetic_dataset_1\",\"submitter_id\":\"demographic_e51e594d7a\"}],\"valid\":false,\"warnings\":[]},{\"action\":null,\"errors\":[{\"keys\":[],\"message\":\"Additional properties are not allowed ('year_birth', 'month_birth', 'subjects' were unexpected)\",\"type\":\"ERROR\"},{\"keys\":[\"cases\"],\"message\":\"'cases' is a required property\",\"type\":\"MISSING_PROPERTY\"}],\"id\":null,\"type\":\"demographic\",\"unique_keys\":[{\"project_id\":\"program1-synthetic_dataset_1\",\"submitter_id\":\"demographic_e6795f3158\"}],\"valid\":false,\"warnings\":[]},{\"action\":null,\"errors\":[{\"keys\":[],\"message\":\"Additional properties are not allowed ('year_birth', 'month_birth', 'subjects' were unexpected)\",\"type\":\"ERROR\"},{\"keys\":[\"cases\"],\"message\":\"'cases' is a required property\",\"type\":\"MISSING_PROPERTY\"}],\"id\":null,\"type\":\"demographic\",\"unique_keys\":[{\"project_id\":\"program1-synthetic_dataset_1\",\"submitter_id\":\"demographic_3b855aa6c9\"}],\"valid\":false,\"warnings\":[]},{\"action\":null,\"errors\":[{\"keys\":[],\"message\":\"Additional properties are not allowed ('year_birth', 'month_birth', 'subjects' were unexpected)\",\"type\":\"ERROR\"},{\"keys\":[\"cases\"],\"message\":\"'cases' is a required property\",\"type\":\"MISSING_PROPERTY\"}],\"id\":null,\"type\":\"demographic\",\"unique_keys\":[{\"project_id\":\"program1-synthetic_dataset_1\",\"submitter_id\":\"demographic_3e689302fd\"}],\"valid\":false,\"warnings\":[]},{\"action\":null,\"errors\":[{\"keys\":[],\"message\":\"Additional properties are not allowed ('year_birth', 'month_birth', 'subjects' were unexpected)\",\"type\":\"ERROR\"},{\"keys\":[\"cases\"],\"message\":\"'cases' is a required property\",\"type\":\"MISSING_PROPERTY\"}],\"id\":null,\"type\":\"demographic\",\"unique_keys\":[{\"project_id\":\"program1-synthetic_dataset_1\",\"submitter_id\":\"demographic_573f945605\"}],\"valid\":false,\"warnings\":[]},{\"action\":null,\"errors\":[{\"keys\":[],\"message\":\"Additional properties are not allowed ('year_birth', 'month_birth', 'subjects' were unexpected)\",\"type\":\"ERROR\"},{\"keys\":[\"cases\"],\"message\":\"'cases' is a required property\",\"type\":\"MISSING_PROPERTY\"}],\"id\":null,\"type\":\"demographic\",\"unique_keys\":[{\"project_id\":\"program1-synthetic_dataset_1\",\"submitter_id\":\"demographic_f2f7577c5c\"}],\"valid\":false,\"warnings\":[]},{\"action\":null,\"errors\":[{\"keys\":[],\"message\":\"Additional properties are not allowed ('year_birth', 'month_birth', 'subjects' were unexpected)\",\"type\":\"ERROR\"},{\"keys\":[\"cases\"],\"message\":\"'cases' is a required property\",\"type\":\"MISSING_PROPERTY\"}],\"id\":null,\"type\":\"demographic\",\"unique_keys\":[{\"project_id\":\"program1-synthetic_dataset_1\",\"submitter_id\":\"demographic_678f1d61d8\"}],\"valid\":false,\"warnings\":[]},{\"action\":null,\"errors\":[{\"keys\":[],\"message\":\"Additional properties are not allowed ('year_birth', 'month_birth', 'subjects' were unexpected)\",\"type\":\"ERROR\"},{\"keys\":[\"cases\"],\"message\":\"'cases' is a required property\",\"type\":\"MISSING_PROPERTY\"}],\"id\":null,\"type\":\"demographic\",\"unique_keys\":[{\"project_id\":\"program1-synthetic_dataset_1\",\"submitter_id\":\"demographic_8c6b606ac0\"}],\"valid\":false,\"warnings\":[]},{\"action\":null,\"errors\":[{\"keys\":[],\"message\":\"Additional properties are not allowed ('year_birth', 'month_birth', 'subjects' were unexpected)\",\"type\":\"ERROR\"},{\"keys\":[\"cases\"],\"message\":\"'cases' is a required property\",\"type\":\"MISSING_PROPERTY\"}],\"id\":null,\"type\":\"demographic\",\"unique_keys\":[{\"project_id\":\"program1-synthetic_dataset_1\",\"submitter_id\":\"demographic_2cf5eed0f9\"}],\"valid\":false,\"warnings\":[]},{\"action\":null,\"errors\":[{\"keys\":[],\"message\":\"Additional properties are not allowed ('year_birth', 'month_birth', 'subjects' were unexpected)\",\"type\":\"ERROR\"},{\"keys\":[\"cases\"],\"message\":\"'cases' is a required property\",\"type\":\"MISSING_PROPERTY\"}],\"id\":null,\"type\":\"demographic\",\"unique_keys\":[{\"project_id\":\"program1-synthetic_dataset_1\",\"submitter_id\":\"demographic_504d6f0df2\"}],\"valid\":false,\"warnings\":[]},{\"action\":null,\"errors\":[{\"keys\":[],\"message\":\"Additional properties are not allowed ('year_birth', 'month_birth', 'subjects' were unexpected)\",\"type\":\"ERROR\"},{\"keys\":[\"cases\"],\"message\":\"'cases' is a required property\",\"type\":\"MISSING_PROPERTY\"}],\"id\":null,\"type\":\"demographic\",\"unique_keys\":[{\"project_id\":\"program1-synthetic_dataset_1\",\"submitter_id\":\"demographic_2a9288a146\"}],\"valid\":false,\"warnings\":[]},{\"action\":null,\"errors\":[{\"keys\":[],\"message\":\"Additional properties are not allowed ('year_birth', 'month_birth', 'subjects' were unexpected)\",\"type\":\"ERROR\"},{\"keys\":[\"cases\"],\"message\":\"'cases' is a required property\",\"type\":\"MISSING_PROPERTY\"}],\"id\":null,\"type\":\"demographic\",\"unique_keys\":[{\"project_id\":\"program1-synthetic_dataset_1\",\"submitter_id\":\"demographic_4a1a8c9f3c\"}],\"valid\":false,\"warnings\":[]},{\"action\":null,\"errors\":[{\"keys\":[],\"message\":\"Additional properties are not allowed ('year_birth', 'month_birth', 'subjects' were unexpected)\",\"type\":\"ERROR\"},{\"keys\":[\"cases\"],\"message\":\"'cases' is a required property\",\"type\":\"MISSING_PROPERTY\"}],\"id\":null,\"type\":\"demographic\",\"unique_keys\":[{\"project_id\":\"program1-synthetic_dataset_1\",\"submitter_id\":\"demographic_6f99d4d64c\"}],\"valid\":false,\"warnings\":[]},{\"action\":null,\"errors\":[{\"keys\":[],\"message\":\"Additional properties are not allowed ('year_birth', 'month_birth', 'subjects' were unexpected)\",\"type\":\"ERROR\"},{\"keys\":[\"cases\"],\"message\":\"'cases' is a required property\",\"type\":\"MISSING_PROPERTY\"}],\"id\":null,\"type\":\"demographic\",\"unique_keys\":[{\"project_id\":\"program1-synthetic_dataset_1\",\"submitter_id\":\"demographic_b6722cdff4\"}],\"valid\":false,\"warnings\":[]},{\"action\":null,\"errors\":[{\"keys\":[],\"message\":\"Additional properties are not allowed ('year_birth', 'month_birth', 'subjects' were unexpected)\",\"type\":\"ERROR\"},{\"keys\":[\"cases\"],\"message\":\"'cases' is a required property\",\"type\":\"MISSING_PROPERTY\"}],\"id\":null,\"type\":\"demographic\",\"unique_keys\":[{\"project_id\":\"program1-synthetic_dataset_1\",\"submitter_id\":\"demographic_4dbf993971\"}],\"valid\":false,\"warnings\":[]},{\"action\":null,\"errors\":[{\"keys\":[],\"message\":\"Additional properties are not allowed ('year_birth', 'month_birth', 'subjects' were unexpected)\",\"type\":\"ERROR\"},{\"keys\":[\"cases\"],\"message\":\"'cases' is a required property\",\"type\":\"MISSING_PROPERTY\"}],\"id\":null,\"type\":\"demographic\",\"unique_keys\":[{\"project_id\":\"program1-synthetic_dataset_1\",\"submitter_id\":\"demographic_a391cc60cd\"}],\"valid\":false,\"warnings\":[]},{\"action\":null,\"errors\":[{\"keys\":[],\"message\":\"Additional properties are not allowed ('year_birth', 'month_birth', 'subjects' were unexpected)\",\"type\":\"ERROR\"},{\"keys\":[\"cases\"],\"message\":\"'cases' is a required property\",\"type\":\"MISSING_PROPERTY\"}],\"id\":null,\"type\":\"demographic\",\"unique_keys\":[{\"project_id\":\"program1-synthetic_dataset_1\",\"submitter_id\":\"demographic_bd2aab9092\"}],\"valid\":false,\"warnings\":[]},{\"action\":null,\"errors\":[{\"keys\":[],\"message\":\"Additional properties are not allowed ('year_birth', 'month_birth', 'subjects' were unexpected)\",\"type\":\"ERROR\"},{\"keys\":[\"cases\"],\"message\":\"'cases' is a required property\",\"type\":\"MISSING_PROPERTY\"}],\"id\":null,\"type\":\"demographic\",\"unique_keys\":[{\"project_id\":\"program1-synthetic_dataset_1\",\"submitter_id\":\"demographic_ee489009da\"}],\"valid\":false,\"warnings\":[]},{\"action\":null,\"errors\":[{\"keys\":[],\"message\":\"Additional properties are not allowed ('year_birth', 'month_birth', 'subjects' were unexpected)\",\"type\":\"ERROR\"},{\"keys\":[\"cases\"],\"message\":\"'cases' is a required property\",\"type\":\"MISSING_PROPERTY\"}],\"id\":null,\"type\":\"demographic\",\"unique_keys\":[{\"project_id\":\"program1-synthetic_dataset_1\",\"submitter_id\":\"demographic_39e269d429\"}],\"valid\":false,\"warnings\":[]},{\"action\":null,\"errors\":[{\"keys\":[],\"message\":\"Additional properties are not allowed ('year_birth', 'month_birth', 'subjects' were unexpected)\",\"type\":\"ERROR\"},{\"keys\":[\"cases\"],\"message\":\"'cases' is a required property\",\"type\":\"MISSING_PROPERTY\"}],\"id\":null,\"type\":\"demographic\",\"unique_keys\":[{\"project_id\":\"program1-synthetic_dataset_1\",\"submitter_id\":\"demographic_8f069eeb58\"}],\"valid\":false,\"warnings\":[]},{\"action\":null,\"errors\":[{\"keys\":[],\"message\":\"Additional properties are not allowed ('year_birth', 'month_birth', 'subjects' were unexpected)\",\"type\":\"ERROR\"},{\"keys\":[\"cases\"],\"message\":\"'cases' is a required property\",\"type\":\"MISSING_PROPERTY\"}],\"id\":null,\"type\":\"demographic\",\"unique_keys\":[{\"project_id\":\"program1-synthetic_dataset_1\",\"submitter_id\":\"demographic_f3a999a258\"}],\"valid\":false,\"warnings\":[]}],\"entity_error_count\":110,\"message\":\"Transaction aborted due to 110 invalid entities.\",\"success\":false,\"transaction_id\":16,\"transactional_error_count\":0,\"transactional_errors\":[],\"updated_entity_count\":0}\n",
      "\n",
      "ERROR\t| synthetic_dataset_1\t| demographic: 400 Client Error: BAD REQUEST for url: https://omix3.test.biocommons.org.au/api/v0/submission/program1/synthetic_dataset_1 | Retry 1/6\n",
      "SUBMITTING\t| synthetic_dataset_1\t| demographic\t| 1/1 data splits\n",
      "Error: status code 400; details:\n",
      "{\"code\":400,\"created_entity_count\":0,\"entities\":[{\"action\":null,\"errors\":[{\"keys\":[],\"message\":\"Additional properties are not allowed ('year_birth', 'month_birth', 'subjects' were unexpected)\",\"type\":\"ERROR\"},{\"keys\":[\"cases\"],\"message\":\"'cases' is a required property\",\"type\":\"MISSING_PROPERTY\"}],\"id\":null,\"type\":\"demographic\",\"unique_keys\":[{\"project_id\":\"program1-synthetic_dataset_1\",\"submitter_id\":\"demographic_b0c1077686\"}],\"valid\":false,\"warnings\":[]},{\"action\":null,\"errors\":[{\"keys\":[],\"message\":\"Additional properties are not allowed ('year_birth', 'month_birth', 'subjects' were unexpected)\",\"type\":\"ERROR\"},{\"keys\":[\"cases\"],\"message\":\"'cases' is a required property\",\"type\":\"MISSING_PROPERTY\"}],\"id\":null,\"type\":\"demographic\",\"unique_keys\":[{\"project_id\":\"program1-synthetic_dataset_1\",\"submitter_id\":\"demographic_e6d04bfa3d\"}],\"valid\":false,\"warnings\":[]},{\"action\":null,\"errors\":[{\"keys\":[],\"message\":\"Additional properties are not allowed ('year_birth', 'month_birth', 'subjects' were unexpected)\",\"type\":\"ERROR\"},{\"keys\":[\"cases\"],\"message\":\"'cases' is a required property\",\"type\":\"MISSING_PROPERTY\"}],\"id\":null,\"type\":\"demographic\",\"unique_keys\":[{\"project_id\":\"program1-synthetic_dataset_1\",\"submitter_id\":\"demographic_d88f25268e\"}],\"valid\":false,\"warnings\":[]},{\"action\":null,\"errors\":[{\"keys\":[],\"message\":\"Additional properties are not allowed ('year_birth', 'month_birth', 'subjects' were unexpected)\",\"type\":\"ERROR\"},{\"keys\":[\"cases\"],\"message\":\"'cases' is a required property\",\"type\":\"MISSING_PROPERTY\"}],\"id\":null,\"type\":\"demographic\",\"unique_keys\":[{\"project_id\":\"program1-synthetic_dataset_1\",\"submitter_id\":\"demographic_0e07f5654c\"}],\"valid\":false,\"warnings\":[]},{\"action\":null,\"errors\":[{\"keys\":[],\"message\":\"Additional properties are not allowed ('year_birth', 'month_birth', 'subjects' were unexpected)\",\"type\":\"ERROR\"},{\"keys\":[\"cases\"],\"message\":\"'cases' is a required property\",\"type\":\"MISSING_PROPERTY\"}],\"id\":null,\"type\":\"demographic\",\"unique_keys\":[{\"project_id\":\"program1-synthetic_dataset_1\",\"submitter_id\":\"demographic_d4e018c92d\"}],\"valid\":false,\"warnings\":[]},{\"action\":null,\"errors\":[{\"keys\":[],\"message\":\"Additional properties are not allowed ('year_birth', 'month_birth', 'subjects' were unexpected)\",\"type\":\"ERROR\"},{\"keys\":[\"cases\"],\"message\":\"'cases' is a required property\",\"type\":\"MISSING_PROPERTY\"}],\"id\":null,\"type\":\"demographic\",\"unique_keys\":[{\"project_id\":\"program1-synthetic_dataset_1\",\"submitter_id\":\"demographic_bc403c954e\"}],\"valid\":false,\"warnings\":[]},{\"action\":null,\"errors\":[{\"keys\":[],\"message\":\"Additional properties are not allowed ('year_birth', 'month_birth', 'subjects' were unexpected)\",\"type\":\"ERROR\"},{\"keys\":[\"cases\"],\"message\":\"'cases' is a required property\",\"type\":\"MISSING_PROPERTY\"}],\"id\":null,\"type\":\"demographic\",\"unique_keys\":[{\"project_id\":\"program1-synthetic_dataset_1\",\"submitter_id\":\"demographic_7386664ad7\"}],\"valid\":false,\"warnings\":[]},{\"action\":null,\"errors\":[{\"keys\":[],\"message\":\"Additional properties are not allowed ('year_birth', 'month_birth', 'subjects' were unexpected)\",\"type\":\"ERROR\"},{\"keys\":[\"cases\"],\"message\":\"'cases' is a required property\",\"type\":\"MISSING_PROPERTY\"}],\"id\":null,\"type\":\"demographic\",\"unique_keys\":[{\"project_id\":\"program1-synthetic_dataset_1\",\"submitter_id\":\"demographic_aff592952b\"}],\"valid\":false,\"warnings\":[]},{\"action\":null,\"errors\":[{\"keys\":[],\"message\":\"Additional properties are not allowed ('year_birth', 'month_birth', 'subjects' were unexpected)\",\"type\":\"ERROR\"},{\"keys\":[\"cases\"],\"message\":\"'cases' is a required property\",\"type\":\"MISSING_PROPERTY\"}],\"id\":null,\"type\":\"demographic\",\"unique_keys\":[{\"project_id\":\"program1-synthetic_dataset_1\",\"submitter_id\":\"demographic_724a091fca\"}],\"valid\":false,\"warnings\":[]},{\"action\":null,\"errors\":[{\"keys\":[],\"message\":\"Additional properties are not allowed ('year_birth', 'month_birth', 'subjects' were unexpected)\",\"type\":\"ERROR\"},{\"keys\":[\"cases\"],\"message\":\"'cases' is a required property\",\"type\":\"MISSING_PROPERTY\"}],\"id\":null,\"type\":\"demographic\",\"unique_keys\":[{\"project_id\":\"program1-synthetic_dataset_1\",\"submitter_id\":\"demographic_9482e8f149\"}],\"valid\":false,\"warnings\":[]},{\"action\":null,\"errors\":[{\"keys\":[],\"message\":\"Additional properties are not allowed ('year_birth', 'month_birth', 'subjects' were unexpected)\",\"type\":\"ERROR\"},{\"keys\":[\"cases\"],\"message\":\"'cases' is a required property\",\"type\":\"MISSING_PROPERTY\"}],\"id\":null,\"type\":\"demographic\",\"unique_keys\":[{\"project_id\":\"program1-synthetic_dataset_1\",\"submitter_id\":\"demographic_731a764cec\"}],\"valid\":false,\"warnings\":[]},{\"action\":null,\"errors\":[{\"keys\":[],\"message\":\"Additional properties are not allowed ('year_birth', 'month_birth', 'subjects' were unexpected)\",\"type\":\"ERROR\"},{\"keys\":[\"cases\"],\"message\":\"'cases' is a required property\",\"type\":\"MISSING_PROPERTY\"}],\"id\":null,\"type\":\"demographic\",\"unique_keys\":[{\"project_id\":\"program1-synthetic_dataset_1\",\"submitter_id\":\"demographic_7d0afddf24\"}],\"valid\":false,\"warnings\":[]},{\"action\":null,\"errors\":[{\"keys\":[],\"message\":\"Additional properties are not allowed ('year_birth', 'month_birth', 'subjects' were unexpected)\",\"type\":\"ERROR\"},{\"keys\":[\"cases\"],\"message\":\"'cases' is a required property\",\"type\":\"MISSING_PROPERTY\"}],\"id\":null,\"type\":\"demographic\",\"unique_keys\":[{\"project_id\":\"program1-synthetic_dataset_1\",\"submitter_id\":\"demographic_772790a9a9\"}],\"valid\":false,\"warnings\":[]},{\"action\":null,\"errors\":[{\"keys\":[],\"message\":\"Additional properties are not allowed ('year_birth', 'month_birth', 'subjects' were unexpected)\",\"type\":\"ERROR\"},{\"keys\":[\"cases\"],\"message\":\"'cases' is a required property\",\"type\":\"MISSING_PROPERTY\"}],\"id\":null,\"type\":\"demographic\",\"unique_keys\":[{\"project_id\":\"program1-synthetic_dataset_1\",\"submitter_id\":\"demographic_595ef51cc8\"}],\"valid\":false,\"warnings\":[]},{\"action\":null,\"errors\":[{\"keys\":[],\"message\":\"Additional properties are not allowed ('year_birth', 'month_birth', 'subjects' were unexpected)\",\"type\":\"ERROR\"},{\"keys\":[\"cases\"],\"message\":\"'cases' is a required property\",\"type\":\"MISSING_PROPERTY\"}],\"id\":null,\"type\":\"demographic\",\"unique_keys\":[{\"project_id\":\"program1-synthetic_dataset_1\",\"submitter_id\":\"demographic_7d94369053\"}],\"valid\":false,\"warnings\":[]},{\"action\":null,\"errors\":[{\"keys\":[],\"message\":\"Additional properties are not allowed ('year_birth', 'month_birth', 'subjects' were unexpected)\",\"type\":\"ERROR\"},{\"keys\":[\"cases\"],\"message\":\"'cases' is a required property\",\"type\":\"MISSING_PROPERTY\"}],\"id\":null,\"type\":\"demographic\",\"unique_keys\":[{\"project_id\":\"program1-synthetic_dataset_1\",\"submitter_id\":\"demographic_c01849acc6\"}],\"valid\":false,\"warnings\":[]},{\"action\":null,\"errors\":[{\"keys\":[],\"message\":\"Additional properties are not allowed ('year_birth', 'month_birth', 'subjects' were unexpected)\",\"type\":\"ERROR\"},{\"keys\":[\"cases\"],\"message\":\"'cases' is a required property\",\"type\":\"MISSING_PROPERTY\"}],\"id\":null,\"type\":\"demographic\",\"unique_keys\":[{\"project_id\":\"program1-synthetic_dataset_1\",\"submitter_id\":\"demographic_e0b87e8089\"}],\"valid\":false,\"warnings\":[]},{\"action\":null,\"errors\":[{\"keys\":[],\"message\":\"Additional properties are not allowed ('year_birth', 'month_birth', 'subjects' were unexpected)\",\"type\":\"ERROR\"},{\"keys\":[\"cases\"],\"message\":\"'cases' is a required property\",\"type\":\"MISSING_PROPERTY\"}],\"id\":null,\"type\":\"demographic\",\"unique_keys\":[{\"project_id\":\"program1-synthetic_dataset_1\",\"submitter_id\":\"demographic_b4f7803e1c\"}],\"valid\":false,\"warnings\":[]},{\"action\":null,\"errors\":[{\"keys\":[],\"message\":\"Additional properties are not allowed ('year_birth', 'month_birth', 'subjects' were unexpected)\",\"type\":\"ERROR\"},{\"keys\":[\"cases\"],\"message\":\"'cases' is a required property\",\"type\":\"MISSING_PROPERTY\"}],\"id\":null,\"type\":\"demographic\",\"unique_keys\":[{\"project_id\":\"program1-synthetic_dataset_1\",\"submitter_id\":\"demographic_41133f183f\"}],\"valid\":false,\"warnings\":[]},{\"action\":null,\"errors\":[{\"keys\":[],\"message\":\"Additional properties are not allowed ('year_birth', 'month_birth', 'subjects' were unexpected)\",\"type\":\"ERROR\"},{\"keys\":[\"cases\"],\"message\":\"'cases' is a required property\",\"type\":\"MISSING_PROPERTY\"}],\"id\":null,\"type\":\"demographic\",\"unique_keys\":[{\"project_id\":\"program1-synthetic_dataset_1\",\"submitter_id\":\"demographic_eb7465787b\"}],\"valid\":false,\"warnings\":[]},{\"action\":null,\"errors\":[{\"keys\":[],\"message\":\"Additional properties are not allowed ('year_birth', 'month_birth', 'subjects' were unexpected)\",\"type\":\"ERROR\"},{\"keys\":[\"cases\"],\"message\":\"'cases' is a required property\",\"type\":\"MISSING_PROPERTY\"}],\"id\":null,\"type\":\"demographic\",\"unique_keys\":[{\"project_id\":\"program1-synthetic_dataset_1\",\"submitter_id\":\"demographic_d9f0e138ac\"}],\"valid\":false,\"warnings\":[]},{\"action\":null,\"errors\":[{\"keys\":[],\"message\":\"Additional properties are not allowed ('year_birth', 'month_birth', 'subjects' were unexpected)\",\"type\":\"ERROR\"},{\"keys\":[\"cases\"],\"message\":\"'cases' is a required property\",\"type\":\"MISSING_PROPERTY\"}],\"id\":null,\"type\":\"demographic\",\"unique_keys\":[{\"project_id\":\"program1-synthetic_dataset_1\",\"submitter_id\":\"demographic_075ab8ff5c\"}],\"valid\":false,\"warnings\":[]},{\"action\":null,\"errors\":[{\"keys\":[],\"message\":\"Additional properties are not allowed ('year_birth', 'month_birth', 'subjects' were unexpected)\",\"type\":\"ERROR\"},{\"keys\":[\"cases\"],\"message\":\"'cases' is a required property\",\"type\":\"MISSING_PROPERTY\"}],\"id\":null,\"type\":\"demographic\",\"unique_keys\":[{\"project_id\":\"program1-synthetic_dataset_1\",\"submitter_id\":\"demographic_74b359d6af\"}],\"valid\":false,\"warnings\":[]},{\"action\":null,\"errors\":[{\"keys\":[],\"message\":\"Additional properties are not allowed ('year_birth', 'month_birth', 'subjects' were unexpected)\",\"type\":\"ERROR\"},{\"keys\":[\"cases\"],\"message\":\"'cases' is a required property\",\"type\":\"MISSING_PROPERTY\"}],\"id\":null,\"type\":\"demographic\",\"unique_keys\":[{\"project_id\":\"program1-synthetic_dataset_1\",\"submitter_id\":\"demographic_b1bd18a907\"}],\"valid\":false,\"warnings\":[]},{\"action\":null,\"errors\":[{\"keys\":[],\"message\":\"Additional properties are not allowed ('year_birth', 'month_birth', 'subjects' were unexpected)\",\"type\":\"ERROR\"},{\"keys\":[\"cases\"],\"message\":\"'cases' is a required property\",\"type\":\"MISSING_PROPERTY\"}],\"id\":null,\"type\":\"demographic\",\"unique_keys\":[{\"project_id\":\"program1-synthetic_dataset_1\",\"submitter_id\":\"demographic_cd1534be33\"}],\"valid\":false,\"warnings\":[]},{\"action\":null,\"errors\":[{\"keys\":[],\"message\":\"Additional properties are not allowed ('year_birth', 'month_birth', 'subjects' were unexpected)\",\"type\":\"ERROR\"},{\"keys\":[\"cases\"],\"message\":\"'cases' is a required property\",\"type\":\"MISSING_PROPERTY\"}],\"id\":null,\"type\":\"demographic\",\"unique_keys\":[{\"project_id\":\"program1-synthetic_dataset_1\",\"submitter_id\":\"demographic_03e9abdeb1\"}],\"valid\":false,\"warnings\":[]},{\"action\":null,\"errors\":[{\"keys\":[],\"message\":\"Additional properties are not allowed ('year_birth', 'month_birth', 'subjects' were unexpected)\",\"type\":\"ERROR\"},{\"keys\":[\"cases\"],\"message\":\"'cases' is a required property\",\"type\":\"MISSING_PROPERTY\"}],\"id\":null,\"type\":\"demographic\",\"unique_keys\":[{\"project_id\":\"program1-synthetic_dataset_1\",\"submitter_id\":\"demographic_472044f3ff\"}],\"valid\":false,\"warnings\":[]},{\"action\":null,\"errors\":[{\"keys\":[],\"message\":\"Additional properties are not allowed ('year_birth', 'month_birth', 'subjects' were unexpected)\",\"type\":\"ERROR\"},{\"keys\":[\"cases\"],\"message\":\"'cases' is a required property\",\"type\":\"MISSING_PROPERTY\"}],\"id\":null,\"type\":\"demographic\",\"unique_keys\":[{\"project_id\":\"program1-synthetic_dataset_1\",\"submitter_id\":\"demographic_f0758623a6\"}],\"valid\":false,\"warnings\":[]},{\"action\":null,\"errors\":[{\"keys\":[],\"message\":\"Additional properties are not allowed ('year_birth', 'month_birth', 'subjects' were unexpected)\",\"type\":\"ERROR\"},{\"keys\":[\"cases\"],\"message\":\"'cases' is a required property\",\"type\":\"MISSING_PROPERTY\"}],\"id\":null,\"type\":\"demographic\",\"unique_keys\":[{\"project_id\":\"program1-synthetic_dataset_1\",\"submitter_id\":\"demographic_96d39f8275\"}],\"valid\":false,\"warnings\":[]},{\"action\":null,\"errors\":[{\"keys\":[],\"message\":\"Additional properties are not allowed ('year_birth', 'month_birth', 'subjects' were unexpected)\",\"type\":\"ERROR\"},{\"keys\":[\"cases\"],\"message\":\"'cases' is a required property\",\"type\":\"MISSING_PROPERTY\"}],\"id\":null,\"type\":\"demographic\",\"unique_keys\":[{\"project_id\":\"program1-synthetic_dataset_1\",\"submitter_id\":\"demographic_acc7cad2c2\"}],\"valid\":false,\"warnings\":[]},{\"action\":null,\"errors\":[{\"keys\":[],\"message\":\"Additional properties are not allowed ('year_birth', 'month_birth', 'subjects' were unexpected)\",\"type\":\"ERROR\"},{\"keys\":[\"cases\"],\"message\":\"'cases' is a required property\",\"type\":\"MISSING_PROPERTY\"}],\"id\":null,\"type\":\"demographic\",\"unique_keys\":[{\"project_id\":\"program1-synthetic_dataset_1\",\"submitter_id\":\"demographic_5c0ae3bd60\"}],\"valid\":false,\"warnings\":[]},{\"action\":null,\"errors\":[{\"keys\":[],\"message\":\"Additional properties are not allowed ('year_birth', 'month_birth', 'subjects' were unexpected)\",\"type\":\"ERROR\"},{\"keys\":[\"cases\"],\"message\":\"'cases' is a required property\",\"type\":\"MISSING_PROPERTY\"}],\"id\":null,\"type\":\"demographic\",\"unique_keys\":[{\"project_id\":\"program1-synthetic_dataset_1\",\"submitter_id\":\"demographic_2bede3288e\"}],\"valid\":false,\"warnings\":[]},{\"action\":null,\"errors\":[{\"keys\":[],\"message\":\"Additional properties are not allowed ('year_birth', 'month_birth', 'subjects' were unexpected)\",\"type\":\"ERROR\"},{\"keys\":[\"cases\"],\"message\":\"'cases' is a required property\",\"type\":\"MISSING_PROPERTY\"}],\"id\":null,\"type\":\"demographic\",\"unique_keys\":[{\"project_id\":\"program1-synthetic_dataset_1\",\"submitter_id\":\"demographic_78c90d082b\"}],\"valid\":false,\"warnings\":[]},{\"action\":null,\"errors\":[{\"keys\":[],\"message\":\"Additional properties are not allowed ('year_birth', 'month_birth', 'subjects' were unexpected)\",\"type\":\"ERROR\"},{\"keys\":[\"cases\"],\"message\":\"'cases' is a required property\",\"type\":\"MISSING_PROPERTY\"}],\"id\":null,\"type\":\"demographic\",\"unique_keys\":[{\"project_id\":\"program1-synthetic_dataset_1\",\"submitter_id\":\"demographic_be9da68902\"}],\"valid\":false,\"warnings\":[]},{\"action\":null,\"errors\":[{\"keys\":[],\"message\":\"Additional properties are not allowed ('year_birth', 'month_birth', 'subjects' were unexpected)\",\"type\":\"ERROR\"},{\"keys\":[\"cases\"],\"message\":\"'cases' is a required property\",\"type\":\"MISSING_PROPERTY\"}],\"id\":null,\"type\":\"demographic\",\"unique_keys\":[{\"project_id\":\"program1-synthetic_dataset_1\",\"submitter_id\":\"demographic_cfc6a0549c\"}],\"valid\":false,\"warnings\":[]},{\"action\":null,\"errors\":[{\"keys\":[],\"message\":\"Additional properties are not allowed ('year_birth', 'month_birth', 'subjects' were unexpected)\",\"type\":\"ERROR\"},{\"keys\":[\"cases\"],\"message\":\"'cases' is a required property\",\"type\":\"MISSING_PROPERTY\"}],\"id\":null,\"type\":\"demographic\",\"unique_keys\":[{\"project_id\":\"program1-synthetic_dataset_1\",\"submitter_id\":\"demographic_f58006b543\"}],\"valid\":false,\"warnings\":[]},{\"action\":null,\"errors\":[{\"keys\":[],\"message\":\"Additional properties are not allowed ('year_birth', 'month_birth', 'subjects' were unexpected)\",\"type\":\"ERROR\"},{\"keys\":[\"cases\"],\"message\":\"'cases' is a required property\",\"type\":\"MISSING_PROPERTY\"}],\"id\":null,\"type\":\"demographic\",\"unique_keys\":[{\"project_id\":\"program1-synthetic_dataset_1\",\"submitter_id\":\"demographic_5048870a49\"}],\"valid\":false,\"warnings\":[]},{\"action\":null,\"errors\":[{\"keys\":[],\"message\":\"Additional properties are not allowed ('year_birth', 'month_birth', 'subjects' were unexpected)\",\"type\":\"ERROR\"},{\"keys\":[\"cases\"],\"message\":\"'cases' is a required property\",\"type\":\"MISSING_PROPERTY\"}],\"id\":null,\"type\":\"demographic\",\"unique_keys\":[{\"project_id\":\"program1-synthetic_dataset_1\",\"submitter_id\":\"demographic_f7f21b855c\"}],\"valid\":false,\"warnings\":[]},{\"action\":null,\"errors\":[{\"keys\":[],\"message\":\"Additional properties are not allowed ('year_birth', 'month_birth', 'subjects' were unexpected)\",\"type\":\"ERROR\"},{\"keys\":[\"cases\"],\"message\":\"'cases' is a required property\",\"type\":\"MISSING_PROPERTY\"}],\"id\":null,\"type\":\"demographic\",\"unique_keys\":[{\"project_id\":\"program1-synthetic_dataset_1\",\"submitter_id\":\"demographic_b16f5f432c\"}],\"valid\":false,\"warnings\":[]},{\"action\":null,\"errors\":[{\"keys\":[],\"message\":\"Additional properties are not allowed ('year_birth', 'month_birth', 'subjects' were unexpected)\",\"type\":\"ERROR\"},{\"keys\":[\"cases\"],\"message\":\"'cases' is a required property\",\"type\":\"MISSING_PROPERTY\"}],\"id\":null,\"type\":\"demographic\",\"unique_keys\":[{\"project_id\":\"program1-synthetic_dataset_1\",\"submitter_id\":\"demographic_1b24c9bfb7\"}],\"valid\":false,\"warnings\":[]},{\"action\":null,\"errors\":[{\"keys\":[],\"message\":\"Additional properties are not allowed ('year_birth', 'month_birth', 'subjects' were unexpected)\",\"type\":\"ERROR\"},{\"keys\":[\"cases\"],\"message\":\"'cases' is a required property\",\"type\":\"MISSING_PROPERTY\"}],\"id\":null,\"type\":\"demographic\",\"unique_keys\":[{\"project_id\":\"program1-synthetic_dataset_1\",\"submitter_id\":\"demographic_02c95c5e2c\"}],\"valid\":false,\"warnings\":[]},{\"action\":null,\"errors\":[{\"keys\":[],\"message\":\"Additional properties are not allowed ('year_birth', 'month_birth', 'subjects' were unexpected)\",\"type\":\"ERROR\"},{\"keys\":[\"cases\"],\"message\":\"'cases' is a required property\",\"type\":\"MISSING_PROPERTY\"}],\"id\":null,\"type\":\"demographic\",\"unique_keys\":[{\"project_id\":\"program1-synthetic_dataset_1\",\"submitter_id\":\"demographic_a454465ce1\"}],\"valid\":false,\"warnings\":[]},{\"action\":null,\"errors\":[{\"keys\":[],\"message\":\"Additional properties are not allowed ('year_birth', 'month_birth', 'subjects' were unexpected)\",\"type\":\"ERROR\"},{\"keys\":[\"cases\"],\"message\":\"'cases' is a required property\",\"type\":\"MISSING_PROPERTY\"}],\"id\":null,\"type\":\"demographic\",\"unique_keys\":[{\"project_id\":\"program1-synthetic_dataset_1\",\"submitter_id\":\"demographic_573d1d72e3\"}],\"valid\":false,\"warnings\":[]},{\"action\":null,\"errors\":[{\"keys\":[],\"message\":\"Additional properties are not allowed ('year_birth', 'month_birth', 'subjects' were unexpected)\",\"type\":\"ERROR\"},{\"keys\":[\"cases\"],\"message\":\"'cases' is a required property\",\"type\":\"MISSING_PROPERTY\"}],\"id\":null,\"type\":\"demographic\",\"unique_keys\":[{\"project_id\":\"program1-synthetic_dataset_1\",\"submitter_id\":\"demographic_bb5c6d838a\"}],\"valid\":false,\"warnings\":[]},{\"action\":null,\"errors\":[{\"keys\":[],\"message\":\"Additional properties are not allowed ('year_birth', 'month_birth', 'subjects' were unexpected)\",\"type\":\"ERROR\"},{\"keys\":[\"cases\"],\"message\":\"'cases' is a required property\",\"type\":\"MISSING_PROPERTY\"}],\"id\":null,\"type\":\"demographic\",\"unique_keys\":[{\"project_id\":\"program1-synthetic_dataset_1\",\"submitter_id\":\"demographic_8c88d3b2bd\"}],\"valid\":false,\"warnings\":[]},{\"action\":null,\"errors\":[{\"keys\":[],\"message\":\"Additional properties are not allowed ('year_birth', 'month_birth', 'subjects' were unexpected)\",\"type\":\"ERROR\"},{\"keys\":[\"cases\"],\"message\":\"'cases' is a required property\",\"type\":\"MISSING_PROPERTY\"}],\"id\":null,\"type\":\"demographic\",\"unique_keys\":[{\"project_id\":\"program1-synthetic_dataset_1\",\"submitter_id\":\"demographic_cb7977bd21\"}],\"valid\":false,\"warnings\":[]},{\"action\":null,\"errors\":[{\"keys\":[],\"message\":\"Additional properties are not allowed ('year_birth', 'month_birth', 'subjects' were unexpected)\",\"type\":\"ERROR\"},{\"keys\":[\"cases\"],\"message\":\"'cases' is a required property\",\"type\":\"MISSING_PROPERTY\"}],\"id\":null,\"type\":\"demographic\",\"unique_keys\":[{\"project_id\":\"program1-synthetic_dataset_1\",\"submitter_id\":\"demographic_c672f32c51\"}],\"valid\":false,\"warnings\":[]},{\"action\":null,\"errors\":[{\"keys\":[],\"message\":\"Additional properties are not allowed ('year_birth', 'month_birth', 'subjects' were unexpected)\",\"type\":\"ERROR\"},{\"keys\":[\"cases\"],\"message\":\"'cases' is a required property\",\"type\":\"MISSING_PROPERTY\"}],\"id\":null,\"type\":\"demographic\",\"unique_keys\":[{\"project_id\":\"program1-synthetic_dataset_1\",\"submitter_id\":\"demographic_16c15fd003\"}],\"valid\":false,\"warnings\":[]},{\"action\":null,\"errors\":[{\"keys\":[],\"message\":\"Additional properties are not allowed ('year_birth', 'month_birth', 'subjects' were unexpected)\",\"type\":\"ERROR\"},{\"keys\":[\"cases\"],\"message\":\"'cases' is a required property\",\"type\":\"MISSING_PROPERTY\"}],\"id\":null,\"type\":\"demographic\",\"unique_keys\":[{\"project_id\":\"program1-synthetic_dataset_1\",\"submitter_id\":\"demographic_ca7ff9f739\"}],\"valid\":false,\"warnings\":[]},{\"action\":null,\"errors\":[{\"keys\":[],\"message\":\"Additional properties are not allowed ('year_birth', 'month_birth', 'subjects' were unexpected)\",\"type\":\"ERROR\"},{\"keys\":[\"cases\"],\"message\":\"'cases' is a required property\",\"type\":\"MISSING_PROPERTY\"}],\"id\":null,\"type\":\"demographic\",\"unique_keys\":[{\"project_id\":\"program1-synthetic_dataset_1\",\"submitter_id\":\"demographic_4a7dc6251b\"}],\"valid\":false,\"warnings\":[]},{\"action\":null,\"errors\":[{\"keys\":[],\"message\":\"Additional properties are not allowed ('year_birth', 'month_birth', 'subjects' were unexpected)\",\"type\":\"ERROR\"},{\"keys\":[\"cases\"],\"message\":\"'cases' is a required property\",\"type\":\"MISSING_PROPERTY\"}],\"id\":null,\"type\":\"demographic\",\"unique_keys\":[{\"project_id\":\"program1-synthetic_dataset_1\",\"submitter_id\":\"demographic_edc7161c8b\"}],\"valid\":false,\"warnings\":[]},{\"action\":null,\"errors\":[{\"keys\":[],\"message\":\"Additional properties are not allowed ('year_birth', 'month_birth', 'subjects' were unexpected)\",\"type\":\"ERROR\"},{\"keys\":[\"cases\"],\"message\":\"'cases' is a required property\",\"type\":\"MISSING_PROPERTY\"}],\"id\":null,\"type\":\"demographic\",\"unique_keys\":[{\"project_id\":\"program1-synthetic_dataset_1\",\"submitter_id\":\"demographic_495336bb99\"}],\"valid\":false,\"warnings\":[]},{\"action\":null,\"errors\":[{\"keys\":[],\"message\":\"Additional properties are not allowed ('year_birth', 'month_birth', 'subjects' were unexpected)\",\"type\":\"ERROR\"},{\"keys\":[\"cases\"],\"message\":\"'cases' is a required property\",\"type\":\"MISSING_PROPERTY\"}],\"id\":null,\"type\":\"demographic\",\"unique_keys\":[{\"project_id\":\"program1-synthetic_dataset_1\",\"submitter_id\":\"demographic_79e6d33e17\"}],\"valid\":false,\"warnings\":[]},{\"action\":null,\"errors\":[{\"keys\":[],\"message\":\"Additional properties are not allowed ('year_birth', 'month_birth', 'subjects' were unexpected)\",\"type\":\"ERROR\"},{\"keys\":[\"cases\"],\"message\":\"'cases' is a required property\",\"type\":\"MISSING_PROPERTY\"}],\"id\":null,\"type\":\"demographic\",\"unique_keys\":[{\"project_id\":\"program1-synthetic_dataset_1\",\"submitter_id\":\"demographic_368082966c\"}],\"valid\":false,\"warnings\":[]},{\"action\":null,\"errors\":[{\"keys\":[],\"message\":\"Additional properties are not allowed ('year_birth', 'month_birth', 'subjects' were unexpected)\",\"type\":\"ERROR\"},{\"keys\":[\"cases\"],\"message\":\"'cases' is a required property\",\"type\":\"MISSING_PROPERTY\"}],\"id\":null,\"type\":\"demographic\",\"unique_keys\":[{\"project_id\":\"program1-synthetic_dataset_1\",\"submitter_id\":\"demographic_226a995492\"}],\"valid\":false,\"warnings\":[]},{\"action\":null,\"errors\":[{\"keys\":[],\"message\":\"Additional properties are not allowed ('year_birth', 'month_birth', 'subjects' were unexpected)\",\"type\":\"ERROR\"},{\"keys\":[\"cases\"],\"message\":\"'cases' is a required property\",\"type\":\"MISSING_PROPERTY\"}],\"id\":null,\"type\":\"demographic\",\"unique_keys\":[{\"project_id\":\"program1-synthetic_dataset_1\",\"submitter_id\":\"demographic_fb185ca1eb\"}],\"valid\":false,\"warnings\":[]},{\"action\":null,\"errors\":[{\"keys\":[],\"message\":\"Additional properties are not allowed ('year_birth', 'month_birth', 'subjects' were unexpected)\",\"type\":\"ERROR\"},{\"keys\":[\"cases\"],\"message\":\"'cases' is a required property\",\"type\":\"MISSING_PROPERTY\"}],\"id\":null,\"type\":\"demographic\",\"unique_keys\":[{\"project_id\":\"program1-synthetic_dataset_1\",\"submitter_id\":\"demographic_9bc8741a53\"}],\"valid\":false,\"warnings\":[]},{\"action\":null,\"errors\":[{\"keys\":[],\"message\":\"Additional properties are not allowed ('year_birth', 'month_birth', 'subjects' were unexpected)\",\"type\":\"ERROR\"},{\"keys\":[\"cases\"],\"message\":\"'cases' is a required property\",\"type\":\"MISSING_PROPERTY\"}],\"id\":null,\"type\":\"demographic\",\"unique_keys\":[{\"project_id\":\"program1-synthetic_dataset_1\",\"submitter_id\":\"demographic_d5ad1e6890\"}],\"valid\":false,\"warnings\":[]},{\"action\":null,\"errors\":[{\"keys\":[],\"message\":\"Additional properties are not allowed ('year_birth', 'month_birth', 'subjects' were unexpected)\",\"type\":\"ERROR\"},{\"keys\":[\"cases\"],\"message\":\"'cases' is a required property\",\"type\":\"MISSING_PROPERTY\"}],\"id\":null,\"type\":\"demographic\",\"unique_keys\":[{\"project_id\":\"program1-synthetic_dataset_1\",\"submitter_id\":\"demographic_879d4e86d8\"}],\"valid\":false,\"warnings\":[]},{\"action\":null,\"errors\":[{\"keys\":[],\"message\":\"Additional properties are not allowed ('year_birth', 'month_birth', 'subjects' were unexpected)\",\"type\":\"ERROR\"},{\"keys\":[\"cases\"],\"message\":\"'cases' is a required property\",\"type\":\"MISSING_PROPERTY\"}],\"id\":null,\"type\":\"demographic\",\"unique_keys\":[{\"project_id\":\"program1-synthetic_dataset_1\",\"submitter_id\":\"demographic_3cc97332b4\"}],\"valid\":false,\"warnings\":[]},{\"action\":null,\"errors\":[{\"keys\":[],\"message\":\"Additional properties are not allowed ('year_birth', 'month_birth', 'subjects' were unexpected)\",\"type\":\"ERROR\"},{\"keys\":[\"cases\"],\"message\":\"'cases' is a required property\",\"type\":\"MISSING_PROPERTY\"}],\"id\":null,\"type\":\"demographic\",\"unique_keys\":[{\"project_id\":\"program1-synthetic_dataset_1\",\"submitter_id\":\"demographic_38c7a6f959\"}],\"valid\":false,\"warnings\":[]},{\"action\":null,\"errors\":[{\"keys\":[],\"message\":\"Additional properties are not allowed ('year_birth', 'month_birth', 'subjects' were unexpected)\",\"type\":\"ERROR\"},{\"keys\":[\"cases\"],\"message\":\"'cases' is a required property\",\"type\":\"MISSING_PROPERTY\"}],\"id\":null,\"type\":\"demographic\",\"unique_keys\":[{\"project_id\":\"program1-synthetic_dataset_1\",\"submitter_id\":\"demographic_633baea54d\"}],\"valid\":false,\"warnings\":[]},{\"action\":null,\"errors\":[{\"keys\":[],\"message\":\"Additional properties are not allowed ('year_birth', 'month_birth', 'subjects' were unexpected)\",\"type\":\"ERROR\"},{\"keys\":[\"cases\"],\"message\":\"'cases' is a required property\",\"type\":\"MISSING_PROPERTY\"}],\"id\":null,\"type\":\"demographic\",\"unique_keys\":[{\"project_id\":\"program1-synthetic_dataset_1\",\"submitter_id\":\"demographic_e306333e91\"}],\"valid\":false,\"warnings\":[]},{\"action\":null,\"errors\":[{\"keys\":[],\"message\":\"Additional properties are not allowed ('year_birth', 'month_birth', 'subjects' were unexpected)\",\"type\":\"ERROR\"},{\"keys\":[\"cases\"],\"message\":\"'cases' is a required property\",\"type\":\"MISSING_PROPERTY\"}],\"id\":null,\"type\":\"demographic\",\"unique_keys\":[{\"project_id\":\"program1-synthetic_dataset_1\",\"submitter_id\":\"demographic_d10676a316\"}],\"valid\":false,\"warnings\":[]},{\"action\":null,\"errors\":[{\"keys\":[],\"message\":\"Additional properties are not allowed ('year_birth', 'month_birth', 'subjects' were unexpected)\",\"type\":\"ERROR\"},{\"keys\":[\"cases\"],\"message\":\"'cases' is a required property\",\"type\":\"MISSING_PROPERTY\"}],\"id\":null,\"type\":\"demographic\",\"unique_keys\":[{\"project_id\":\"program1-synthetic_dataset_1\",\"submitter_id\":\"demographic_bcdc6fee09\"}],\"valid\":false,\"warnings\":[]},{\"action\":null,\"errors\":[{\"keys\":[],\"message\":\"Additional properties are not allowed ('year_birth', 'month_birth', 'subjects' were unexpected)\",\"type\":\"ERROR\"},{\"keys\":[\"cases\"],\"message\":\"'cases' is a required property\",\"type\":\"MISSING_PROPERTY\"}],\"id\":null,\"type\":\"demographic\",\"unique_keys\":[{\"project_id\":\"program1-synthetic_dataset_1\",\"submitter_id\":\"demographic_3bfa4f57e3\"}],\"valid\":false,\"warnings\":[]},{\"action\":null,\"errors\":[{\"keys\":[],\"message\":\"Additional properties are not allowed ('year_birth', 'month_birth', 'subjects' were unexpected)\",\"type\":\"ERROR\"},{\"keys\":[\"cases\"],\"message\":\"'cases' is a required property\",\"type\":\"MISSING_PROPERTY\"}],\"id\":null,\"type\":\"demographic\",\"unique_keys\":[{\"project_id\":\"program1-synthetic_dataset_1\",\"submitter_id\":\"demographic_87954d6e38\"}],\"valid\":false,\"warnings\":[]},{\"action\":null,\"errors\":[{\"keys\":[],\"message\":\"Additional properties are not allowed ('year_birth', 'month_birth', 'subjects' were unexpected)\",\"type\":\"ERROR\"},{\"keys\":[\"cases\"],\"message\":\"'cases' is a required property\",\"type\":\"MISSING_PROPERTY\"}],\"id\":null,\"type\":\"demographic\",\"unique_keys\":[{\"project_id\":\"program1-synthetic_dataset_1\",\"submitter_id\":\"demographic_a8ec2c235b\"}],\"valid\":false,\"warnings\":[]},{\"action\":null,\"errors\":[{\"keys\":[],\"message\":\"Additional properties are not allowed ('year_birth', 'month_birth', 'subjects' were unexpected)\",\"type\":\"ERROR\"},{\"keys\":[\"cases\"],\"message\":\"'cases' is a required property\",\"type\":\"MISSING_PROPERTY\"}],\"id\":null,\"type\":\"demographic\",\"unique_keys\":[{\"project_id\":\"program1-synthetic_dataset_1\",\"submitter_id\":\"demographic_9efefb2537\"}],\"valid\":false,\"warnings\":[]},{\"action\":null,\"errors\":[{\"keys\":[],\"message\":\"Additional properties are not allowed ('year_birth', 'month_birth', 'subjects' were unexpected)\",\"type\":\"ERROR\"},{\"keys\":[\"cases\"],\"message\":\"'cases' is a required property\",\"type\":\"MISSING_PROPERTY\"}],\"id\":null,\"type\":\"demographic\",\"unique_keys\":[{\"project_id\":\"program1-synthetic_dataset_1\",\"submitter_id\":\"demographic_0ba809c810\"}],\"valid\":false,\"warnings\":[]},{\"action\":null,\"errors\":[{\"keys\":[],\"message\":\"Additional properties are not allowed ('year_birth', 'month_birth', 'subjects' were unexpected)\",\"type\":\"ERROR\"},{\"keys\":[\"cases\"],\"message\":\"'cases' is a required property\",\"type\":\"MISSING_PROPERTY\"}],\"id\":null,\"type\":\"demographic\",\"unique_keys\":[{\"project_id\":\"program1-synthetic_dataset_1\",\"submitter_id\":\"demographic_a33b24f1fa\"}],\"valid\":false,\"warnings\":[]},{\"action\":null,\"errors\":[{\"keys\":[],\"message\":\"Additional properties are not allowed ('year_birth', 'month_birth', 'subjects' were unexpected)\",\"type\":\"ERROR\"},{\"keys\":[\"cases\"],\"message\":\"'cases' is a required property\",\"type\":\"MISSING_PROPERTY\"}],\"id\":null,\"type\":\"demographic\",\"unique_keys\":[{\"project_id\":\"program1-synthetic_dataset_1\",\"submitter_id\":\"demographic_98be01dfe9\"}],\"valid\":false,\"warnings\":[]},{\"action\":null,\"errors\":[{\"keys\":[],\"message\":\"Additional properties are not allowed ('year_birth', 'month_birth', 'subjects' were unexpected)\",\"type\":\"ERROR\"},{\"keys\":[\"cases\"],\"message\":\"'cases' is a required property\",\"type\":\"MISSING_PROPERTY\"}],\"id\":null,\"type\":\"demographic\",\"unique_keys\":[{\"project_id\":\"program1-synthetic_dataset_1\",\"submitter_id\":\"demographic_f0930055c7\"}],\"valid\":false,\"warnings\":[]},{\"action\":null,\"errors\":[{\"keys\":[],\"message\":\"Additional properties are not allowed ('year_birth', 'month_birth', 'subjects' were unexpected)\",\"type\":\"ERROR\"},{\"keys\":[\"cases\"],\"message\":\"'cases' is a required property\",\"type\":\"MISSING_PROPERTY\"}],\"id\":null,\"type\":\"demographic\",\"unique_keys\":[{\"project_id\":\"program1-synthetic_dataset_1\",\"submitter_id\":\"demographic_81ed39a496\"}],\"valid\":false,\"warnings\":[]},{\"action\":null,\"errors\":[{\"keys\":[],\"message\":\"Additional properties are not allowed ('year_birth', 'month_birth', 'subjects' were unexpected)\",\"type\":\"ERROR\"},{\"keys\":[\"cases\"],\"message\":\"'cases' is a required property\",\"type\":\"MISSING_PROPERTY\"}],\"id\":null,\"type\":\"demographic\",\"unique_keys\":[{\"project_id\":\"program1-synthetic_dataset_1\",\"submitter_id\":\"demographic_40e6a261c0\"}],\"valid\":false,\"warnings\":[]},{\"action\":null,\"errors\":[{\"keys\":[],\"message\":\"Additional properties are not allowed ('year_birth', 'month_birth', 'subjects' were unexpected)\",\"type\":\"ERROR\"},{\"keys\":[\"cases\"],\"message\":\"'cases' is a required property\",\"type\":\"MISSING_PROPERTY\"}],\"id\":null,\"type\":\"demographic\",\"unique_keys\":[{\"project_id\":\"program1-synthetic_dataset_1\",\"submitter_id\":\"demographic_47e4347783\"}],\"valid\":false,\"warnings\":[]},{\"action\":null,\"errors\":[{\"keys\":[],\"message\":\"Additional properties are not allowed ('year_birth', 'month_birth', 'subjects' were unexpected)\",\"type\":\"ERROR\"},{\"keys\":[\"cases\"],\"message\":\"'cases' is a required property\",\"type\":\"MISSING_PROPERTY\"}],\"id\":null,\"type\":\"demographic\",\"unique_keys\":[{\"project_id\":\"program1-synthetic_dataset_1\",\"submitter_id\":\"demographic_9b36120bbe\"}],\"valid\":false,\"warnings\":[]},{\"action\":null,\"errors\":[{\"keys\":[],\"message\":\"Additional properties are not allowed ('year_birth', 'month_birth', 'subjects' were unexpected)\",\"type\":\"ERROR\"},{\"keys\":[\"cases\"],\"message\":\"'cases' is a required property\",\"type\":\"MISSING_PROPERTY\"}],\"id\":null,\"type\":\"demographic\",\"unique_keys\":[{\"project_id\":\"program1-synthetic_dataset_1\",\"submitter_id\":\"demographic_b68bdced42\"}],\"valid\":false,\"warnings\":[]},{\"action\":null,\"errors\":[{\"keys\":[],\"message\":\"Additional properties are not allowed ('year_birth', 'month_birth', 'subjects' were unexpected)\",\"type\":\"ERROR\"},{\"keys\":[\"cases\"],\"message\":\"'cases' is a required property\",\"type\":\"MISSING_PROPERTY\"}],\"id\":null,\"type\":\"demographic\",\"unique_keys\":[{\"project_id\":\"program1-synthetic_dataset_1\",\"submitter_id\":\"demographic_8ed1aaf66e\"}],\"valid\":false,\"warnings\":[]},{\"action\":null,\"errors\":[{\"keys\":[],\"message\":\"Additional properties are not allowed ('year_birth', 'month_birth', 'subjects' were unexpected)\",\"type\":\"ERROR\"},{\"keys\":[\"cases\"],\"message\":\"'cases' is a required property\",\"type\":\"MISSING_PROPERTY\"}],\"id\":null,\"type\":\"demographic\",\"unique_keys\":[{\"project_id\":\"program1-synthetic_dataset_1\",\"submitter_id\":\"demographic_9d0167dc5c\"}],\"valid\":false,\"warnings\":[]},{\"action\":null,\"errors\":[{\"keys\":[],\"message\":\"Additional properties are not allowed ('year_birth', 'month_birth', 'subjects' were unexpected)\",\"type\":\"ERROR\"},{\"keys\":[\"cases\"],\"message\":\"'cases' is a required property\",\"type\":\"MISSING_PROPERTY\"}],\"id\":null,\"type\":\"demographic\",\"unique_keys\":[{\"project_id\":\"program1-synthetic_dataset_1\",\"submitter_id\":\"demographic_7c20cb6ce3\"}],\"valid\":false,\"warnings\":[]},{\"action\":null,\"errors\":[{\"keys\":[],\"message\":\"Additional properties are not allowed ('year_birth', 'month_birth', 'subjects' were unexpected)\",\"type\":\"ERROR\"},{\"keys\":[\"cases\"],\"message\":\"'cases' is a required property\",\"type\":\"MISSING_PROPERTY\"}],\"id\":null,\"type\":\"demographic\",\"unique_keys\":[{\"project_id\":\"program1-synthetic_dataset_1\",\"submitter_id\":\"demographic_b1079f5b3a\"}],\"valid\":false,\"warnings\":[]},{\"action\":null,\"errors\":[{\"keys\":[],\"message\":\"Additional properties are not allowed ('year_birth', 'month_birth', 'subjects' were unexpected)\",\"type\":\"ERROR\"},{\"keys\":[\"cases\"],\"message\":\"'cases' is a required property\",\"type\":\"MISSING_PROPERTY\"}],\"id\":null,\"type\":\"demographic\",\"unique_keys\":[{\"project_id\":\"program1-synthetic_dataset_1\",\"submitter_id\":\"demographic_41e3654920\"}],\"valid\":false,\"warnings\":[]},{\"action\":null,\"errors\":[{\"keys\":[],\"message\":\"Additional properties are not allowed ('year_birth', 'month_birth', 'subjects' were unexpected)\",\"type\":\"ERROR\"},{\"keys\":[\"cases\"],\"message\":\"'cases' is a required property\",\"type\":\"MISSING_PROPERTY\"}],\"id\":null,\"type\":\"demographic\",\"unique_keys\":[{\"project_id\":\"program1-synthetic_dataset_1\",\"submitter_id\":\"demographic_4d1ed8a154\"}],\"valid\":false,\"warnings\":[]},{\"action\":null,\"errors\":[{\"keys\":[],\"message\":\"Additional properties are not allowed ('year_birth', 'month_birth', 'subjects' were unexpected)\",\"type\":\"ERROR\"},{\"keys\":[\"cases\"],\"message\":\"'cases' is a required property\",\"type\":\"MISSING_PROPERTY\"}],\"id\":null,\"type\":\"demographic\",\"unique_keys\":[{\"project_id\":\"program1-synthetic_dataset_1\",\"submitter_id\":\"demographic_015d83c89e\"}],\"valid\":false,\"warnings\":[]},{\"action\":null,\"errors\":[{\"keys\":[],\"message\":\"Additional properties are not allowed ('year_birth', 'month_birth', 'subjects' were unexpected)\",\"type\":\"ERROR\"},{\"keys\":[\"cases\"],\"message\":\"'cases' is a required property\",\"type\":\"MISSING_PROPERTY\"}],\"id\":null,\"type\":\"demographic\",\"unique_keys\":[{\"project_id\":\"program1-synthetic_dataset_1\",\"submitter_id\":\"demographic_33a82c036e\"}],\"valid\":false,\"warnings\":[]},{\"action\":null,\"errors\":[{\"keys\":[],\"message\":\"Additional properties are not allowed ('year_birth', 'month_birth', 'subjects' were unexpected)\",\"type\":\"ERROR\"},{\"keys\":[\"cases\"],\"message\":\"'cases' is a required property\",\"type\":\"MISSING_PROPERTY\"}],\"id\":null,\"type\":\"demographic\",\"unique_keys\":[{\"project_id\":\"program1-synthetic_dataset_1\",\"submitter_id\":\"demographic_993bf96629\"}],\"valid\":false,\"warnings\":[]},{\"action\":null,\"errors\":[{\"keys\":[],\"message\":\"Additional properties are not allowed ('year_birth', 'month_birth', 'subjects' were unexpected)\",\"type\":\"ERROR\"},{\"keys\":[\"cases\"],\"message\":\"'cases' is a required property\",\"type\":\"MISSING_PROPERTY\"}],\"id\":null,\"type\":\"demographic\",\"unique_keys\":[{\"project_id\":\"program1-synthetic_dataset_1\",\"submitter_id\":\"demographic_89d333bbf1\"}],\"valid\":false,\"warnings\":[]},{\"action\":null,\"errors\":[{\"keys\":[],\"message\":\"Additional properties are not allowed ('year_birth', 'month_birth', 'subjects' were unexpected)\",\"type\":\"ERROR\"},{\"keys\":[\"cases\"],\"message\":\"'cases' is a required property\",\"type\":\"MISSING_PROPERTY\"}],\"id\":null,\"type\":\"demographic\",\"unique_keys\":[{\"project_id\":\"program1-synthetic_dataset_1\",\"submitter_id\":\"demographic_cc078160eb\"}],\"valid\":false,\"warnings\":[]},{\"action\":null,\"errors\":[{\"keys\":[],\"message\":\"Additional properties are not allowed ('year_birth', 'month_birth', 'subjects' were unexpected)\",\"type\":\"ERROR\"},{\"keys\":[\"cases\"],\"message\":\"'cases' is a required property\",\"type\":\"MISSING_PROPERTY\"}],\"id\":null,\"type\":\"demographic\",\"unique_keys\":[{\"project_id\":\"program1-synthetic_dataset_1\",\"submitter_id\":\"demographic_e51e594d7a\"}],\"valid\":false,\"warnings\":[]},{\"action\":null,\"errors\":[{\"keys\":[],\"message\":\"Additional properties are not allowed ('year_birth', 'month_birth', 'subjects' were unexpected)\",\"type\":\"ERROR\"},{\"keys\":[\"cases\"],\"message\":\"'cases' is a required property\",\"type\":\"MISSING_PROPERTY\"}],\"id\":null,\"type\":\"demographic\",\"unique_keys\":[{\"project_id\":\"program1-synthetic_dataset_1\",\"submitter_id\":\"demographic_e6795f3158\"}],\"valid\":false,\"warnings\":[]},{\"action\":null,\"errors\":[{\"keys\":[],\"message\":\"Additional properties are not allowed ('year_birth', 'month_birth', 'subjects' were unexpected)\",\"type\":\"ERROR\"},{\"keys\":[\"cases\"],\"message\":\"'cases' is a required property\",\"type\":\"MISSING_PROPERTY\"}],\"id\":null,\"type\":\"demographic\",\"unique_keys\":[{\"project_id\":\"program1-synthetic_dataset_1\",\"submitter_id\":\"demographic_3b855aa6c9\"}],\"valid\":false,\"warnings\":[]},{\"action\":null,\"errors\":[{\"keys\":[],\"message\":\"Additional properties are not allowed ('year_birth', 'month_birth', 'subjects' were unexpected)\",\"type\":\"ERROR\"},{\"keys\":[\"cases\"],\"message\":\"'cases' is a required property\",\"type\":\"MISSING_PROPERTY\"}],\"id\":null,\"type\":\"demographic\",\"unique_keys\":[{\"project_id\":\"program1-synthetic_dataset_1\",\"submitter_id\":\"demographic_3e689302fd\"}],\"valid\":false,\"warnings\":[]},{\"action\":null,\"errors\":[{\"keys\":[],\"message\":\"Additional properties are not allowed ('year_birth', 'month_birth', 'subjects' were unexpected)\",\"type\":\"ERROR\"},{\"keys\":[\"cases\"],\"message\":\"'cases' is a required property\",\"type\":\"MISSING_PROPERTY\"}],\"id\":null,\"type\":\"demographic\",\"unique_keys\":[{\"project_id\":\"program1-synthetic_dataset_1\",\"submitter_id\":\"demographic_573f945605\"}],\"valid\":false,\"warnings\":[]},{\"action\":null,\"errors\":[{\"keys\":[],\"message\":\"Additional properties are not allowed ('year_birth', 'month_birth', 'subjects' were unexpected)\",\"type\":\"ERROR\"},{\"keys\":[\"cases\"],\"message\":\"'cases' is a required property\",\"type\":\"MISSING_PROPERTY\"}],\"id\":null,\"type\":\"demographic\",\"unique_keys\":[{\"project_id\":\"program1-synthetic_dataset_1\",\"submitter_id\":\"demographic_f2f7577c5c\"}],\"valid\":false,\"warnings\":[]},{\"action\":null,\"errors\":[{\"keys\":[],\"message\":\"Additional properties are not allowed ('year_birth', 'month_birth', 'subjects' were unexpected)\",\"type\":\"ERROR\"},{\"keys\":[\"cases\"],\"message\":\"'cases' is a required property\",\"type\":\"MISSING_PROPERTY\"}],\"id\":null,\"type\":\"demographic\",\"unique_keys\":[{\"project_id\":\"program1-synthetic_dataset_1\",\"submitter_id\":\"demographic_678f1d61d8\"}],\"valid\":false,\"warnings\":[]},{\"action\":null,\"errors\":[{\"keys\":[],\"message\":\"Additional properties are not allowed ('year_birth', 'month_birth', 'subjects' were unexpected)\",\"type\":\"ERROR\"},{\"keys\":[\"cases\"],\"message\":\"'cases' is a required property\",\"type\":\"MISSING_PROPERTY\"}],\"id\":null,\"type\":\"demographic\",\"unique_keys\":[{\"project_id\":\"program1-synthetic_dataset_1\",\"submitter_id\":\"demographic_8c6b606ac0\"}],\"valid\":false,\"warnings\":[]},{\"action\":null,\"errors\":[{\"keys\":[],\"message\":\"Additional properties are not allowed ('year_birth', 'month_birth', 'subjects' were unexpected)\",\"type\":\"ERROR\"},{\"keys\":[\"cases\"],\"message\":\"'cases' is a required property\",\"type\":\"MISSING_PROPERTY\"}],\"id\":null,\"type\":\"demographic\",\"unique_keys\":[{\"project_id\":\"program1-synthetic_dataset_1\",\"submitter_id\":\"demographic_2cf5eed0f9\"}],\"valid\":false,\"warnings\":[]},{\"action\":null,\"errors\":[{\"keys\":[],\"message\":\"Additional properties are not allowed ('year_birth', 'month_birth', 'subjects' were unexpected)\",\"type\":\"ERROR\"},{\"keys\":[\"cases\"],\"message\":\"'cases' is a required property\",\"type\":\"MISSING_PROPERTY\"}],\"id\":null,\"type\":\"demographic\",\"unique_keys\":[{\"project_id\":\"program1-synthetic_dataset_1\",\"submitter_id\":\"demographic_504d6f0df2\"}],\"valid\":false,\"warnings\":[]},{\"action\":null,\"errors\":[{\"keys\":[],\"message\":\"Additional properties are not allowed ('year_birth', 'month_birth', 'subjects' were unexpected)\",\"type\":\"ERROR\"},{\"keys\":[\"cases\"],\"message\":\"'cases' is a required property\",\"type\":\"MISSING_PROPERTY\"}],\"id\":null,\"type\":\"demographic\",\"unique_keys\":[{\"project_id\":\"program1-synthetic_dataset_1\",\"submitter_id\":\"demographic_2a9288a146\"}],\"valid\":false,\"warnings\":[]},{\"action\":null,\"errors\":[{\"keys\":[],\"message\":\"Additional properties are not allowed ('year_birth', 'month_birth', 'subjects' were unexpected)\",\"type\":\"ERROR\"},{\"keys\":[\"cases\"],\"message\":\"'cases' is a required property\",\"type\":\"MISSING_PROPERTY\"}],\"id\":null,\"type\":\"demographic\",\"unique_keys\":[{\"project_id\":\"program1-synthetic_dataset_1\",\"submitter_id\":\"demographic_4a1a8c9f3c\"}],\"valid\":false,\"warnings\":[]},{\"action\":null,\"errors\":[{\"keys\":[],\"message\":\"Additional properties are not allowed ('year_birth', 'month_birth', 'subjects' were unexpected)\",\"type\":\"ERROR\"},{\"keys\":[\"cases\"],\"message\":\"'cases' is a required property\",\"type\":\"MISSING_PROPERTY\"}],\"id\":null,\"type\":\"demographic\",\"unique_keys\":[{\"project_id\":\"program1-synthetic_dataset_1\",\"submitter_id\":\"demographic_6f99d4d64c\"}],\"valid\":false,\"warnings\":[]},{\"action\":null,\"errors\":[{\"keys\":[],\"message\":\"Additional properties are not allowed ('year_birth', 'month_birth', 'subjects' were unexpected)\",\"type\":\"ERROR\"},{\"keys\":[\"cases\"],\"message\":\"'cases' is a required property\",\"type\":\"MISSING_PROPERTY\"}],\"id\":null,\"type\":\"demographic\",\"unique_keys\":[{\"project_id\":\"program1-synthetic_dataset_1\",\"submitter_id\":\"demographic_b6722cdff4\"}],\"valid\":false,\"warnings\":[]},{\"action\":null,\"errors\":[{\"keys\":[],\"message\":\"Additional properties are not allowed ('year_birth', 'month_birth', 'subjects' were unexpected)\",\"type\":\"ERROR\"},{\"keys\":[\"cases\"],\"message\":\"'cases' is a required property\",\"type\":\"MISSING_PROPERTY\"}],\"id\":null,\"type\":\"demographic\",\"unique_keys\":[{\"project_id\":\"program1-synthetic_dataset_1\",\"submitter_id\":\"demographic_4dbf993971\"}],\"valid\":false,\"warnings\":[]},{\"action\":null,\"errors\":[{\"keys\":[],\"message\":\"Additional properties are not allowed ('year_birth', 'month_birth', 'subjects' were unexpected)\",\"type\":\"ERROR\"},{\"keys\":[\"cases\"],\"message\":\"'cases' is a required property\",\"type\":\"MISSING_PROPERTY\"}],\"id\":null,\"type\":\"demographic\",\"unique_keys\":[{\"project_id\":\"program1-synthetic_dataset_1\",\"submitter_id\":\"demographic_a391cc60cd\"}],\"valid\":false,\"warnings\":[]},{\"action\":null,\"errors\":[{\"keys\":[],\"message\":\"Additional properties are not allowed ('year_birth', 'month_birth', 'subjects' were unexpected)\",\"type\":\"ERROR\"},{\"keys\":[\"cases\"],\"message\":\"'cases' is a required property\",\"type\":\"MISSING_PROPERTY\"}],\"id\":null,\"type\":\"demographic\",\"unique_keys\":[{\"project_id\":\"program1-synthetic_dataset_1\",\"submitter_id\":\"demographic_bd2aab9092\"}],\"valid\":false,\"warnings\":[]},{\"action\":null,\"errors\":[{\"keys\":[],\"message\":\"Additional properties are not allowed ('year_birth', 'month_birth', 'subjects' were unexpected)\",\"type\":\"ERROR\"},{\"keys\":[\"cases\"],\"message\":\"'cases' is a required property\",\"type\":\"MISSING_PROPERTY\"}],\"id\":null,\"type\":\"demographic\",\"unique_keys\":[{\"project_id\":\"program1-synthetic_dataset_1\",\"submitter_id\":\"demographic_ee489009da\"}],\"valid\":false,\"warnings\":[]},{\"action\":null,\"errors\":[{\"keys\":[],\"message\":\"Additional properties are not allowed ('year_birth', 'month_birth', 'subjects' were unexpected)\",\"type\":\"ERROR\"},{\"keys\":[\"cases\"],\"message\":\"'cases' is a required property\",\"type\":\"MISSING_PROPERTY\"}],\"id\":null,\"type\":\"demographic\",\"unique_keys\":[{\"project_id\":\"program1-synthetic_dataset_1\",\"submitter_id\":\"demographic_39e269d429\"}],\"valid\":false,\"warnings\":[]},{\"action\":null,\"errors\":[{\"keys\":[],\"message\":\"Additional properties are not allowed ('year_birth', 'month_birth', 'subjects' were unexpected)\",\"type\":\"ERROR\"},{\"keys\":[\"cases\"],\"message\":\"'cases' is a required property\",\"type\":\"MISSING_PROPERTY\"}],\"id\":null,\"type\":\"demographic\",\"unique_keys\":[{\"project_id\":\"program1-synthetic_dataset_1\",\"submitter_id\":\"demographic_8f069eeb58\"}],\"valid\":false,\"warnings\":[]},{\"action\":null,\"errors\":[{\"keys\":[],\"message\":\"Additional properties are not allowed ('year_birth', 'month_birth', 'subjects' were unexpected)\",\"type\":\"ERROR\"},{\"keys\":[\"cases\"],\"message\":\"'cases' is a required property\",\"type\":\"MISSING_PROPERTY\"}],\"id\":null,\"type\":\"demographic\",\"unique_keys\":[{\"project_id\":\"program1-synthetic_dataset_1\",\"submitter_id\":\"demographic_f3a999a258\"}],\"valid\":false,\"warnings\":[]}],\"entity_error_count\":110,\"message\":\"Transaction aborted due to 110 invalid entities.\",\"success\":false,\"transaction_id\":17,\"transactional_error_count\":0,\"transactional_errors\":[],\"updated_entity_count\":0}\n",
      "\n",
      "ERROR\t| synthetic_dataset_1\t| demographic: 400 Client Error: BAD REQUEST for url: https://omix3.test.biocommons.org.au/api/v0/submission/program1/synthetic_dataset_1 | Retry 2/6\n",
      "SUBMITTING\t| synthetic_dataset_1\t| demographic\t| 1/1 data splits\n"
     ]
    },
    {
     "ename": "KeyboardInterrupt",
     "evalue": "",
     "output_type": "error",
     "traceback": [
      "\u001b[0;31m---------------------------------------------------------------------------\u001b[0m",
      "\u001b[0;31mKeyboardInterrupt\u001b[0m                         Traceback (most recent call last)",
      "Cell \u001b[0;32mIn[27], line 6\u001b[0m\n\u001b[1;32m      3\u001b[0m credentials \u001b[38;5;241m=\u001b[39m \u001b[38;5;124m'\u001b[39m\u001b[38;5;124m/Users/harrijh/keys/omix3_api_key_test.json\u001b[39m\u001b[38;5;124m'\u001b[39m\n\u001b[1;32m      5\u001b[0m \u001b[38;5;28;01mfor\u001b[39;00m project_id \u001b[38;5;129;01min\u001b[39;00m project_list_custom:\n\u001b[0;32m----> 6\u001b[0m     \u001b[43mgen3schemadev\u001b[49m\u001b[38;5;241;43m.\u001b[39;49m\u001b[43mgen3datasubmitter\u001b[49m\u001b[38;5;241;43m.\u001b[39;49m\u001b[43msubmit_metadata\u001b[49m\u001b[43m(\u001b[49m\u001b[43mbase_dir\u001b[49m\u001b[43m,\u001b[49m\u001b[43m \u001b[49m\u001b[43mproject_id\u001b[49m\u001b[43m,\u001b[49m\u001b[43m \u001b[49m\u001b[43mapi_endpoint\u001b[49m\u001b[43m,\u001b[49m\u001b[43m \u001b[49m\u001b[43mcredentials\u001b[49m\u001b[43m,\u001b[49m\u001b[43m \u001b[49m\u001b[43mdry_run\u001b[49m\u001b[38;5;241;43m=\u001b[39;49m\u001b[38;5;28;43;01mFalse\u001b[39;49;00m\u001b[43m,\u001b[49m\u001b[43m \u001b[49m\u001b[43mmax_submission_size_kb\u001b[49m\u001b[38;5;241;43m=\u001b[39;49m\u001b[38;5;241;43m50\u001b[39;49m\u001b[43m,\u001b[49m\u001b[43m \u001b[49m\u001b[43mretries\u001b[49m\u001b[38;5;241;43m=\u001b[39;49m\u001b[38;5;241;43m6\u001b[39;49m\u001b[43m,\u001b[49m\u001b[43m \u001b[49m\u001b[43mdisable_input\u001b[49m\u001b[38;5;241;43m=\u001b[39;49m\u001b[38;5;28;43;01mTrue\u001b[39;49;00m\u001b[43m)\u001b[49m\n\u001b[1;32m      8\u001b[0m \u001b[38;5;66;03m# project_id = project_list_custom[1]\u001b[39;00m\n\u001b[1;32m      9\u001b[0m \u001b[38;5;66;03m# gen3schemadev.gen3datasubmitter.submit_metadata(base_dir, project_id, api_endpoint, credentials, dry_run=False, max_submission_size_kb=50, retries=5, exclude_nodes=[\"program\", \"project\"])\u001b[39;00m\n",
      "File \u001b[0;32m~/projects/omix3schemadev/gen3schemadev/gen3schemadev/gen3datasubmitter.py:137\u001b[0m, in \u001b[0;36msubmit_metadata\u001b[0;34m(base_dir, project_id, api_endpoint, credentials, exclude_nodes, dry_run, max_submission_size_kb, retries, disable_input, specific_node, ab_path, import_order_file)\u001b[0m\n\u001b[1;32m    134\u001b[0m     \u001b[38;5;28;01mreturn\u001b[39;00m \u001b[38;5;28mprint\u001b[39m(\u001b[38;5;124mf\u001b[39m\u001b[38;5;124m\"\u001b[39m\u001b[38;5;124mDone. \u001b[39m\u001b[38;5;132;01m{\u001b[39;00mproject_id\u001b[38;5;132;01m}\u001b[39;00m\u001b[38;5;124m | \u001b[39m\u001b[38;5;132;01m{\u001b[39;00mspecific_node\u001b[38;5;132;01m}\u001b[39;00m\u001b[38;5;124m metadata submitted\u001b[39m\u001b[38;5;124m\"\u001b[39m)\n\u001b[1;32m    136\u001b[0m \u001b[38;5;28;01mfor\u001b[39;00m node \u001b[38;5;129;01min\u001b[39;00m final_ordered_import_nodes:\n\u001b[0;32m--> 137\u001b[0m     \u001b[43mprocess_node\u001b[49m\u001b[43m(\u001b[49m\u001b[43mnode\u001b[49m\u001b[43m,\u001b[49m\u001b[43m \u001b[49m\u001b[43msub\u001b[49m\u001b[43m,\u001b[49m\u001b[43m \u001b[49m\u001b[43mproject_id\u001b[49m\u001b[43m,\u001b[49m\u001b[43m \u001b[49m\u001b[43mdry_run\u001b[49m\u001b[43m,\u001b[49m\u001b[43m \u001b[49m\u001b[43mretries\u001b[49m\u001b[43m)\u001b[49m\n",
      "File \u001b[0;32m~/projects/omix3schemadev/gen3schemadev/gen3schemadev/gen3datasubmitter.py:122\u001b[0m, in \u001b[0;36msubmit_metadata.<locals>.process_node\u001b[0;34m(node, sub, project_id, dry_run, max_retries)\u001b[0m\n\u001b[1;32m    120\u001b[0m \u001b[38;5;28;01mtry\u001b[39;00m:\n\u001b[1;32m    121\u001b[0m     \u001b[38;5;28mprint\u001b[39m(\u001b[38;5;124mf\u001b[39m\u001b[38;5;124m\"\u001b[39m\u001b[38;5;124mSUBMITTING\u001b[39m\u001b[38;5;130;01m\\t\u001b[39;00m\u001b[38;5;124m| \u001b[39m\u001b[38;5;132;01m{\u001b[39;00mproject_id\u001b[38;5;132;01m}\u001b[39;00m\u001b[38;5;130;01m\\t\u001b[39;00m\u001b[38;5;124m| \u001b[39m\u001b[38;5;132;01m{\u001b[39;00mnode\u001b[38;5;132;01m}\u001b[39;00m\u001b[38;5;130;01m\\t\u001b[39;00m\u001b[38;5;124m| \u001b[39m\u001b[38;5;132;01m{\u001b[39;00mindex\u001b[38;5;250m \u001b[39m\u001b[38;5;241m+\u001b[39m\u001b[38;5;250m \u001b[39m\u001b[38;5;241m1\u001b[39m\u001b[38;5;132;01m}\u001b[39;00m\u001b[38;5;124m/\u001b[39m\u001b[38;5;132;01m{\u001b[39;00mn_json_data\u001b[38;5;132;01m}\u001b[39;00m\u001b[38;5;124m data splits\u001b[39m\u001b[38;5;124m\"\u001b[39m)\n\u001b[0;32m--> 122\u001b[0m     \u001b[43msub\u001b[49m\u001b[38;5;241;43m.\u001b[39;49m\u001b[43msubmit_record\u001b[49m\u001b[43m(\u001b[49m\u001b[38;5;124;43m\"\u001b[39;49m\u001b[38;5;124;43mprogram1\u001b[39;49m\u001b[38;5;124;43m\"\u001b[39;49m\u001b[43m,\u001b[49m\u001b[43m \u001b[49m\u001b[43mproject_id\u001b[49m\u001b[43m,\u001b[49m\u001b[43m \u001b[49m\u001b[43mjsn\u001b[49m\u001b[43m)\u001b[49m\n\u001b[1;32m    123\u001b[0m     \u001b[38;5;28mprint\u001b[39m(\u001b[38;5;124mf\u001b[39m\u001b[38;5;124m\"\u001b[39m\u001b[38;5;124mSUCCESS\u001b[39m\u001b[38;5;130;01m\\t\u001b[39;00m\u001b[38;5;124m| Imported: \u001b[39m\u001b[38;5;132;01m{\u001b[39;00mproject_id\u001b[38;5;132;01m}\u001b[39;00m\u001b[38;5;130;01m\\t\u001b[39;00m\u001b[38;5;124m| \u001b[39m\u001b[38;5;132;01m{\u001b[39;00mnode\u001b[38;5;132;01m}\u001b[39;00m\u001b[38;5;124m\"\u001b[39m)\n\u001b[1;32m    124\u001b[0m     \u001b[38;5;28;01mbreak\u001b[39;00m\n",
      "File \u001b[0;32m~/projects/omix3schemadev/.venv/lib/python3.9/site-packages/gen3/submission.py:206\u001b[0m, in \u001b[0;36mGen3Submission.submit_record\u001b[0;34m(self, program, project, json)\u001b[0m\n\u001b[1;32m    203\u001b[0m api_url \u001b[38;5;241m=\u001b[39m \u001b[38;5;124m\"\u001b[39m\u001b[38;5;132;01m{}\u001b[39;00m\u001b[38;5;124m/api/v0/submission/\u001b[39m\u001b[38;5;132;01m{}\u001b[39;00m\u001b[38;5;124m/\u001b[39m\u001b[38;5;132;01m{}\u001b[39;00m\u001b[38;5;124m\"\u001b[39m\u001b[38;5;241m.\u001b[39mformat(\u001b[38;5;28mself\u001b[39m\u001b[38;5;241m.\u001b[39m_endpoint, program, project)\n\u001b[1;32m    204\u001b[0m logging\u001b[38;5;241m.\u001b[39mdebug(\u001b[38;5;124m\"\u001b[39m\u001b[38;5;124mUsing the Sheepdog API URL: \u001b[39m\u001b[38;5;132;01m{}\u001b[39;00m\u001b[38;5;124m\"\u001b[39m\u001b[38;5;241m.\u001b[39mformat(api_url))\n\u001b[0;32m--> 206\u001b[0m output \u001b[38;5;241m=\u001b[39m \u001b[43mrequests\u001b[49m\u001b[38;5;241;43m.\u001b[39;49m\u001b[43mput\u001b[49m\u001b[43m(\u001b[49m\u001b[43mapi_url\u001b[49m\u001b[43m,\u001b[49m\u001b[43m \u001b[49m\u001b[43mauth\u001b[49m\u001b[38;5;241;43m=\u001b[39;49m\u001b[38;5;28;43mself\u001b[39;49m\u001b[38;5;241;43m.\u001b[39;49m\u001b[43m_auth_provider\u001b[49m\u001b[43m,\u001b[49m\u001b[43m \u001b[49m\u001b[43mjson\u001b[49m\u001b[38;5;241;43m=\u001b[39;49m\u001b[43mjson\u001b[49m\u001b[43m)\u001b[49m\n\u001b[1;32m    207\u001b[0m raise_for_status_and_print_error(output)\n\u001b[1;32m    208\u001b[0m \u001b[38;5;28;01mreturn\u001b[39;00m output\u001b[38;5;241m.\u001b[39mjson()\n",
      "File \u001b[0;32m~/projects/omix3schemadev/.venv/lib/python3.9/site-packages/requests/api.py:130\u001b[0m, in \u001b[0;36mput\u001b[0;34m(url, data, **kwargs)\u001b[0m\n\u001b[1;32m    118\u001b[0m \u001b[38;5;28;01mdef\u001b[39;00m\u001b[38;5;250m \u001b[39m\u001b[38;5;21mput\u001b[39m(url, data\u001b[38;5;241m=\u001b[39m\u001b[38;5;28;01mNone\u001b[39;00m, \u001b[38;5;241m*\u001b[39m\u001b[38;5;241m*\u001b[39mkwargs):\n\u001b[1;32m    119\u001b[0m \u001b[38;5;250m    \u001b[39m\u001b[38;5;124mr\u001b[39m\u001b[38;5;124;03m\"\"\"Sends a PUT request.\u001b[39;00m\n\u001b[1;32m    120\u001b[0m \n\u001b[1;32m    121\u001b[0m \u001b[38;5;124;03m    :param url: URL for the new :class:`Request` object.\u001b[39;00m\n\u001b[0;32m   (...)\u001b[0m\n\u001b[1;32m    127\u001b[0m \u001b[38;5;124;03m    :rtype: requests.Response\u001b[39;00m\n\u001b[1;32m    128\u001b[0m \u001b[38;5;124;03m    \"\"\"\u001b[39;00m\n\u001b[0;32m--> 130\u001b[0m     \u001b[38;5;28;01mreturn\u001b[39;00m \u001b[43mrequest\u001b[49m\u001b[43m(\u001b[49m\u001b[38;5;124;43m\"\u001b[39;49m\u001b[38;5;124;43mput\u001b[39;49m\u001b[38;5;124;43m\"\u001b[39;49m\u001b[43m,\u001b[49m\u001b[43m \u001b[49m\u001b[43murl\u001b[49m\u001b[43m,\u001b[49m\u001b[43m \u001b[49m\u001b[43mdata\u001b[49m\u001b[38;5;241;43m=\u001b[39;49m\u001b[43mdata\u001b[49m\u001b[43m,\u001b[49m\u001b[43m \u001b[49m\u001b[38;5;241;43m*\u001b[39;49m\u001b[38;5;241;43m*\u001b[39;49m\u001b[43mkwargs\u001b[49m\u001b[43m)\u001b[49m\n",
      "File \u001b[0;32m~/projects/omix3schemadev/.venv/lib/python3.9/site-packages/requests/api.py:59\u001b[0m, in \u001b[0;36mrequest\u001b[0;34m(method, url, **kwargs)\u001b[0m\n\u001b[1;32m     55\u001b[0m \u001b[38;5;66;03m# By using the 'with' statement we are sure the session is closed, thus we\u001b[39;00m\n\u001b[1;32m     56\u001b[0m \u001b[38;5;66;03m# avoid leaving sockets open which can trigger a ResourceWarning in some\u001b[39;00m\n\u001b[1;32m     57\u001b[0m \u001b[38;5;66;03m# cases, and look like a memory leak in others.\u001b[39;00m\n\u001b[1;32m     58\u001b[0m \u001b[38;5;28;01mwith\u001b[39;00m sessions\u001b[38;5;241m.\u001b[39mSession() \u001b[38;5;28;01mas\u001b[39;00m session:\n\u001b[0;32m---> 59\u001b[0m     \u001b[38;5;28;01mreturn\u001b[39;00m \u001b[43msession\u001b[49m\u001b[38;5;241;43m.\u001b[39;49m\u001b[43mrequest\u001b[49m\u001b[43m(\u001b[49m\u001b[43mmethod\u001b[49m\u001b[38;5;241;43m=\u001b[39;49m\u001b[43mmethod\u001b[49m\u001b[43m,\u001b[49m\u001b[43m \u001b[49m\u001b[43murl\u001b[49m\u001b[38;5;241;43m=\u001b[39;49m\u001b[43murl\u001b[49m\u001b[43m,\u001b[49m\u001b[43m \u001b[49m\u001b[38;5;241;43m*\u001b[39;49m\u001b[38;5;241;43m*\u001b[39;49m\u001b[43mkwargs\u001b[49m\u001b[43m)\u001b[49m\n",
      "File \u001b[0;32m~/projects/omix3schemadev/.venv/lib/python3.9/site-packages/requests/sessions.py:589\u001b[0m, in \u001b[0;36mSession.request\u001b[0;34m(self, method, url, params, data, headers, cookies, files, auth, timeout, allow_redirects, proxies, hooks, stream, verify, cert, json)\u001b[0m\n\u001b[1;32m    584\u001b[0m send_kwargs \u001b[38;5;241m=\u001b[39m {\n\u001b[1;32m    585\u001b[0m     \u001b[38;5;124m\"\u001b[39m\u001b[38;5;124mtimeout\u001b[39m\u001b[38;5;124m\"\u001b[39m: timeout,\n\u001b[1;32m    586\u001b[0m     \u001b[38;5;124m\"\u001b[39m\u001b[38;5;124mallow_redirects\u001b[39m\u001b[38;5;124m\"\u001b[39m: allow_redirects,\n\u001b[1;32m    587\u001b[0m }\n\u001b[1;32m    588\u001b[0m send_kwargs\u001b[38;5;241m.\u001b[39mupdate(settings)\n\u001b[0;32m--> 589\u001b[0m resp \u001b[38;5;241m=\u001b[39m \u001b[38;5;28;43mself\u001b[39;49m\u001b[38;5;241;43m.\u001b[39;49m\u001b[43msend\u001b[49m\u001b[43m(\u001b[49m\u001b[43mprep\u001b[49m\u001b[43m,\u001b[49m\u001b[43m \u001b[49m\u001b[38;5;241;43m*\u001b[39;49m\u001b[38;5;241;43m*\u001b[39;49m\u001b[43msend_kwargs\u001b[49m\u001b[43m)\u001b[49m\n\u001b[1;32m    591\u001b[0m \u001b[38;5;28;01mreturn\u001b[39;00m resp\n",
      "File \u001b[0;32m~/projects/omix3schemadev/.venv/lib/python3.9/site-packages/requests/sessions.py:703\u001b[0m, in \u001b[0;36mSession.send\u001b[0;34m(self, request, **kwargs)\u001b[0m\n\u001b[1;32m    700\u001b[0m start \u001b[38;5;241m=\u001b[39m preferred_clock()\n\u001b[1;32m    702\u001b[0m \u001b[38;5;66;03m# Send the request\u001b[39;00m\n\u001b[0;32m--> 703\u001b[0m r \u001b[38;5;241m=\u001b[39m \u001b[43madapter\u001b[49m\u001b[38;5;241;43m.\u001b[39;49m\u001b[43msend\u001b[49m\u001b[43m(\u001b[49m\u001b[43mrequest\u001b[49m\u001b[43m,\u001b[49m\u001b[43m \u001b[49m\u001b[38;5;241;43m*\u001b[39;49m\u001b[38;5;241;43m*\u001b[39;49m\u001b[43mkwargs\u001b[49m\u001b[43m)\u001b[49m\n\u001b[1;32m    705\u001b[0m \u001b[38;5;66;03m# Total elapsed time of the request (approximately)\u001b[39;00m\n\u001b[1;32m    706\u001b[0m elapsed \u001b[38;5;241m=\u001b[39m preferred_clock() \u001b[38;5;241m-\u001b[39m start\n",
      "File \u001b[0;32m~/projects/omix3schemadev/.venv/lib/python3.9/site-packages/requests/adapters.py:667\u001b[0m, in \u001b[0;36mHTTPAdapter.send\u001b[0;34m(self, request, stream, timeout, verify, cert, proxies)\u001b[0m\n\u001b[1;32m    664\u001b[0m     timeout \u001b[38;5;241m=\u001b[39m TimeoutSauce(connect\u001b[38;5;241m=\u001b[39mtimeout, read\u001b[38;5;241m=\u001b[39mtimeout)\n\u001b[1;32m    666\u001b[0m \u001b[38;5;28;01mtry\u001b[39;00m:\n\u001b[0;32m--> 667\u001b[0m     resp \u001b[38;5;241m=\u001b[39m \u001b[43mconn\u001b[49m\u001b[38;5;241;43m.\u001b[39;49m\u001b[43murlopen\u001b[49m\u001b[43m(\u001b[49m\n\u001b[1;32m    668\u001b[0m \u001b[43m        \u001b[49m\u001b[43mmethod\u001b[49m\u001b[38;5;241;43m=\u001b[39;49m\u001b[43mrequest\u001b[49m\u001b[38;5;241;43m.\u001b[39;49m\u001b[43mmethod\u001b[49m\u001b[43m,\u001b[49m\n\u001b[1;32m    669\u001b[0m \u001b[43m        \u001b[49m\u001b[43murl\u001b[49m\u001b[38;5;241;43m=\u001b[39;49m\u001b[43murl\u001b[49m\u001b[43m,\u001b[49m\n\u001b[1;32m    670\u001b[0m \u001b[43m        \u001b[49m\u001b[43mbody\u001b[49m\u001b[38;5;241;43m=\u001b[39;49m\u001b[43mrequest\u001b[49m\u001b[38;5;241;43m.\u001b[39;49m\u001b[43mbody\u001b[49m\u001b[43m,\u001b[49m\n\u001b[1;32m    671\u001b[0m \u001b[43m        \u001b[49m\u001b[43mheaders\u001b[49m\u001b[38;5;241;43m=\u001b[39;49m\u001b[43mrequest\u001b[49m\u001b[38;5;241;43m.\u001b[39;49m\u001b[43mheaders\u001b[49m\u001b[43m,\u001b[49m\n\u001b[1;32m    672\u001b[0m \u001b[43m        \u001b[49m\u001b[43mredirect\u001b[49m\u001b[38;5;241;43m=\u001b[39;49m\u001b[38;5;28;43;01mFalse\u001b[39;49;00m\u001b[43m,\u001b[49m\n\u001b[1;32m    673\u001b[0m \u001b[43m        \u001b[49m\u001b[43massert_same_host\u001b[49m\u001b[38;5;241;43m=\u001b[39;49m\u001b[38;5;28;43;01mFalse\u001b[39;49;00m\u001b[43m,\u001b[49m\n\u001b[1;32m    674\u001b[0m \u001b[43m        \u001b[49m\u001b[43mpreload_content\u001b[49m\u001b[38;5;241;43m=\u001b[39;49m\u001b[38;5;28;43;01mFalse\u001b[39;49;00m\u001b[43m,\u001b[49m\n\u001b[1;32m    675\u001b[0m \u001b[43m        \u001b[49m\u001b[43mdecode_content\u001b[49m\u001b[38;5;241;43m=\u001b[39;49m\u001b[38;5;28;43;01mFalse\u001b[39;49;00m\u001b[43m,\u001b[49m\n\u001b[1;32m    676\u001b[0m \u001b[43m        \u001b[49m\u001b[43mretries\u001b[49m\u001b[38;5;241;43m=\u001b[39;49m\u001b[38;5;28;43mself\u001b[39;49m\u001b[38;5;241;43m.\u001b[39;49m\u001b[43mmax_retries\u001b[49m\u001b[43m,\u001b[49m\n\u001b[1;32m    677\u001b[0m \u001b[43m        \u001b[49m\u001b[43mtimeout\u001b[49m\u001b[38;5;241;43m=\u001b[39;49m\u001b[43mtimeout\u001b[49m\u001b[43m,\u001b[49m\n\u001b[1;32m    678\u001b[0m \u001b[43m        \u001b[49m\u001b[43mchunked\u001b[49m\u001b[38;5;241;43m=\u001b[39;49m\u001b[43mchunked\u001b[49m\u001b[43m,\u001b[49m\n\u001b[1;32m    679\u001b[0m \u001b[43m    \u001b[49m\u001b[43m)\u001b[49m\n\u001b[1;32m    681\u001b[0m \u001b[38;5;28;01mexcept\u001b[39;00m (ProtocolError, \u001b[38;5;167;01mOSError\u001b[39;00m) \u001b[38;5;28;01mas\u001b[39;00m err:\n\u001b[1;32m    682\u001b[0m     \u001b[38;5;28;01mraise\u001b[39;00m \u001b[38;5;167;01mConnectionError\u001b[39;00m(err, request\u001b[38;5;241m=\u001b[39mrequest)\n",
      "File \u001b[0;32m~/projects/omix3schemadev/.venv/lib/python3.9/site-packages/urllib3/connectionpool.py:787\u001b[0m, in \u001b[0;36mHTTPConnectionPool.urlopen\u001b[0;34m(self, method, url, body, headers, retries, redirect, assert_same_host, timeout, pool_timeout, release_conn, chunked, body_pos, preload_content, decode_content, **response_kw)\u001b[0m\n\u001b[1;32m    784\u001b[0m response_conn \u001b[38;5;241m=\u001b[39m conn \u001b[38;5;28;01mif\u001b[39;00m \u001b[38;5;129;01mnot\u001b[39;00m release_conn \u001b[38;5;28;01melse\u001b[39;00m \u001b[38;5;28;01mNone\u001b[39;00m\n\u001b[1;32m    786\u001b[0m \u001b[38;5;66;03m# Make the request on the HTTPConnection object\u001b[39;00m\n\u001b[0;32m--> 787\u001b[0m response \u001b[38;5;241m=\u001b[39m \u001b[38;5;28;43mself\u001b[39;49m\u001b[38;5;241;43m.\u001b[39;49m\u001b[43m_make_request\u001b[49m\u001b[43m(\u001b[49m\n\u001b[1;32m    788\u001b[0m \u001b[43m    \u001b[49m\u001b[43mconn\u001b[49m\u001b[43m,\u001b[49m\n\u001b[1;32m    789\u001b[0m \u001b[43m    \u001b[49m\u001b[43mmethod\u001b[49m\u001b[43m,\u001b[49m\n\u001b[1;32m    790\u001b[0m \u001b[43m    \u001b[49m\u001b[43murl\u001b[49m\u001b[43m,\u001b[49m\n\u001b[1;32m    791\u001b[0m \u001b[43m    \u001b[49m\u001b[43mtimeout\u001b[49m\u001b[38;5;241;43m=\u001b[39;49m\u001b[43mtimeout_obj\u001b[49m\u001b[43m,\u001b[49m\n\u001b[1;32m    792\u001b[0m \u001b[43m    \u001b[49m\u001b[43mbody\u001b[49m\u001b[38;5;241;43m=\u001b[39;49m\u001b[43mbody\u001b[49m\u001b[43m,\u001b[49m\n\u001b[1;32m    793\u001b[0m \u001b[43m    \u001b[49m\u001b[43mheaders\u001b[49m\u001b[38;5;241;43m=\u001b[39;49m\u001b[43mheaders\u001b[49m\u001b[43m,\u001b[49m\n\u001b[1;32m    794\u001b[0m \u001b[43m    \u001b[49m\u001b[43mchunked\u001b[49m\u001b[38;5;241;43m=\u001b[39;49m\u001b[43mchunked\u001b[49m\u001b[43m,\u001b[49m\n\u001b[1;32m    795\u001b[0m \u001b[43m    \u001b[49m\u001b[43mretries\u001b[49m\u001b[38;5;241;43m=\u001b[39;49m\u001b[43mretries\u001b[49m\u001b[43m,\u001b[49m\n\u001b[1;32m    796\u001b[0m \u001b[43m    \u001b[49m\u001b[43mresponse_conn\u001b[49m\u001b[38;5;241;43m=\u001b[39;49m\u001b[43mresponse_conn\u001b[49m\u001b[43m,\u001b[49m\n\u001b[1;32m    797\u001b[0m \u001b[43m    \u001b[49m\u001b[43mpreload_content\u001b[49m\u001b[38;5;241;43m=\u001b[39;49m\u001b[43mpreload_content\u001b[49m\u001b[43m,\u001b[49m\n\u001b[1;32m    798\u001b[0m \u001b[43m    \u001b[49m\u001b[43mdecode_content\u001b[49m\u001b[38;5;241;43m=\u001b[39;49m\u001b[43mdecode_content\u001b[49m\u001b[43m,\u001b[49m\n\u001b[1;32m    799\u001b[0m \u001b[43m    \u001b[49m\u001b[38;5;241;43m*\u001b[39;49m\u001b[38;5;241;43m*\u001b[39;49m\u001b[43mresponse_kw\u001b[49m\u001b[43m,\u001b[49m\n\u001b[1;32m    800\u001b[0m \u001b[43m\u001b[49m\u001b[43m)\u001b[49m\n\u001b[1;32m    802\u001b[0m \u001b[38;5;66;03m# Everything went great!\u001b[39;00m\n\u001b[1;32m    803\u001b[0m clean_exit \u001b[38;5;241m=\u001b[39m \u001b[38;5;28;01mTrue\u001b[39;00m\n",
      "File \u001b[0;32m~/projects/omix3schemadev/.venv/lib/python3.9/site-packages/urllib3/connectionpool.py:534\u001b[0m, in \u001b[0;36mHTTPConnectionPool._make_request\u001b[0;34m(self, conn, method, url, body, headers, retries, timeout, chunked, response_conn, preload_content, decode_content, enforce_content_length)\u001b[0m\n\u001b[1;32m    532\u001b[0m \u001b[38;5;66;03m# Receive the response from the server\u001b[39;00m\n\u001b[1;32m    533\u001b[0m \u001b[38;5;28;01mtry\u001b[39;00m:\n\u001b[0;32m--> 534\u001b[0m     response \u001b[38;5;241m=\u001b[39m \u001b[43mconn\u001b[49m\u001b[38;5;241;43m.\u001b[39;49m\u001b[43mgetresponse\u001b[49m\u001b[43m(\u001b[49m\u001b[43m)\u001b[49m\n\u001b[1;32m    535\u001b[0m \u001b[38;5;28;01mexcept\u001b[39;00m (BaseSSLError, \u001b[38;5;167;01mOSError\u001b[39;00m) \u001b[38;5;28;01mas\u001b[39;00m e:\n\u001b[1;32m    536\u001b[0m     \u001b[38;5;28mself\u001b[39m\u001b[38;5;241m.\u001b[39m_raise_timeout(err\u001b[38;5;241m=\u001b[39me, url\u001b[38;5;241m=\u001b[39murl, timeout_value\u001b[38;5;241m=\u001b[39mread_timeout)\n",
      "File \u001b[0;32m~/projects/omix3schemadev/.venv/lib/python3.9/site-packages/urllib3/connection.py:565\u001b[0m, in \u001b[0;36mHTTPConnection.getresponse\u001b[0;34m(self)\u001b[0m\n\u001b[1;32m    562\u001b[0m _shutdown \u001b[38;5;241m=\u001b[39m \u001b[38;5;28mgetattr\u001b[39m(\u001b[38;5;28mself\u001b[39m\u001b[38;5;241m.\u001b[39msock, \u001b[38;5;124m\"\u001b[39m\u001b[38;5;124mshutdown\u001b[39m\u001b[38;5;124m\"\u001b[39m, \u001b[38;5;28;01mNone\u001b[39;00m)\n\u001b[1;32m    564\u001b[0m \u001b[38;5;66;03m# Get the response from http.client.HTTPConnection\u001b[39;00m\n\u001b[0;32m--> 565\u001b[0m httplib_response \u001b[38;5;241m=\u001b[39m \u001b[38;5;28;43msuper\u001b[39;49m\u001b[43m(\u001b[49m\u001b[43m)\u001b[49m\u001b[38;5;241;43m.\u001b[39;49m\u001b[43mgetresponse\u001b[49m\u001b[43m(\u001b[49m\u001b[43m)\u001b[49m\n\u001b[1;32m    567\u001b[0m \u001b[38;5;28;01mtry\u001b[39;00m:\n\u001b[1;32m    568\u001b[0m     assert_header_parsing(httplib_response\u001b[38;5;241m.\u001b[39mmsg)\n",
      "File \u001b[0;32m~/.pyenv/versions/3.9.5/lib/python3.9/http/client.py:1345\u001b[0m, in \u001b[0;36mHTTPConnection.getresponse\u001b[0;34m(self)\u001b[0m\n\u001b[1;32m   1343\u001b[0m \u001b[38;5;28;01mtry\u001b[39;00m:\n\u001b[1;32m   1344\u001b[0m     \u001b[38;5;28;01mtry\u001b[39;00m:\n\u001b[0;32m-> 1345\u001b[0m         \u001b[43mresponse\u001b[49m\u001b[38;5;241;43m.\u001b[39;49m\u001b[43mbegin\u001b[49m\u001b[43m(\u001b[49m\u001b[43m)\u001b[49m\n\u001b[1;32m   1346\u001b[0m     \u001b[38;5;28;01mexcept\u001b[39;00m \u001b[38;5;167;01mConnectionError\u001b[39;00m:\n\u001b[1;32m   1347\u001b[0m         \u001b[38;5;28mself\u001b[39m\u001b[38;5;241m.\u001b[39mclose()\n",
      "File \u001b[0;32m~/.pyenv/versions/3.9.5/lib/python3.9/http/client.py:307\u001b[0m, in \u001b[0;36mHTTPResponse.begin\u001b[0;34m(self)\u001b[0m\n\u001b[1;32m    305\u001b[0m \u001b[38;5;66;03m# read until we get a non-100 response\u001b[39;00m\n\u001b[1;32m    306\u001b[0m \u001b[38;5;28;01mwhile\u001b[39;00m \u001b[38;5;28;01mTrue\u001b[39;00m:\n\u001b[0;32m--> 307\u001b[0m     version, status, reason \u001b[38;5;241m=\u001b[39m \u001b[38;5;28;43mself\u001b[39;49m\u001b[38;5;241;43m.\u001b[39;49m\u001b[43m_read_status\u001b[49m\u001b[43m(\u001b[49m\u001b[43m)\u001b[49m\n\u001b[1;32m    308\u001b[0m     \u001b[38;5;28;01mif\u001b[39;00m status \u001b[38;5;241m!=\u001b[39m CONTINUE:\n\u001b[1;32m    309\u001b[0m         \u001b[38;5;28;01mbreak\u001b[39;00m\n",
      "File \u001b[0;32m~/.pyenv/versions/3.9.5/lib/python3.9/http/client.py:268\u001b[0m, in \u001b[0;36mHTTPResponse._read_status\u001b[0;34m(self)\u001b[0m\n\u001b[1;32m    267\u001b[0m \u001b[38;5;28;01mdef\u001b[39;00m\u001b[38;5;250m \u001b[39m\u001b[38;5;21m_read_status\u001b[39m(\u001b[38;5;28mself\u001b[39m):\n\u001b[0;32m--> 268\u001b[0m     line \u001b[38;5;241m=\u001b[39m \u001b[38;5;28mstr\u001b[39m(\u001b[38;5;28;43mself\u001b[39;49m\u001b[38;5;241;43m.\u001b[39;49m\u001b[43mfp\u001b[49m\u001b[38;5;241;43m.\u001b[39;49m\u001b[43mreadline\u001b[49m\u001b[43m(\u001b[49m\u001b[43m_MAXLINE\u001b[49m\u001b[43m \u001b[49m\u001b[38;5;241;43m+\u001b[39;49m\u001b[43m \u001b[49m\u001b[38;5;241;43m1\u001b[39;49m\u001b[43m)\u001b[49m, \u001b[38;5;124m\"\u001b[39m\u001b[38;5;124miso-8859-1\u001b[39m\u001b[38;5;124m\"\u001b[39m)\n\u001b[1;32m    269\u001b[0m     \u001b[38;5;28;01mif\u001b[39;00m \u001b[38;5;28mlen\u001b[39m(line) \u001b[38;5;241m>\u001b[39m _MAXLINE:\n\u001b[1;32m    270\u001b[0m         \u001b[38;5;28;01mraise\u001b[39;00m LineTooLong(\u001b[38;5;124m\"\u001b[39m\u001b[38;5;124mstatus line\u001b[39m\u001b[38;5;124m\"\u001b[39m)\n",
      "File \u001b[0;32m~/.pyenv/versions/3.9.5/lib/python3.9/socket.py:704\u001b[0m, in \u001b[0;36mSocketIO.readinto\u001b[0;34m(self, b)\u001b[0m\n\u001b[1;32m    702\u001b[0m \u001b[38;5;28;01mwhile\u001b[39;00m \u001b[38;5;28;01mTrue\u001b[39;00m:\n\u001b[1;32m    703\u001b[0m     \u001b[38;5;28;01mtry\u001b[39;00m:\n\u001b[0;32m--> 704\u001b[0m         \u001b[38;5;28;01mreturn\u001b[39;00m \u001b[38;5;28;43mself\u001b[39;49m\u001b[38;5;241;43m.\u001b[39;49m\u001b[43m_sock\u001b[49m\u001b[38;5;241;43m.\u001b[39;49m\u001b[43mrecv_into\u001b[49m\u001b[43m(\u001b[49m\u001b[43mb\u001b[49m\u001b[43m)\u001b[49m\n\u001b[1;32m    705\u001b[0m     \u001b[38;5;28;01mexcept\u001b[39;00m timeout:\n\u001b[1;32m    706\u001b[0m         \u001b[38;5;28mself\u001b[39m\u001b[38;5;241m.\u001b[39m_timeout_occurred \u001b[38;5;241m=\u001b[39m \u001b[38;5;28;01mTrue\u001b[39;00m\n",
      "File \u001b[0;32m~/.pyenv/versions/3.9.5/lib/python3.9/ssl.py:1241\u001b[0m, in \u001b[0;36mSSLSocket.recv_into\u001b[0;34m(self, buffer, nbytes, flags)\u001b[0m\n\u001b[1;32m   1237\u001b[0m     \u001b[38;5;28;01mif\u001b[39;00m flags \u001b[38;5;241m!=\u001b[39m \u001b[38;5;241m0\u001b[39m:\n\u001b[1;32m   1238\u001b[0m         \u001b[38;5;28;01mraise\u001b[39;00m \u001b[38;5;167;01mValueError\u001b[39;00m(\n\u001b[1;32m   1239\u001b[0m           \u001b[38;5;124m\"\u001b[39m\u001b[38;5;124mnon-zero flags not allowed in calls to recv_into() on \u001b[39m\u001b[38;5;132;01m%s\u001b[39;00m\u001b[38;5;124m\"\u001b[39m \u001b[38;5;241m%\u001b[39m\n\u001b[1;32m   1240\u001b[0m           \u001b[38;5;28mself\u001b[39m\u001b[38;5;241m.\u001b[39m\u001b[38;5;18m__class__\u001b[39m)\n\u001b[0;32m-> 1241\u001b[0m     \u001b[38;5;28;01mreturn\u001b[39;00m \u001b[38;5;28;43mself\u001b[39;49m\u001b[38;5;241;43m.\u001b[39;49m\u001b[43mread\u001b[49m\u001b[43m(\u001b[49m\u001b[43mnbytes\u001b[49m\u001b[43m,\u001b[49m\u001b[43m \u001b[49m\u001b[43mbuffer\u001b[49m\u001b[43m)\u001b[49m\n\u001b[1;32m   1242\u001b[0m \u001b[38;5;28;01melse\u001b[39;00m:\n\u001b[1;32m   1243\u001b[0m     \u001b[38;5;28;01mreturn\u001b[39;00m \u001b[38;5;28msuper\u001b[39m()\u001b[38;5;241m.\u001b[39mrecv_into(buffer, nbytes, flags)\n",
      "File \u001b[0;32m~/.pyenv/versions/3.9.5/lib/python3.9/ssl.py:1099\u001b[0m, in \u001b[0;36mSSLSocket.read\u001b[0;34m(self, len, buffer)\u001b[0m\n\u001b[1;32m   1097\u001b[0m \u001b[38;5;28;01mtry\u001b[39;00m:\n\u001b[1;32m   1098\u001b[0m     \u001b[38;5;28;01mif\u001b[39;00m buffer \u001b[38;5;129;01mis\u001b[39;00m \u001b[38;5;129;01mnot\u001b[39;00m \u001b[38;5;28;01mNone\u001b[39;00m:\n\u001b[0;32m-> 1099\u001b[0m         \u001b[38;5;28;01mreturn\u001b[39;00m \u001b[38;5;28;43mself\u001b[39;49m\u001b[38;5;241;43m.\u001b[39;49m\u001b[43m_sslobj\u001b[49m\u001b[38;5;241;43m.\u001b[39;49m\u001b[43mread\u001b[49m\u001b[43m(\u001b[49m\u001b[38;5;28;43mlen\u001b[39;49m\u001b[43m,\u001b[49m\u001b[43m \u001b[49m\u001b[43mbuffer\u001b[49m\u001b[43m)\u001b[49m\n\u001b[1;32m   1100\u001b[0m     \u001b[38;5;28;01melse\u001b[39;00m:\n\u001b[1;32m   1101\u001b[0m         \u001b[38;5;28;01mreturn\u001b[39;00m \u001b[38;5;28mself\u001b[39m\u001b[38;5;241m.\u001b[39m_sslobj\u001b[38;5;241m.\u001b[39mread(\u001b[38;5;28mlen\u001b[39m)\n",
      "\u001b[0;31mKeyboardInterrupt\u001b[0m: "
     ]
    }
   ],
   "source": [
    "base_dir = 'output/synthetic_data/transformed'\n",
    "api_endpoint = 'https://omix3.test.biocommons.org.au/api/v0/'\n",
    "credentials = '/Users/harrijh/keys/omix3_api_key_test.json'\n",
    "\n",
    "for project_id in project_list_custom:\n",
    "    gen3schemadev.gen3datasubmitter.submit_metadata(base_dir, project_id, api_endpoint, credentials, dry_run=False, max_submission_size_kb=50, retries=6, disable_input=True)\n",
    "\n",
    "# project_id = project_list_custom[1]\n",
    "# gen3schemadev.gen3datasubmitter.submit_metadata(base_dir, project_id, api_endpoint, credentials, dry_run=False, max_submission_size_kb=50, retries=5, exclude_nodes=[\"program\", \"project\"])"
   ]
  },
  {
   "cell_type": "code",
   "execution_count": null,
   "metadata": {},
   "outputs": [],
   "source": [
    "# base_dir = 'output/synthetic_data/transformed'\n",
    "# api_endpoint = 'https://data.test.biocommons.org.au/api/v0/'\n",
    "# credentials = '/Users/harrijh/keys/omix3_api_key_test.json'\n",
    "\n",
    "# project_id = 'AusDiab_Simulated'\n",
    "# gen3schemadev.gen3datasubmitter.submit_metadata(base_dir, project_id, api_endpoint, credentials, dry_run=False)"
   ]
  },
  {
   "cell_type": "code",
   "execution_count": null,
   "metadata": {},
   "outputs": [],
   "source": [
    "import json\n",
    "import sys\n",
    "\n",
    "def split_json_objects(json_list, max_size_kb=400, print_results=False):\n",
    "    def get_size_in_kb(obj):\n",
    "        return sys.getsizeof(json.dumps(obj)) / 1024\n",
    "\n",
    "    def split_list(json_list):\n",
    "        if get_size_in_kb(json_list) <= max_size_kb:\n",
    "            return [json_list]\n",
    "        \n",
    "        mid = len(json_list) // 2\n",
    "        left_list = json_list[:mid]\n",
    "        right_list = json_list[mid:]\n",
    "        \n",
    "        return split_list(left_list) + split_list(right_list)\n",
    "\n",
    "    split_lists = split_list(json_list)\n",
    "    \n",
    "    if print_results:\n",
    "        for i, lst in enumerate(split_lists):\n",
    "            print(f\"List {i+1} size: {get_size_in_kb(lst):.2f} KB, contains {len(lst)} objects\")\n",
    "    \n",
    "    return split_lists\n",
    "\n",
    "# Example usage\n",
    "json_objects = [\n",
    "    {\"id\": i, \"data\": \"x\" * 60000} for i in range(10)  # Example JSON objects\n",
    "]\n",
    "\n",
    "split_json_lists = split_json_objects(json_objects, print_results=True)"
   ]
  }
 ],
 "metadata": {
  "kernelspec": {
   "display_name": ".venv",
   "language": "python",
   "name": "python3"
  },
  "language_info": {
   "codemirror_mode": {
    "name": "ipython",
    "version": 3
   },
   "file_extension": ".py",
   "mimetype": "text/x-python",
   "name": "python",
   "nbconvert_exporter": "python",
   "pygments_lexer": "ipython3",
   "version": "3.9.5"
  }
 },
 "nbformat": 4,
 "nbformat_minor": 2
}
