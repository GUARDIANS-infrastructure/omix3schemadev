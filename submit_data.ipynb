{
 "cells": [
  {
   "cell_type": "markdown",
   "metadata": {},
   "source": [
    "# Loading Libraries"
   ]
  },
  {
   "cell_type": "code",
   "execution_count": 1,
   "metadata": {},
   "outputs": [],
   "source": [
    "import gen3schemadev"
   ]
  },
  {
   "cell_type": "markdown",
   "metadata": {},
   "source": [
    "# Defining project list"
   ]
  },
  {
   "cell_type": "code",
   "execution_count": 2,
   "metadata": {},
   "outputs": [
    {
     "data": {
      "text/plain": [
       "['BioHeart-CT_Simulated',\n",
       " 'AusDiab_Simulated',\n",
       " 'PREDICT_Simulated',\n",
       " 'EDCAD-PMS_Simulated',\n",
       " 'Baker-Biobank_Simulated',\n",
       " 'CAUGHT-CAD_Simulated']"
      ]
     },
     "execution_count": 2,
     "metadata": {},
     "output_type": "execute_result"
    }
   ],
   "source": [
    "project_list = ['BioHeart-CT_Simulated', 'AusDiab_Simulated', 'PREDICT_Simulated', 'EDCAD-PMS_Simulated', 'Baker-Biobank_Simulated', 'CAUGHT-CAD_Simulated']\n",
    "exclude = ['']\n",
    "project_list_custom = [node for node in project_list if not node in exclude]\n",
    "project_list_custom"
   ]
  },
  {
   "cell_type": "markdown",
   "metadata": {},
   "source": [
    "# Deleting Metadata"
   ]
  },
  {
   "cell_type": "code",
   "execution_count": 16,
   "metadata": {},
   "outputs": [],
   "source": [
    "from acdctools import aws\n",
    "import os\n",
    "import json\n",
    "\n",
    "key = aws.get_secret('acdc_api_key_test.json')\n",
    "key = json.dumps(key)\n",
    "key_dir = \"/Users/harrijh/keys/\"\n",
    "os.makedirs(key_dir, exist_ok=True)\n",
    "with open(f\"{key_dir}/acdc_api_key_test.json\", 'w') as file:\n",
    "    file.write(key)"
   ]
  },
  {
   "cell_type": "code",
   "execution_count": null,
   "metadata": {},
   "outputs": [],
   "source": [
    "import_order_file = 'config/DataImportOrder.txt'\n",
    "api_endpoint = 'https://data.test.biocommons.org.au/api/v0/'\n",
    "credentials = '/Users/harrijh/keys/acdc_api_key_test.json'\n",
    "\n",
    "for project_id in project_list_custom:\n",
    "    gen3schemadev.gen3datasubmitter.delete_metadata(import_order_file, project_id, api_endpoint, credentials, prompt_for_confirmation=False, exclude_nodes = [ \"program\", \"project\"])\n",
    "    \n",
    "# project_id = project_list_custom[0]\n",
    "# gen3schemadev.gen3datasubmitter.delete_metadata(import_order_file, project_id, api_endpoint, credentials)"
   ]
  },
  {
   "cell_type": "markdown",
   "metadata": {},
   "source": [
    "# Deleting Projects"
   ]
  },
  {
   "cell_type": "code",
   "execution_count": null,
   "metadata": {},
   "outputs": [],
   "source": [
    "# from gen3.auth import Gen3Auth\n",
    "# from gen3.submission import Gen3Submission\n",
    "\n",
    "# credentials = '/Users/harrijh/keys/acdc_api_key_test.json'\n",
    "# auth = Gen3Auth(refresh_file=credentials)\n",
    "# sub = Gen3Submission(auth)\n",
    "\n",
    "\n",
    "# projects = ['BioHeart-CT_Simulated',\n",
    "#  'AusDiab_Simulated',\n",
    "#  'PREDICT_Simulated',\n",
    "#  'EDCAD-PMS_Simulated',\n",
    "#  'Baker-Biobank_Simulated',3\n",
    "#  'CAUGHT-CAD_Simulated']\n",
    "\n",
    "# for project in projects:\n",
    "#     print(f\"Deleting project: {project}\")\n",
    "#     sub.delete_project('program1', project)"
   ]
  },
  {
   "cell_type": "code",
   "execution_count": null,
   "metadata": {
    "vscode": {
     "languageId": "shellscript"
    }
   },
   "outputs": [],
   "source": [
    "# # deleting with shell, copy to terminal \n",
    "# cd /Users/harrijh/projects/ACDCSchemaDev\n",
    "# bash shell/delete_metadata.sh -i output/synthetic_data/transformed/AusDiab_Simulated/DataImportOrder.txt -e https://data.test.biocommons.org.au/api/v0/ -c /Users/harrijh/keys/acdc_api_key_test.json -p 'PREDICT_Simulated'"
   ]
  },
  {
   "cell_type": "code",
   "execution_count": null,
   "metadata": {},
   "outputs": [],
   "source": [
    "project_list_custom"
   ]
  },
  {
   "cell_type": "markdown",
   "metadata": {},
   "source": [
    "need to change base_dir argument to dataimportorder.txt path"
   ]
  },
  {
   "cell_type": "markdown",
   "metadata": {},
   "source": [
    "# Configuring gen3-client"
   ]
  },
  {
   "cell_type": "code",
   "execution_count": null,
   "metadata": {
    "vscode": {
     "languageId": "shellscript"
    }
   },
   "outputs": [],
   "source": [
    "# use version 1.2.1\n",
    "!gen3-client --version"
   ]
  },
  {
   "cell_type": "code",
   "execution_count": null,
   "metadata": {
    "vscode": {
     "languageId": "shellscript"
    }
   },
   "outputs": [],
   "source": [
    "# Generating config files\n",
    "!gen3-client configure --profile=BioHeart-CT_Simulated --cred='/Users/harrijh/keys/acdc_api_key_test.json' --apiendpoint='https://data.test.biocommons.org.au/api/v0/submission/program1/AusDiab/'\n",
    "!gen3-client configure --profile=AusDiab_Simulated --cred='/Users/harrijh/keys/acdc_api_key_test.json' --apiendpoint='https://data.test.biocommons.org.au/api/v0/submission/program1/AusDiab_Simulated/'\n",
    "!gen3-client configure --profile=PREDICT_Simulated --cred='/Users/harrijh/keys/acdc_api_key_test.json' --apiendpoint='https://data.test.biocommons.org.au/api/v0/submission/program1/PREDICT_Simulated/'\n",
    "!gen3-client configure --profile=EDCAD-PMS_Simulated --cred='/Users/harrijh/keys/acdc_api_key_test.json' --apiendpoint='https://data.test.biocommons.org.au/api/v0/submission/program1/EDCAD-PMS_Simulated/'\n",
    "!gen3-client configure --profile=Baker-Biobank_Simulated --cred='/Users/harrijh/keys/acdc_api_key_test.json' --apiendpoint='https://data.test.biocommons.org.au/api/v0/submission/program1/Baker-Biobank_Simulated/'\n",
    "!gen3-client configure --profile=CAUGHT-CAD_Simulated --cred='/Users/harrijh/keys/acdc_api_key_test.json' --apiendpoint='https://data.test.biocommons.org.au/api/v0/submission/program1/CAUGHT-CAD_Simulated/'\n",
    "\n",
    "!gen3-client configure --profile=dummy --cred='/Users/harrijh/keys/acdc_api_key_test.json' --apiendpoint='https://data.test.biocommons.org.au/api/v0/submission/program1/'"
   ]
  },
  {
   "cell_type": "code",
   "execution_count": null,
   "metadata": {
    "vscode": {
     "languageId": "shellscript"
    }
   },
   "outputs": [],
   "source": [
    "# Config file is here\n",
    "!ls /Users/harrijh/.gen3/gen3_client_config.ini"
   ]
  },
  {
   "cell_type": "code",
   "execution_count": null,
   "metadata": {
    "vscode": {
     "languageId": "shellscript"
    }
   },
   "outputs": [],
   "source": [
    "# Checking privileges\n",
    "!gen3-client auth --profile=dummy"
   ]
  },
  {
   "cell_type": "code",
   "execution_count": null,
   "metadata": {
    "vscode": {
     "languageId": "shellscript"
    }
   },
   "outputs": [],
   "source": [
    "# Checking current logs\n",
    "!ls /Users/harrijh/.gen3/logs/*"
   ]
  },
  {
   "cell_type": "code",
   "execution_count": null,
   "metadata": {
    "vscode": {
     "languageId": "shellscript"
    }
   },
   "outputs": [],
   "source": [
    "# Clearing gen3-client logs\n",
    "# !rm -r /Users/harrijh/.gen3/logs/*"
   ]
  },
  {
   "cell_type": "markdown",
   "metadata": {},
   "source": [
    "# Creating manifest for gen3-client\n",
    "- reads dummy files and creates a json manifest for the gen3-client"
   ]
  },
  {
   "cell_type": "code",
   "execution_count": null,
   "metadata": {},
   "outputs": [],
   "source": [
    "# # Creating manifests by project\n",
    "# folder_path = '/Users/harrijh/projects/ACDCSchemaDev/output/synthetic_data/files/'\n",
    "# output_manifest_path = '/Users/harrijh/projects/ACDCSchemaDev/output/synthetic_data/manifests/'\n",
    "# for project_id in project_list:\n",
    "#     gen3schemadev.gen3datasubmitter.create_manifest_from_folder(folder_path, project_id, output_manifest_path)"
   ]
  },
  {
   "cell_type": "code",
   "execution_count": 3,
   "metadata": {},
   "outputs": [
    {
     "data": {
      "text/plain": [
       "'Manifest file created at: /Users/harrijh/projects/ACDCSchemaDev/output/synthetic_data/manifests//20250623_manifest.json'"
      ]
     },
     "execution_count": 3,
     "metadata": {},
     "output_type": "execute_result"
    }
   ],
   "source": [
    "# Creating manifest for dummy files\n",
    "folder_path = '/Users/harrijh/projects/ACDCSchemaDev/gen3schemadev/file_type_templates'\n",
    "output_manifest_path = '/Users/harrijh/projects/ACDCSchemaDev/output/synthetic_data/manifests/'\n",
    "\n",
    "gen3schemadev.gen3synthdata.create_manifest_from_folder(folder_path=folder_path, \n",
    "                                                            output_path=output_manifest_path, \n",
    "                                                            exclude_extension=['.md', '.py', '.yaml', '.json','.DS_Store'])"
   ]
  },
  {
   "cell_type": "markdown",
   "metadata": {},
   "source": [
    "# Uploading Dummy Files to S3\n",
    "- Reads in manifest file created above\n",
    "- As of `v1.2.1` gen3-client re-assigns new guids to indexd rather than reading the ones in the manifest file. Luckly these newly assigned guids are stored in a log file which is used in later functions."
   ]
  },
  {
   "cell_type": "code",
   "execution_count": 4,
   "metadata": {
    "vscode": {
     "languageId": "shellscript"
    }
   },
   "outputs": [],
   "source": [
    "# Clearing gen3-client logs\n",
    "!rm -r /Users/harrijh/.gen3/logs/*"
   ]
  },
  {
   "cell_type": "code",
   "execution_count": null,
   "metadata": {
    "vscode": {
     "languageId": "shellscript"
    }
   },
   "outputs": [],
   "source": [
    "# !gen3-client upload-multiple --profile=AusDiab_Simulated --manifest=/Users/harrijh/projects/ACDCSchemaDev/output/synthetic_data/manifests/20240809_AusDiab_Simulated_manifest.json --upload-path=/Users/harrijh/projects/ACDCSchemaDev/output/synthetic_data/files/AusDiab_Simulated/ --numparallel=8\n",
    "\n",
    "# !gen3-client upload-multiple --profile=BioHeart-CT_Simulated --manifest=/Users/harrijh/projects/ACDCSchemaDev/output/synthetic_data/manifests/20240809_BioHeart-CT_Simulated_manifest.json --upload-path=/Users/harrijh/projects/ACDCSchemaDev/output/synthetic_data/files/BioHeart-CT_Simulated/ --numparallel=8\n",
    "\n",
    "# !gen3-client upload-multiple --profile=PREDICT_Simulated --manifest=/Users/harrijh/projects/ACDCSchemaDev/output/synthetic_data/manifests/20240809_PREDICT_Simulated_manifest.json --upload-path=/Users/harrijh/projects/ACDCSchemaDev/output/synthetic_data/files/PREDICT_Simulated/ --numparallel=8\n",
    "\n",
    "# !gen3-client upload-multiple --profile=EDCAD-PMS_Simulated --manifest=/Users/harrijh/projects/ACDCSchemaDev/output/synthetic_data/manifests/20240809_EDCAD-PMS_Simulated_manifest.json --upload-path=/Users/harrijh/projects/ACDCSchemaDev/output/synthetic_data/files/EDCAD-PMS_Simulated/ --numparallel=8\n",
    "\n",
    "# !gen3-client upload-multiple --profile=Baker-Biobank_Simulated --manifest=/Users/harrijh/projects/ACDCSchemaDev/output/synthetic_data/manifests/20240809_Baker-Biobank_Simulated_manifest.json --upload-path=/Users/harrijh/projects/ACDCSchemaDev/output/synthetic_data/files/Baker-Biobank_Simulated/ --numparallel=8\n",
    "\n",
    "# !gen3-client upload-multiple --profile=CAUGHT-CAD_Simulated --manifest=/Users/harrijh/projects/ACDCSchemaDev/output/synthetic_data/manifests/20240809_CAUGHT-CAD_Simulated_manifest.json --upload-path=/Users/harrijh/projects/ACDCSchemaDev/output/synthetic_data/files/CAUGHT-CAD_Simulated/ --numparallel=8\n"
   ]
  },
  {
   "cell_type": "code",
   "execution_count": 5,
   "metadata": {
    "vscode": {
     "languageId": "shellscript"
    }
   },
   "outputs": [
    {
     "name": "stdout",
     "output_type": "stream",
     "text": [
      "2025/06/23 17:12:54 A new version of gen3-client is available! The latest version is 2025.7.0. You are using version 2025.02\n",
      "2025/06/23 17:12:54 Please download the latest gen3-client release from https://github.com/uc-cdis/cdis-data-client/releases/latest\n",
      "Notice: this is the upload method which requires the user to provide GUIDs. In this method files will be uploaded to specified GUIDs.\n",
      "If your intention is to upload files without pre-existing GUIDs, consider to use \"./gen3-client upload\" instead.\n",
      "\n",
      "dummy_serum.csv  742 B / 742 B [=======================================] 100.00%\n",
      "dummy_prot.mgf  32 B / 32 B [==========================================] 100.00%\n",
      "dummy_lipids.tsv  45.57 KiB / 45.57 KiB [==============================] 100.00%\n",
      "dummy_bami.bam.bai  107.51 KiB / 107.51 KiB [==========================] 100.00%\n",
      "dummy_varbed.bed  1.48 KiB / 1.48 KiB [================================] 100.00%\n",
      "dummy_cram.cram  219.52 KiB / 219.52 KiB [=============================] 100.00%\n",
      "dummy_image.dcm  288.00 KiB / 1.39 MiB [======>------------------------]  20.29%\n",
      "dummy_clinical.csv  5.25 KiB / 5.25 KiB [==============================] 100.00%\n",
      "dummy_serum.csv  742 B / 742 B [=======================================] 100.00%\n",
      "dummy_prot.mgf  32 B / 32 B [==========================================] 100.00%\n",
      "dummy_lipids.tsv  45.57 KiB / 45.57 KiB [==============================] 100.00%\n",
      "dummy_bami.bam.bai  107.51 KiB / 107.51 KiB [==========================] 100.00%\n",
      "dummy_varbed.bed  1.48 KiB / 1.48 KiB [================================] 100.00%\n",
      "dummy_cram.cram  219.52 KiB / 219.52 KiB [=============================] 100.00%\n",
      "dummy_image.dcm  832.00 KiB / 1.39 MiB [==================>------------]  58.61%\n",
      "dummy_clinical.csv  5.25 KiB / 5.25 KiB [==============================] 100.00%\n",
      "dummy_serum.csv  742 B / 742 B [=======================================] 100.00%\n",
      "dummy_prot.mgf  32 B / 32 B [==========================================] 100.00%\n",
      "dummy_lipids.tsv  45.57 KiB / 45.57 KiB [==============================] 100.00%\n",
      "dummy_bami.bam.bai  107.51 KiB / 107.51 KiB [==========================] 100.00%\n",
      "dummy_varbed.bed  1.48 KiB / 1.48 KiB [================================] 100.00%\n",
      "dummy_cram.cram  219.52 KiB / 219.52 KiB [=============================] 100.00%\n",
      "dummy_image.dcm  1.28 MiB / 1.39 MiB [==============================>--]  92.43%\n",
      "dummy_clinical.csv  5.25 KiB / 5.25 KiB [==============================] 100.00%\n",
      "dummy_serum.csv  742 B / 742 B [=======================================] 100.00%\n",
      "dummy_prot.mgf  32 B / 32 B [==========================================] 100.00%\n",
      "dummy_lipids.tsv  45.57 KiB / 45.57 KiB [==============================] 100.00%\n",
      "dummy_bami.bam.bai  107.51 KiB / 107.51 KiB [==========================] 100.00%\n",
      "dummy_varbed.bed  1.48 KiB / 1.48 KiB [================================] 100.00%\n",
      "dummy_cram.cram  219.52 KiB / 219.52 KiB [=============================] 100.00%\n",
      "dummy_image.dcm  1.39 MiB / 1.39 MiB [=================================] 100.00%\n",
      "dummy_clinical.csv  5.25 KiB / 5.25 KiB [==============================] 100.00%\n",
      "dummy_lipids.txt  45.57 KiB / 45.57 KiB [==============================] 100.00%\n",
      "dummy_fastq.fastq.gz  149 B / 149 B [==================================] 100.00%\n",
      "dummy_crami.cram.crai  2.54 KiB / 2.54 KiB [===========================] 100.00%\n",
      "dummy_vcf.vcf.gz  755 B / 755 B [======================================] 100.00%\n",
      "dummy_vcf.vcf  755 B / 755 B [=========================================] 100.00%\n",
      "dummy_crami.crai  2.54 KiB / 2.54 KiB [================================] 100.00%\n",
      "dummy_serum.txt  742 B / 742 B [=======================================] 100.00%\n",
      "dummy_image.nii  1.39 MiB / 1.39 MiB [=================================] 100.00%\n",
      "dummy_lipids.txt  45.57 KiB / 45.57 KiB [==============================] 100.00%\n",
      "dummy_fastq.fastq.gz  149 B / 149 B [==================================] 100.00%\n",
      "dummy_crami.cram.crai  2.54 KiB / 2.54 KiB [===========================] 100.00%\n",
      "dummy_vcf.vcf.gz  755 B / 755 B [======================================] 100.00%\n",
      "dummy_vcf.vcf  755 B / 755 B [=========================================] 100.00%\n",
      "dummy_crami.crai  2.54 KiB / 2.54 KiB [================================] 100.00%\n",
      "dummy_serum.txt  742 B / 742 B [=======================================] 100.00%\n",
      "dummy_image.nii  1.39 MiB / 1.39 MiB [=================================] 100.00%\n",
      "dummy_lipids.txt  45.57 KiB / 45.57 KiB [==============================] 100.00%\n",
      "dummy_fastq.fastq.gz  149 B / 149 B [==================================] 100.00%\n",
      "dummy_crami.cram.crai  2.54 KiB / 2.54 KiB [===========================] 100.00%\n",
      "dummy_vcf.vcf.gz  755 B / 755 B [======================================] 100.00%\n",
      "dummy_vcf.vcf  755 B / 755 B [=========================================] 100.00%\n",
      "dummy_crami.crai  2.54 KiB / 2.54 KiB [================================] 100.00%\n",
      "dummy_serum.txt  742 B / 742 B [=======================================] 100.00%\n",
      "dummy_image.nii  1.39 MiB / 1.39 MiB [=================================] 100.00%\n",
      "dummy_clinical.tsv  5.25 KiB / 5.25 KiB [==============================] 100.00%\n",
      "dummy_metab.wiff  64 B / 64 B [========================================] 100.00%\n",
      "dummy_bami.bai  107.51 KiB / 107.51 KiB [==============================] 100.00%\n",
      "dummy_clinical.txt  5.25 KiB / 5.25 KiB [==============================] 100.00%\n",
      "dummy_lipids.csv  45.57 KiB / 45.57 KiB [==============================] 100.00%\n",
      "dummy_bam.bam  219.54 KiB / 219.54 KiB [===============================] 100.00%\n",
      "dummy_serum.tsv  742 B / 742 B [=======================================] 100.00%\n",
      "dummy_clinical.tsv  5.25 KiB / 5.25 KiB [==============================] 100.00%\n",
      "dummy_metab.wiff  64 B / 64 B [========================================] 100.00%\n",
      "dummy_bami.bai  107.51 KiB / 107.51 KiB [==============================] 100.00%\n",
      "dummy_clinical.txt  5.25 KiB / 5.25 KiB [==============================] 100.00%\n",
      "dummy_lipids.csv  45.57 KiB / 45.57 KiB [==============================] 100.00%\n",
      "dummy_bam.bam  219.54 KiB / 219.54 KiB [===============================] 100.00%\n",
      "dummy_serum.tsv  742 B / 742 B [=======================================] 100.00%\n",
      "\n",
      "\n",
      "Submission Results\n",
      "Finished with 0 retries | 23\n",
      "Finished with 1 retry   | 0\n",
      "TOTAL                   | 23\n"
     ]
    }
   ],
   "source": [
    "# Uploading dummy files\n",
    "!gen3-client upload-multiple --profile=dummy --manifest=/Users/harrijh/projects/ACDCSchemaDev/output/synthetic_data/manifests/20250623_manifest.json --upload-path=/Users/harrijh/projects/ACDCSchemaDev/gen3schemadev/file_type_templates/ --numparallel=8"
   ]
  },
  {
   "cell_type": "code",
   "execution_count": 6,
   "metadata": {
    "vscode": {
     "languageId": "shellscript"
    }
   },
   "outputs": [
    {
     "name": "stdout",
     "output_type": "stream",
     "text": [
      "\u001b[31m/Users/harrijh/.gen3/logs/dummy_failed_log_20250623171254AEST.json\u001b[m\u001b[m\n",
      "\u001b[31m/Users/harrijh/.gen3/logs/dummy_message_log_20250623171253AEST.log\u001b[m\u001b[m\n",
      "\u001b[31m/Users/harrijh/.gen3/logs/dummy_succeeded_log.json\u001b[m\u001b[m\n"
     ]
    }
   ],
   "source": [
    "!ls /Users/harrijh/.gen3/logs/*"
   ]
  },
  {
   "cell_type": "markdown",
   "metadata": {},
   "source": [
    "# Extracting GUIDs from Gen3 Upload\n",
    "- Saves a json with filenames and guids created by indexd through gen3-client"
   ]
  },
  {
   "cell_type": "code",
   "execution_count": null,
   "metadata": {},
   "outputs": [],
   "source": [
    "# # For multiple projects\n",
    "# log_path = '/Users/harrijh/.gen3/logs'\n",
    "# output_dir = '/Users/harrijh/projects/ACDCSchemaDev/output/synthetic_data/indexd_guids'\n",
    "# for project_id in project_list_custom:\n",
    "#     gen3schemadev.gen3datasubmitter.extract_gen3_guids(log_path, project_id, output_dir)"
   ]
  },
  {
   "cell_type": "code",
   "execution_count": 7,
   "metadata": {},
   "outputs": [
    {
     "name": "stdout",
     "output_type": "stream",
     "text": [
      "Extracting data from /Users/harrijh/.gen3/logs/dummy_succeeded_log.json\n",
      "Writing data to /Users/harrijh/projects/ACDCSchemaDev/output/synthetic_data/indexd_guids/20250623_dummy_succeeded_log.json\n",
      "Manifest file written to /Users/harrijh/projects/ACDCSchemaDev/output/synthetic_data/indexd_guids/20250623_dummy_succeeded_log.json\n"
     ]
    },
    {
     "data": {
      "text/plain": [
       "[{'date_time': '2025-06-23T17:13:09.401609',\n",
       "  'project_id': 'dummy',\n",
       "  'file_name': 'dummy_bam.bam',\n",
       "  'object_id': 'PREFIX/ee08cf88-b1a0-4c5f-9a09-b18b3f727272'},\n",
       " {'date_time': '2025-06-23T17:13:09.401638',\n",
       "  'project_id': 'dummy',\n",
       "  'file_name': 'dummy_bami.bai',\n",
       "  'object_id': 'PREFIX/4d9c92ef-f627-4946-a9cd-a71f7a82a676'},\n",
       " {'date_time': '2025-06-23T17:13:09.401642',\n",
       "  'project_id': 'dummy',\n",
       "  'file_name': 'dummy_bami.bam.bai',\n",
       "  'object_id': 'PREFIX/b1fbcfef-fba4-4373-908c-f2af956a005a'},\n",
       " {'date_time': '2025-06-23T17:13:09.401645',\n",
       "  'project_id': 'dummy',\n",
       "  'file_name': 'dummy_clinical.csv',\n",
       "  'object_id': 'PREFIX/b331b520-ca52-4803-aa89-5b7c4b59c4b1'},\n",
       " {'date_time': '2025-06-23T17:13:09.401648',\n",
       "  'project_id': 'dummy',\n",
       "  'file_name': 'dummy_clinical.tsv',\n",
       "  'object_id': 'PREFIX/61f55093-6025-40a5-92bd-52b1c9594423'},\n",
       " {'date_time': '2025-06-23T17:13:09.401651',\n",
       "  'project_id': 'dummy',\n",
       "  'file_name': 'dummy_clinical.txt',\n",
       "  'object_id': 'PREFIX/5e51a2be-a865-465b-8b9a-b9a153f681e1'},\n",
       " {'date_time': '2025-06-23T17:13:09.401654',\n",
       "  'project_id': 'dummy',\n",
       "  'file_name': 'dummy_cram.cram',\n",
       "  'object_id': 'PREFIX/b3f6ae44-cfee-4d4d-97f8-828947ce8dc6'},\n",
       " {'date_time': '2025-06-23T17:13:09.401658',\n",
       "  'project_id': 'dummy',\n",
       "  'file_name': 'dummy_crami.crai',\n",
       "  'object_id': 'PREFIX/715422be-22d9-4244-a298-3c32bdb162f5'},\n",
       " {'date_time': '2025-06-23T17:13:09.401661',\n",
       "  'project_id': 'dummy',\n",
       "  'file_name': 'dummy_crami.cram.crai',\n",
       "  'object_id': 'PREFIX/2784ef53-60a1-4bd4-b693-bf329e986424'},\n",
       " {'date_time': '2025-06-23T17:13:09.401675',\n",
       "  'project_id': 'dummy',\n",
       "  'file_name': 'dummy_fastq.fastq.gz',\n",
       "  'object_id': 'PREFIX/9634db71-898e-4f5e-8c82-c0957750cf85'},\n",
       " {'date_time': '2025-06-23T17:13:09.401680',\n",
       "  'project_id': 'dummy',\n",
       "  'file_name': 'dummy_image.dcm',\n",
       "  'object_id': 'PREFIX/15450f3b-4d62-457a-a496-f78e6297beb5'},\n",
       " {'date_time': '2025-06-23T17:13:09.401683',\n",
       "  'project_id': 'dummy',\n",
       "  'file_name': 'dummy_image.nii',\n",
       "  'object_id': 'PREFIX/c28366fa-f735-4f2e-b304-da3a277ef8c6'},\n",
       " {'date_time': '2025-06-23T17:13:09.401686',\n",
       "  'project_id': 'dummy',\n",
       "  'file_name': 'dummy_lipids.csv',\n",
       "  'object_id': 'PREFIX/1e29a6d5-b6de-423d-9d57-51d13c053cf3'},\n",
       " {'date_time': '2025-06-23T17:13:09.401689',\n",
       "  'project_id': 'dummy',\n",
       "  'file_name': 'dummy_lipids.tsv',\n",
       "  'object_id': 'PREFIX/938fd7ac-29a7-4205-8b61-b0d23d24b5eb'},\n",
       " {'date_time': '2025-06-23T17:13:09.401691',\n",
       "  'project_id': 'dummy',\n",
       "  'file_name': 'dummy_lipids.txt',\n",
       "  'object_id': 'PREFIX/fe0fd2dc-359c-4536-b872-2625aa5e1a36'},\n",
       " {'date_time': '2025-06-23T17:13:09.401694',\n",
       "  'project_id': 'dummy',\n",
       "  'file_name': 'dummy_metab.wiff',\n",
       "  'object_id': 'PREFIX/0458688b-4415-4d69-949b-365030834e14'},\n",
       " {'date_time': '2025-06-23T17:13:09.401696',\n",
       "  'project_id': 'dummy',\n",
       "  'file_name': 'dummy_prot.mgf',\n",
       "  'object_id': 'PREFIX/363c32cd-9926-4b32-a765-6641836466c7'},\n",
       " {'date_time': '2025-06-23T17:13:09.401699',\n",
       "  'project_id': 'dummy',\n",
       "  'file_name': 'dummy_serum.csv',\n",
       "  'object_id': 'PREFIX/8716e7d9-cece-448d-9ccb-39f95a369d5f'},\n",
       " {'date_time': '2025-06-23T17:13:09.401701',\n",
       "  'project_id': 'dummy',\n",
       "  'file_name': 'dummy_serum.tsv',\n",
       "  'object_id': 'PREFIX/20f2822b-a7a3-492f-98a2-60910147f940'},\n",
       " {'date_time': '2025-06-23T17:13:09.401704',\n",
       "  'project_id': 'dummy',\n",
       "  'file_name': 'dummy_serum.txt',\n",
       "  'object_id': 'PREFIX/aa3e6b23-82ad-4576-a336-05250a11c644'},\n",
       " {'date_time': '2025-06-23T17:13:09.401706',\n",
       "  'project_id': 'dummy',\n",
       "  'file_name': 'dummy_varbed.bed',\n",
       "  'object_id': 'PREFIX/1ccafe5c-ac7d-401b-8977-a93729c99ed3'},\n",
       " {'date_time': '2025-06-23T17:13:09.401709',\n",
       "  'project_id': 'dummy',\n",
       "  'file_name': 'dummy_vcf.vcf',\n",
       "  'object_id': 'PREFIX/f32b5356-ee9b-4ffd-8e9b-40cc610aaf94'},\n",
       " {'date_time': '2025-06-23T17:13:09.401712',\n",
       "  'project_id': 'dummy',\n",
       "  'file_name': 'dummy_vcf.vcf.gz',\n",
       "  'object_id': 'PREFIX/92ca471c-39c5-41c1-8d65-53c411718f19'}]"
      ]
     },
     "execution_count": 7,
     "metadata": {},
     "output_type": "execute_result"
    }
   ],
   "source": [
    "# For Dummy File Upload\n",
    "log_path = '/Users/harrijh/.gen3/logs'\n",
    "output_dir = '/Users/harrijh/projects/ACDCSchemaDev/output/synthetic_data/indexd_guids'\n",
    "project_id = 'dummy'\n",
    "gen3schemadev.gen3synthdata.extract_gen3_guids(log_path, project_id, output_dir)"
   ]
  },
  {
   "cell_type": "markdown",
   "metadata": {},
   "source": [
    "- Might be a good idea to copy the log files to the repo and parse that to the extract_gen3_guids function"
   ]
  },
  {
   "cell_type": "markdown",
   "metadata": {},
   "source": [
    "# Deleting files from S3 and indexd:\n",
    "- Use with caution!!!\n",
    "- [python script to delete files from indexd](https://github.com/uc-cdis/planx-bioinfo-tools/blob/master/submission_tool/delete_unmapped_files.py)"
   ]
  },
  {
   "cell_type": "code",
   "execution_count": null,
   "metadata": {
    "vscode": {
     "languageId": "shellscript"
    }
   },
   "outputs": [],
   "source": [
    "!pyt<DELETE-ME-TO-RUN>hon3 delete_unmapped_files.py -a https://data.test.biocommons.org.au/ -u josh.harris -c /Users/harrijh/keys/acdc_api_key_test.json"
   ]
  },
  {
   "cell_type": "code",
   "execution_count": null,
   "metadata": {
    "vscode": {
     "languageId": "shellscript"
    }
   },
   "outputs": [],
   "source": [
    "# !python3 delete_unmapped_files.py -a https://data.test.biocommons.org.au/ -u josh.harris -c /Users/harrijh/keys/acdc_api_key_test.json"
   ]
  },
  {
   "cell_type": "markdown",
   "metadata": {},
   "source": [
    "# Update Metadata with Indexd GUIDs\n",
    "- Queries indexd, adds object_id and md5 to metadata then saves to indexd folder\n",
    "- Note: Make sure you give indexd enough time to register guids after uploading to bucket with gen3-client"
   ]
  },
  {
   "cell_type": "code",
   "execution_count": null,
   "metadata": {},
   "outputs": [],
   "source": [
    "# # For copied synthetic files\n",
    "# auth_file = '/Users/harrijh/keys/acdc_api_key_test.json'\n",
    "# date = \"20240816\"\n",
    "# for project_id in project_list:\n",
    "#     base_dir = f'output/synthetic_data/transformed/{project_id}'\n",
    "#     indexd_guid_file = f'output/synthetic_data/indexd_guids/{date}_{project_id}_succeeded_log.json'\n",
    "#     gen3schemadev.gen3datasubmitter.update_metadata(base_dir, auth_file, indexd_guid_file)"
   ]
  },
  {
   "cell_type": "code",
   "execution_count": 8,
   "metadata": {
    "vscode": {
     "languageId": "shellscript"
    }
   },
   "outputs": [
    {
     "ename": "SyntaxError",
     "evalue": "invalid syntax (2980758285.py, line 2)",
     "output_type": "error",
     "traceback": [
      "\u001b[0;36m  Cell \u001b[0;32mIn[8], line 2\u001b[0;36m\u001b[0m\n\u001b[0;31m    cd ~/projects/ACDCSchemaDev\u001b[0m\n\u001b[0m       ^\u001b[0m\n\u001b[0;31mSyntaxError\u001b[0m\u001b[0;31m:\u001b[0m invalid syntax\n"
     ]
    }
   ],
   "source": [
    "# This takes a while run in seperate terminal window\n",
    "cd ~/projects/ACDCSchemaDev\n",
    "source .venv/bin/activate\n",
    "project_ids=(\"BioHeart-CT_Simulated\" \"AusDiab_Simulated\" \"PREDICT_Simulated\" \"EDCAD-PMS_Simulated\" \"Baker-Biobank_Simulated\" \"CAUGHT-CAD_Simulated\")\n",
    "python3 scripts/update_metadata_indexd_cli.py -d output/synthetic_data/transformed/ -a /Users/harrijh/keys/acdc_api_key_test.json -i output/synthetic_data/indexd_guids/20250623_dummy_succeeded_log.json -p \"${project_ids[@]}\""
   ]
  },
  {
   "cell_type": "markdown",
   "metadata": {},
   "source": [
    "# Checking json metadata files have been updated with indexd object IDs\n",
    "- reads a json metadata file and checks if a data object has been updated with the indexd object ID\n"
   ]
  },
  {
   "cell_type": "code",
   "execution_count": 9,
   "metadata": {},
   "outputs": [],
   "source": [
    "import glob\n",
    "import gen3schemadev\n",
    "def unlinked_results(project_id):\n",
    "    # checking for unlinked objects\n",
    "    baseDir = f\"output/synthetic_data/transformed/{project_id}/indexd/\"\n",
    "    names_files = glob.glob(f\"{baseDir}/*_file.json\")\n",
    "    for name_file in names_files:\n",
    "        gen3schemadev.gen3synthdata.check_unlinked_objects(name_file)\n",
    "\n",
    "for project_id in project_list_custom:\n",
    "    unlinked_results(project_id)"
   ]
  },
  {
   "cell_type": "markdown",
   "metadata": {},
   "source": [
    "# Copying remaining metadata to indexd folder\n",
    "- The previous function copied the metadata to `./indexd` which contains the file nodes with updated indexd guids\n",
    "- Now we just need to copy the rest of the metadata files into this folder to complete the set"
   ]
  },
  {
   "cell_type": "code",
   "execution_count": 10,
   "metadata": {},
   "outputs": [
    {
     "name": "stdout",
     "output_type": "stream",
     "text": [
      "Found 21 non-file nodes in output/synthetic_data/transformed/BioHeart-CT_Simulated\n",
      "Copying non-file node: lipidomics_assay.json to output/synthetic_data/transformed/BioHeart-CT_Simulated/indexd\n",
      "Copying non-file node: demographic.json to output/synthetic_data/transformed/BioHeart-CT_Simulated/indexd\n",
      "Copying non-file node: alignment_workflow.json to output/synthetic_data/transformed/BioHeart-CT_Simulated/indexd\n",
      "Copying non-file node: serum_marker_assay.json to output/synthetic_data/transformed/BioHeart-CT_Simulated/indexd\n",
      "Copying non-file node: project.json to output/synthetic_data/transformed/BioHeart-CT_Simulated/indexd\n",
      "Copying non-file node: program.json to output/synthetic_data/transformed/BioHeart-CT_Simulated/indexd\n",
      "Copying non-file node: timepoint.json to output/synthetic_data/transformed/BioHeart-CT_Simulated/indexd\n",
      "Copying non-file node: genomics_assay.json to output/synthetic_data/transformed/BioHeart-CT_Simulated/indexd\n",
      "Copying non-file node: blood_pressure_test.json to output/synthetic_data/transformed/BioHeart-CT_Simulated/indexd\n",
      "Copying non-file node: proteomics_assay.json to output/synthetic_data/transformed/BioHeart-CT_Simulated/indexd\n",
      "Copying non-file node: DataImportOrder.txt to output/synthetic_data/transformed/BioHeart-CT_Simulated/indexd\n",
      "Copying non-file node: medical_history.json to output/synthetic_data/transformed/BioHeart-CT_Simulated/indexd\n",
      "Copying non-file node: variant_workflow.json to output/synthetic_data/transformed/BioHeart-CT_Simulated/indexd\n",
      "Copying non-file node: metabolomics_assay.json to output/synthetic_data/transformed/BioHeart-CT_Simulated/indexd\n",
      "Copying non-file node: exposure.json to output/synthetic_data/transformed/BioHeart-CT_Simulated/indexd\n",
      "Copying non-file node: sample.json to output/synthetic_data/transformed/BioHeart-CT_Simulated/indexd\n",
      "Copying non-file node: subject.json to output/synthetic_data/transformed/BioHeart-CT_Simulated/indexd\n",
      "Copying non-file node: medication.json to output/synthetic_data/transformed/BioHeart-CT_Simulated/indexd\n",
      "Copying non-file node: core_metadata_collection.json to output/synthetic_data/transformed/BioHeart-CT_Simulated/indexd\n",
      "Skipping directory: indexd\n",
      "Copying non-file node: lab_result.json to output/synthetic_data/transformed/BioHeart-CT_Simulated/indexd\n",
      "Copying DataImportOrder.txt to output/synthetic_data/transformed/BioHeart-CT_Simulated/indexd\n",
      "Found 21 non-file nodes in output/synthetic_data/transformed/AusDiab_Simulated\n",
      "Copying non-file node: lipidomics_assay.json to output/synthetic_data/transformed/AusDiab_Simulated/indexd\n",
      "Copying non-file node: demographic.json to output/synthetic_data/transformed/AusDiab_Simulated/indexd\n",
      "Copying non-file node: alignment_workflow.json to output/synthetic_data/transformed/AusDiab_Simulated/indexd\n",
      "Copying non-file node: serum_marker_assay.json to output/synthetic_data/transformed/AusDiab_Simulated/indexd\n",
      "Copying non-file node: project.json to output/synthetic_data/transformed/AusDiab_Simulated/indexd\n",
      "Copying non-file node: program.json to output/synthetic_data/transformed/AusDiab_Simulated/indexd\n",
      "Copying non-file node: timepoint.json to output/synthetic_data/transformed/AusDiab_Simulated/indexd\n",
      "Copying non-file node: genomics_assay.json to output/synthetic_data/transformed/AusDiab_Simulated/indexd\n",
      "Copying non-file node: blood_pressure_test.json to output/synthetic_data/transformed/AusDiab_Simulated/indexd\n",
      "Copying non-file node: proteomics_assay.json to output/synthetic_data/transformed/AusDiab_Simulated/indexd\n",
      "Copying non-file node: DataImportOrder.txt to output/synthetic_data/transformed/AusDiab_Simulated/indexd\n",
      "Copying non-file node: medical_history.json to output/synthetic_data/transformed/AusDiab_Simulated/indexd\n",
      "Copying non-file node: variant_workflow.json to output/synthetic_data/transformed/AusDiab_Simulated/indexd\n",
      "Copying non-file node: metabolomics_assay.json to output/synthetic_data/transformed/AusDiab_Simulated/indexd\n",
      "Copying non-file node: exposure.json to output/synthetic_data/transformed/AusDiab_Simulated/indexd\n",
      "Copying non-file node: sample.json to output/synthetic_data/transformed/AusDiab_Simulated/indexd\n",
      "Copying non-file node: subject.json to output/synthetic_data/transformed/AusDiab_Simulated/indexd\n",
      "Copying non-file node: medication.json to output/synthetic_data/transformed/AusDiab_Simulated/indexd\n",
      "Copying non-file node: core_metadata_collection.json to output/synthetic_data/transformed/AusDiab_Simulated/indexd\n",
      "Skipping directory: indexd\n",
      "Copying non-file node: lab_result.json to output/synthetic_data/transformed/AusDiab_Simulated/indexd\n",
      "Copying DataImportOrder.txt to output/synthetic_data/transformed/AusDiab_Simulated/indexd\n",
      "Found 21 non-file nodes in output/synthetic_data/transformed/PREDICT_Simulated\n",
      "Copying non-file node: lipidomics_assay.json to output/synthetic_data/transformed/PREDICT_Simulated/indexd\n",
      "Copying non-file node: demographic.json to output/synthetic_data/transformed/PREDICT_Simulated/indexd\n",
      "Copying non-file node: alignment_workflow.json to output/synthetic_data/transformed/PREDICT_Simulated/indexd\n",
      "Copying non-file node: serum_marker_assay.json to output/synthetic_data/transformed/PREDICT_Simulated/indexd\n",
      "Copying non-file node: project.json to output/synthetic_data/transformed/PREDICT_Simulated/indexd\n",
      "Copying non-file node: program.json to output/synthetic_data/transformed/PREDICT_Simulated/indexd\n",
      "Copying non-file node: timepoint.json to output/synthetic_data/transformed/PREDICT_Simulated/indexd\n",
      "Copying non-file node: genomics_assay.json to output/synthetic_data/transformed/PREDICT_Simulated/indexd\n",
      "Copying non-file node: blood_pressure_test.json to output/synthetic_data/transformed/PREDICT_Simulated/indexd\n",
      "Copying non-file node: proteomics_assay.json to output/synthetic_data/transformed/PREDICT_Simulated/indexd\n",
      "Copying non-file node: DataImportOrder.txt to output/synthetic_data/transformed/PREDICT_Simulated/indexd\n",
      "Copying non-file node: medical_history.json to output/synthetic_data/transformed/PREDICT_Simulated/indexd\n",
      "Copying non-file node: variant_workflow.json to output/synthetic_data/transformed/PREDICT_Simulated/indexd\n",
      "Copying non-file node: metabolomics_assay.json to output/synthetic_data/transformed/PREDICT_Simulated/indexd\n",
      "Copying non-file node: exposure.json to output/synthetic_data/transformed/PREDICT_Simulated/indexd\n",
      "Copying non-file node: sample.json to output/synthetic_data/transformed/PREDICT_Simulated/indexd\n",
      "Copying non-file node: subject.json to output/synthetic_data/transformed/PREDICT_Simulated/indexd\n",
      "Copying non-file node: medication.json to output/synthetic_data/transformed/PREDICT_Simulated/indexd\n",
      "Copying non-file node: core_metadata_collection.json to output/synthetic_data/transformed/PREDICT_Simulated/indexd\n",
      "Skipping directory: indexd\n",
      "Copying non-file node: lab_result.json to output/synthetic_data/transformed/PREDICT_Simulated/indexd\n",
      "Copying DataImportOrder.txt to output/synthetic_data/transformed/PREDICT_Simulated/indexd\n",
      "Found 21 non-file nodes in output/synthetic_data/transformed/EDCAD-PMS_Simulated\n",
      "Copying non-file node: lipidomics_assay.json to output/synthetic_data/transformed/EDCAD-PMS_Simulated/indexd\n",
      "Copying non-file node: demographic.json to output/synthetic_data/transformed/EDCAD-PMS_Simulated/indexd\n",
      "Copying non-file node: alignment_workflow.json to output/synthetic_data/transformed/EDCAD-PMS_Simulated/indexd\n",
      "Copying non-file node: serum_marker_assay.json to output/synthetic_data/transformed/EDCAD-PMS_Simulated/indexd\n",
      "Copying non-file node: project.json to output/synthetic_data/transformed/EDCAD-PMS_Simulated/indexd\n",
      "Copying non-file node: program.json to output/synthetic_data/transformed/EDCAD-PMS_Simulated/indexd\n",
      "Copying non-file node: timepoint.json to output/synthetic_data/transformed/EDCAD-PMS_Simulated/indexd\n",
      "Copying non-file node: genomics_assay.json to output/synthetic_data/transformed/EDCAD-PMS_Simulated/indexd\n",
      "Copying non-file node: blood_pressure_test.json to output/synthetic_data/transformed/EDCAD-PMS_Simulated/indexd\n",
      "Copying non-file node: proteomics_assay.json to output/synthetic_data/transformed/EDCAD-PMS_Simulated/indexd\n",
      "Copying non-file node: DataImportOrder.txt to output/synthetic_data/transformed/EDCAD-PMS_Simulated/indexd\n",
      "Copying non-file node: medical_history.json to output/synthetic_data/transformed/EDCAD-PMS_Simulated/indexd\n",
      "Copying non-file node: variant_workflow.json to output/synthetic_data/transformed/EDCAD-PMS_Simulated/indexd\n",
      "Copying non-file node: metabolomics_assay.json to output/synthetic_data/transformed/EDCAD-PMS_Simulated/indexd\n",
      "Copying non-file node: exposure.json to output/synthetic_data/transformed/EDCAD-PMS_Simulated/indexd\n",
      "Copying non-file node: sample.json to output/synthetic_data/transformed/EDCAD-PMS_Simulated/indexd\n",
      "Copying non-file node: subject.json to output/synthetic_data/transformed/EDCAD-PMS_Simulated/indexd\n",
      "Copying non-file node: medication.json to output/synthetic_data/transformed/EDCAD-PMS_Simulated/indexd\n",
      "Copying non-file node: core_metadata_collection.json to output/synthetic_data/transformed/EDCAD-PMS_Simulated/indexd\n",
      "Skipping directory: indexd\n",
      "Copying non-file node: lab_result.json to output/synthetic_data/transformed/EDCAD-PMS_Simulated/indexd\n",
      "Copying DataImportOrder.txt to output/synthetic_data/transformed/EDCAD-PMS_Simulated/indexd\n",
      "Found 21 non-file nodes in output/synthetic_data/transformed/Baker-Biobank_Simulated\n",
      "Copying non-file node: lipidomics_assay.json to output/synthetic_data/transformed/Baker-Biobank_Simulated/indexd\n",
      "Copying non-file node: demographic.json to output/synthetic_data/transformed/Baker-Biobank_Simulated/indexd\n",
      "Copying non-file node: alignment_workflow.json to output/synthetic_data/transformed/Baker-Biobank_Simulated/indexd\n",
      "Copying non-file node: serum_marker_assay.json to output/synthetic_data/transformed/Baker-Biobank_Simulated/indexd\n",
      "Copying non-file node: project.json to output/synthetic_data/transformed/Baker-Biobank_Simulated/indexd\n",
      "Copying non-file node: program.json to output/synthetic_data/transformed/Baker-Biobank_Simulated/indexd\n",
      "Copying non-file node: timepoint.json to output/synthetic_data/transformed/Baker-Biobank_Simulated/indexd\n",
      "Copying non-file node: genomics_assay.json to output/synthetic_data/transformed/Baker-Biobank_Simulated/indexd\n",
      "Copying non-file node: blood_pressure_test.json to output/synthetic_data/transformed/Baker-Biobank_Simulated/indexd\n",
      "Copying non-file node: proteomics_assay.json to output/synthetic_data/transformed/Baker-Biobank_Simulated/indexd\n",
      "Copying non-file node: DataImportOrder.txt to output/synthetic_data/transformed/Baker-Biobank_Simulated/indexd\n",
      "Copying non-file node: medical_history.json to output/synthetic_data/transformed/Baker-Biobank_Simulated/indexd\n",
      "Copying non-file node: variant_workflow.json to output/synthetic_data/transformed/Baker-Biobank_Simulated/indexd\n",
      "Copying non-file node: metabolomics_assay.json to output/synthetic_data/transformed/Baker-Biobank_Simulated/indexd\n",
      "Copying non-file node: exposure.json to output/synthetic_data/transformed/Baker-Biobank_Simulated/indexd\n",
      "Copying non-file node: sample.json to output/synthetic_data/transformed/Baker-Biobank_Simulated/indexd\n",
      "Copying non-file node: subject.json to output/synthetic_data/transformed/Baker-Biobank_Simulated/indexd\n",
      "Copying non-file node: medication.json to output/synthetic_data/transformed/Baker-Biobank_Simulated/indexd\n",
      "Copying non-file node: core_metadata_collection.json to output/synthetic_data/transformed/Baker-Biobank_Simulated/indexd\n",
      "Skipping directory: indexd\n",
      "Copying non-file node: lab_result.json to output/synthetic_data/transformed/Baker-Biobank_Simulated/indexd\n",
      "Copying DataImportOrder.txt to output/synthetic_data/transformed/Baker-Biobank_Simulated/indexd\n",
      "Found 21 non-file nodes in output/synthetic_data/transformed/CAUGHT-CAD_Simulated\n",
      "Copying non-file node: lipidomics_assay.json to output/synthetic_data/transformed/CAUGHT-CAD_Simulated/indexd\n",
      "Copying non-file node: demographic.json to output/synthetic_data/transformed/CAUGHT-CAD_Simulated/indexd\n",
      "Copying non-file node: alignment_workflow.json to output/synthetic_data/transformed/CAUGHT-CAD_Simulated/indexd\n",
      "Copying non-file node: serum_marker_assay.json to output/synthetic_data/transformed/CAUGHT-CAD_Simulated/indexd\n",
      "Copying non-file node: project.json to output/synthetic_data/transformed/CAUGHT-CAD_Simulated/indexd\n",
      "Copying non-file node: program.json to output/synthetic_data/transformed/CAUGHT-CAD_Simulated/indexd\n",
      "Copying non-file node: timepoint.json to output/synthetic_data/transformed/CAUGHT-CAD_Simulated/indexd\n",
      "Copying non-file node: genomics_assay.json to output/synthetic_data/transformed/CAUGHT-CAD_Simulated/indexd\n",
      "Copying non-file node: blood_pressure_test.json to output/synthetic_data/transformed/CAUGHT-CAD_Simulated/indexd\n",
      "Copying non-file node: proteomics_assay.json to output/synthetic_data/transformed/CAUGHT-CAD_Simulated/indexd\n",
      "Copying non-file node: DataImportOrder.txt to output/synthetic_data/transformed/CAUGHT-CAD_Simulated/indexd\n",
      "Copying non-file node: medical_history.json to output/synthetic_data/transformed/CAUGHT-CAD_Simulated/indexd\n",
      "Copying non-file node: variant_workflow.json to output/synthetic_data/transformed/CAUGHT-CAD_Simulated/indexd\n",
      "Copying non-file node: metabolomics_assay.json to output/synthetic_data/transformed/CAUGHT-CAD_Simulated/indexd\n",
      "Copying non-file node: exposure.json to output/synthetic_data/transformed/CAUGHT-CAD_Simulated/indexd\n",
      "Copying non-file node: sample.json to output/synthetic_data/transformed/CAUGHT-CAD_Simulated/indexd\n",
      "Copying non-file node: subject.json to output/synthetic_data/transformed/CAUGHT-CAD_Simulated/indexd\n",
      "Copying non-file node: medication.json to output/synthetic_data/transformed/CAUGHT-CAD_Simulated/indexd\n",
      "Copying non-file node: core_metadata_collection.json to output/synthetic_data/transformed/CAUGHT-CAD_Simulated/indexd\n",
      "Skipping directory: indexd\n",
      "Copying non-file node: lab_result.json to output/synthetic_data/transformed/CAUGHT-CAD_Simulated/indexd\n",
      "Copying DataImportOrder.txt to output/synthetic_data/transformed/CAUGHT-CAD_Simulated/indexd\n"
     ]
    }
   ],
   "source": [
    "gen3 = gen3schemadev.gen3synthdata\n",
    "for project_id in project_list_custom:\n",
    "    gen3.copy_remaining_metadata(f\"output/synthetic_data/transformed/{project_id}\")"
   ]
  },
  {
   "cell_type": "markdown",
   "metadata": {},
   "source": [
    "# Copying manually defined project metadata\n"
   ]
  },
  {
   "cell_type": "code",
   "execution_count": 11,
   "metadata": {},
   "outputs": [
    {
     "name": "stdout",
     "output_type": "stream",
     "text": [
      "Successfully wrote metadata for project code: AusDiab_Simulated to output/synthetic_data/transformed/AusDiab_Simulated/indexd/project.json\n",
      "Successfully wrote metadata for project code: PREDICT_Simulated to output/synthetic_data/transformed/PREDICT_Simulated/indexd/project.json\n",
      "Successfully wrote metadata for project code: EDCAD-PMS_Simulated to output/synthetic_data/transformed/EDCAD-PMS_Simulated/indexd/project.json\n",
      "Successfully wrote metadata for project code: Baker-Biobank_Simulated to output/synthetic_data/transformed/Baker-Biobank_Simulated/indexd/project.json\n",
      "Successfully wrote metadata for project code: CAUGHT-CAD_Simulated to output/synthetic_data/transformed/CAUGHT-CAD_Simulated/indexd/project.json\n",
      "Successfully wrote metadata for project code: BioHeart-CT_Simulated to output/synthetic_data/transformed/BioHeart-CT_Simulated/indexd/project.json\n"
     ]
    }
   ],
   "source": [
    "import json\n",
    "project_json_fp = \"manual_metadata/project.json\"\n",
    "metadata_dir = \"output/synthetic_data/transformed\"\n",
    "\n",
    "def load_json(path:str) -> list:\n",
    "    with open(path, 'r') as f:\n",
    "        return json.load(f)\n",
    "    \n",
    "def list_project_codes(metadata: list) -> list:\n",
    "    return [project['code'] for project in metadata]\n",
    "\n",
    "def pull_project_metadata(metadata: list, code: str) -> dict:\n",
    "    for project in metadata:\n",
    "        if project['code'] == code:\n",
    "            return project\n",
    "    raise ValueError(f\"Project with code '{code}' not found.\")\n",
    "\n",
    "def write_project_metadata(metadata: list, code: str, path: str) -> None:\n",
    "    project = pull_project_metadata(metadata, code)\n",
    "    with open(path, 'w') as f:\n",
    "        json.dump(project, f, indent=4)\n",
    "    print(f\"Successfully wrote metadata for project code: {code} to {path}\")\n",
    "\n",
    "project_metadata = load_json(project_json_fp)\n",
    "project_list = list_project_codes(project_metadata)\n",
    "\n",
    "\n",
    "for project in project_list:\n",
    "    write_project_metadata(project_metadata, project, f\"{metadata_dir}/{project}/indexd/project.json\")"
   ]
  },
  {
   "cell_type": "markdown",
   "metadata": {},
   "source": [
    "# Testing Gen3 API and Authentication"
   ]
  },
  {
   "cell_type": "code",
   "execution_count": null,
   "metadata": {},
   "outputs": [],
   "source": [
    "from acdctools import api_test\n",
    "# Example usage\n",
    "api_endpoint = 'https://data.test.biocommons.org.au/api/v0/'\n",
    "credentials = '/Users/harrijh/keys/acdc_api_key_test.json'\n",
    "project_id = 'AusDiab_Simulated'\n",
    "jsn = [\n",
    "    {\n",
    "        \"acknowledgee\": \"sam smith\",\n",
    "        \"contact_type\": \"Data custodian\",\n",
    "        \"orcid\": \"0000-5728-8625-9778\",\n",
    "        \"projects\": {\n",
    "            \"code\": project_id\n",
    "        },\n",
    "        \"submitter_id\": \"acknowledgement_5484634bas\",\n",
    "        \"type\": \"acknowledgement\"\n",
    "    }\n",
    "]\n",
    "\n",
    "api_test.test_gen3_submission(api_endpoint, credentials, project_id, jsn)"
   ]
  },
  {
   "cell_type": "markdown",
   "metadata": {},
   "source": [
    "# Submitting Metadata and Data Files to Gen3"
   ]
  },
  {
   "cell_type": "markdown",
   "metadata": {},
   "source": [
    "## Submitting Project Metadata"
   ]
  },
  {
   "cell_type": "code",
   "execution_count": null,
   "metadata": {},
   "outputs": [],
   "source": [
    "import json\n",
    "from gen3.auth import Gen3Auth\n",
    "from gen3.submission import Gen3Submission\n",
    "\n",
    "def submit_project(json_path: str, credentials: str, program: str = 'program1') -> None:\n",
    "    try:\n",
    "        with open(json_path, 'r') as f:\n",
    "            jsn = json.load(f)\n",
    "        \n",
    "        auth = Gen3Auth(refresh_file=credentials)\n",
    "        submit = Gen3Submission(auth)\n",
    "        submit.create_project(program, jsn)\n",
    "        \n",
    "        print(f\"Success: Project created with JSON from {json_path}\")\n",
    "    except Exception as e:\n",
    "        print(f\"Error: Failed to create project with JSON from {json_path}. Exception: {e}\")\n",
    "    \n",
    "    return\n",
    "\n",
    "# for project in project_list_custom:\n",
    "#     submit_project(f\"output/synthetic_data/transformed/{project}/indexd/project.json\", '/Users/harrijh/keys/acdc_api_key_test.json')\n",
    "    "
   ]
  },
  {
   "cell_type": "code",
   "execution_count": null,
   "metadata": {},
   "outputs": [],
   "source": [
    "base_dir = 'output/synthetic_data/transformed'\n",
    "api_endpoint = 'https://data.test.biocommons.org.au/api/v0/'\n",
    "credentials = '/Users/harrijh/keys/acdc_api_key_test.json'\n",
    "\n",
    "for project_id in project_list_custom:\n",
    "    gen3schemadev.gen3datasubmitter.submit_metadata(base_dir, project_id, api_endpoint, credentials, dry_run=False, max_submission_size_kb=50, retries=6, disable_input=True)\n",
    "\n",
    "# project_id = project_list_custom[1]\n",
    "# gen3schemadev.gen3datasubmitter.submit_metadata(base_dir, project_id, api_endpoint, credentials, dry_run=False, max_submission_size_kb=50, retries=5, exclude_nodes=[\"program\", \"project\"])"
   ]
  },
  {
   "cell_type": "code",
   "execution_count": null,
   "metadata": {},
   "outputs": [],
   "source": [
    "# base_dir = 'output/synthetic_data/transformed'\n",
    "# api_endpoint = 'https://data.test.biocommons.org.au/api/v0/'\n",
    "# credentials = '/Users/harrijh/keys/acdc_api_key_test.json'\n",
    "\n",
    "# project_id = 'AusDiab_Simulated'\n",
    "# gen3schemadev.gen3datasubmitter.submit_metadata(base_dir, project_id, api_endpoint, credentials, dry_run=False)"
   ]
  },
  {
   "cell_type": "code",
   "execution_count": null,
   "metadata": {},
   "outputs": [],
   "source": [
    "import json\n",
    "import sys\n",
    "\n",
    "def split_json_objects(json_list, max_size_kb=400, print_results=False):\n",
    "    def get_size_in_kb(obj):\n",
    "        return sys.getsizeof(json.dumps(obj)) / 1024\n",
    "\n",
    "    def split_list(json_list):\n",
    "        if get_size_in_kb(json_list) <= max_size_kb:\n",
    "            return [json_list]\n",
    "        \n",
    "        mid = len(json_list) // 2\n",
    "        left_list = json_list[:mid]\n",
    "        right_list = json_list[mid:]\n",
    "        \n",
    "        return split_list(left_list) + split_list(right_list)\n",
    "\n",
    "    split_lists = split_list(json_list)\n",
    "    \n",
    "    if print_results:\n",
    "        for i, lst in enumerate(split_lists):\n",
    "            print(f\"List {i+1} size: {get_size_in_kb(lst):.2f} KB, contains {len(lst)} objects\")\n",
    "    \n",
    "    return split_lists\n",
    "\n",
    "# Example usage\n",
    "json_objects = [\n",
    "    {\"id\": i, \"data\": \"x\" * 60000} for i in range(10)  # Example JSON objects\n",
    "]\n",
    "\n",
    "split_json_lists = split_json_objects(json_objects, print_results=True)"
   ]
  }
 ],
 "metadata": {
  "kernelspec": {
   "display_name": ".venv",
   "language": "python",
   "name": "python3"
  },
  "language_info": {
   "codemirror_mode": {
    "name": "ipython",
    "version": 3
   },
   "file_extension": ".py",
   "mimetype": "text/x-python",
   "name": "python",
   "nbconvert_exporter": "python",
   "pygments_lexer": "ipython3",
   "version": "3.9.5"
  }
 },
 "nbformat": 4,
 "nbformat_minor": 2
}
